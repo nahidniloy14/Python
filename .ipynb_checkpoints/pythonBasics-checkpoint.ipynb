{
 "cells": [
  {
   "cell_type": "markdown",
   "id": "05704ff9-cdb2-4ab2-82b8-f5225c9b0404",
   "metadata": {},
   "source": [
    "# Get Started"
   ]
  },
  {
   "cell_type": "code",
   "execution_count": 1,
   "id": "38d2b04a-bfd3-410a-92ab-6f2f0805fe2f",
   "metadata": {},
   "outputs": [
    {
     "name": "stdout",
     "output_type": "stream",
     "text": [
      "Hello World\n"
     ]
    }
   ],
   "source": [
    "print(\"Hello World\")"
   ]
  },
  {
   "cell_type": "markdown",
   "id": "ee09c863",
   "metadata": {},
   "source": [
    "# Number Operation"
   ]
  },
  {
   "cell_type": "code",
   "execution_count": 2,
   "id": "cbe9c3e7",
   "metadata": {},
   "outputs": [
    {
     "data": {
      "text/plain": [
       "3"
      ]
     },
     "execution_count": 2,
     "metadata": {},
     "output_type": "execute_result"
    }
   ],
   "source": [
    "1+2\n"
   ]
  },
  {
   "cell_type": "code",
   "execution_count": 3,
   "id": "70b4bdfe",
   "metadata": {},
   "outputs": [
    {
     "data": {
      "text/plain": [
       "-1"
      ]
     },
     "execution_count": 3,
     "metadata": {},
     "output_type": "execute_result"
    }
   ],
   "source": [
    "2-3"
   ]
  },
  {
   "cell_type": "code",
   "execution_count": 4,
   "id": "87e9ae68",
   "metadata": {},
   "outputs": [
    {
     "data": {
      "text/plain": [
       "8"
      ]
     },
     "execution_count": 4,
     "metadata": {},
     "output_type": "execute_result"
    }
   ],
   "source": [
    "4*2\n"
   ]
  },
  {
   "cell_type": "markdown",
   "id": "6b07a628-c055-4562-b76e-f25982934809",
   "metadata": {},
   "source": [
    "### ** pow()"
   ]
  },
  {
   "cell_type": "code",
   "execution_count": 5,
   "id": "e9ded105-161b-4fda-b287-3de7e84b3e0c",
   "metadata": {},
   "outputs": [
    {
     "name": "stdout",
     "output_type": "stream",
     "text": [
      "64\n"
     ]
    }
   ],
   "source": [
    "base=4\n",
    "component=3\n",
    "\n",
    "power_value=pow(base,component)\n",
    "print(power_value)"
   ]
  },
  {
   "cell_type": "code",
   "execution_count": 6,
   "id": "ea182839",
   "metadata": {},
   "outputs": [
    {
     "data": {
      "text/plain": [
       "8"
      ]
     },
     "execution_count": 6,
     "metadata": {},
     "output_type": "execute_result"
    }
   ],
   "source": [
    "#2 to the power 3\n",
    "2 ** 3"
   ]
  },
  {
   "cell_type": "markdown",
   "id": "361d41d0-9b12-42bc-a992-6ec3419c9f09",
   "metadata": {},
   "source": [
    "### mod %"
   ]
  },
  {
   "cell_type": "code",
   "execution_count": 7,
   "id": "3259c71d",
   "metadata": {},
   "outputs": [
    {
     "data": {
      "text/plain": [
       "1"
      ]
     },
     "execution_count": 7,
     "metadata": {},
     "output_type": "execute_result"
    }
   ],
   "source": [
    "16%3\n"
   ]
  },
  {
   "cell_type": "code",
   "execution_count": 8,
   "id": "96fa13c6",
   "metadata": {},
   "outputs": [
    {
     "data": {
      "text/plain": [
       "82"
      ]
     },
     "execution_count": 8,
     "metadata": {},
     "output_type": "execute_result"
    }
   ],
   "source": [
    "2+10*(10-2)"
   ]
  },
  {
   "cell_type": "code",
   "execution_count": 9,
   "id": "0bb672ae-4d78-4385-8987-e4f91df021f7",
   "metadata": {},
   "outputs": [
    {
     "data": {
      "text/plain": [
       "2.6666666666666665"
      ]
     },
     "execution_count": 9,
     "metadata": {},
     "output_type": "execute_result"
    }
   ],
   "source": [
    "8/3"
   ]
  },
  {
   "cell_type": "markdown",
   "id": "6cf5fcf5-6e22-471f-8e6e-7b9cd2e51db3",
   "metadata": {},
   "source": [
    "### no remainder //"
   ]
  },
  {
   "cell_type": "code",
   "execution_count": 10,
   "id": "a11b8c12-8e65-4913-a854-7fece9b036b0",
   "metadata": {},
   "outputs": [
    {
     "data": {
      "text/plain": [
       "2"
      ]
     },
     "execution_count": 10,
     "metadata": {},
     "output_type": "execute_result"
    }
   ],
   "source": [
    "8//3 # //provides round figure"
   ]
  },
  {
   "cell_type": "markdown",
   "id": "1df531d8-9a75-4404-9f4c-069f2eb7dd72",
   "metadata": {},
   "source": [
    "### negative to postive (abs)"
   ]
  },
  {
   "cell_type": "code",
   "execution_count": 11,
   "id": "3421882e-a7c2-487c-b682-a38433e5ac20",
   "metadata": {},
   "outputs": [
    {
     "name": "stdout",
     "output_type": "stream",
     "text": [
      "15\n"
     ]
    }
   ],
   "source": [
    "ntp = -15\n",
    "num=abs (ntp)\n",
    "print(num)"
   ]
  },
  {
   "cell_type": "markdown",
   "id": "f4cbd01c-55d3-47e2-9585-a6da1a226560",
   "metadata": {},
   "source": [
    "### Complex Numbers"
   ]
  },
  {
   "cell_type": "code",
   "execution_count": 12,
   "id": "5094e938-dc95-496d-b378-b7738a35dae2",
   "metadata": {},
   "outputs": [
    {
     "data": {
      "text/plain": [
       "complex"
      ]
     },
     "execution_count": 12,
     "metadata": {},
     "output_type": "execute_result"
    }
   ],
   "source": [
    "\n",
    "z= 4j #complex numbers are represented as j in Python\n",
    "\n",
    "type(z)"
   ]
  },
  {
   "cell_type": "markdown",
   "id": "6a2cdcbf-eee0-4592-a4a0-752ae775b429",
   "metadata": {},
   "source": [
    "### Scientific Numbers"
   ]
  },
  {
   "cell_type": "code",
   "execution_count": 13,
   "id": "c564e61d-4c8a-488e-b75e-739756559ca3",
   "metadata": {},
   "outputs": [],
   "source": [
    "x=45e3 #e means 10^"
   ]
  },
  {
   "cell_type": "code",
   "execution_count": 14,
   "id": "4483a334-614a-4c16-bb95-7c210c867288",
   "metadata": {},
   "outputs": [
    {
     "name": "stdout",
     "output_type": "stream",
     "text": [
      "45000.0\n"
     ]
    }
   ],
   "source": [
    "print(x)"
   ]
  },
  {
   "cell_type": "markdown",
   "id": "7b572e1e-ebab-45ec-a186-2ff78605cfa6",
   "metadata": {},
   "source": [
    "### Math library"
   ]
  },
  {
   "cell_type": "code",
   "execution_count": 15,
   "id": "33143617-8672-4bf8-8b26-249020779b93",
   "metadata": {},
   "outputs": [
    {
     "name": "stdout",
     "output_type": "stream",
     "text": [
      "1837.149966660316\n"
     ]
    }
   ],
   "source": [
    "import math\n",
    "distance_to_home=344400\n",
    "gravity=9.8\n",
    "\n",
    "thurst_needed=math.sqrt(gravity*distance_to_home)\n",
    "print(thurst_needed)"
   ]
  },
  {
   "cell_type": "markdown",
   "id": "a4e24763-a1a7-4c74-bf15-86d3733d92ed",
   "metadata": {},
   "source": [
    "### round"
   ]
  },
  {
   "cell_type": "code",
   "execution_count": 16,
   "id": "6e83603e-582b-4978-97f7-ac647310fc01",
   "metadata": {},
   "outputs": [
    {
     "name": "stdout",
     "output_type": "stream",
     "text": [
      "1837\n"
     ]
    }
   ],
   "source": [
    "print(round(thurst_needed))"
   ]
  },
  {
   "cell_type": "markdown",
   "id": "d4db2f58-4e71-4e3c-b03c-f52e7b682430",
   "metadata": {},
   "source": [
    "### ceil, floor"
   ]
  },
  {
   "cell_type": "code",
   "execution_count": 17,
   "id": "ecb51447-2fb6-44dc-b85b-00736ce18247",
   "metadata": {},
   "outputs": [
    {
     "name": "stdout",
     "output_type": "stream",
     "text": [
      "59\n",
      "58\n"
     ]
    }
   ],
   "source": [
    "weight=58.4\n",
    "print(math.ceil(weight)) #upper value\n",
    "print(math.floor(weight)) #lower value"
   ]
  },
  {
   "cell_type": "markdown",
   "id": "324645aa-aab9-4c40-af56-91c37d476787",
   "metadata": {},
   "source": [
    "# Data Type"
   ]
  },
  {
   "cell_type": "code",
   "execution_count": 18,
   "id": "83d1fd22",
   "metadata": {},
   "outputs": [
    {
     "data": {
      "text/plain": [
       "float"
      ]
     },
     "execution_count": 18,
     "metadata": {},
     "output_type": "execute_result"
    }
   ],
   "source": [
    "a=10.22\n",
    "type(a)"
   ]
  },
  {
   "cell_type": "code",
   "execution_count": 19,
   "id": "5346d812-0b55-4c40-8e44-1c3cb0d4b62d",
   "metadata": {},
   "outputs": [
    {
     "data": {
      "text/plain": [
       "int"
      ]
     },
     "execution_count": 19,
     "metadata": {},
     "output_type": "execute_result"
    }
   ],
   "source": [
    "a=int(10.22)\n",
    "type(a)"
   ]
  },
  {
   "cell_type": "code",
   "execution_count": 20,
   "id": "dd50a6ce-a985-4127-8343-8bbc7dec4d74",
   "metadata": {},
   "outputs": [
    {
     "name": "stdout",
     "output_type": "stream",
     "text": [
      "10\n"
     ]
    }
   ],
   "source": [
    "print(a)"
   ]
  },
  {
   "cell_type": "markdown",
   "id": "92abc0e2-5c4d-4d20-87f0-7c0fac7aa391",
   "metadata": {},
   "source": [
    "# Variables\n",
    "\n",
    "Variable carries value"
   ]
  },
  {
   "cell_type": "raw",
   "id": "7ee4f27a-e61e-462c-bf89-5fde80da5223",
   "metadata": {},
   "source": [
    "\n",
    "# Python Variable Naming Rules (Simple)\n",
    "\n",
    "### Valid Examples:\n",
    "* `my_variable`\n",
    "* `user_id_2`\n",
    "* `_temp_data`\n",
    "* `Age`\n",
    "* `__internal_value` (for special use by Python)\n",
    "\n",
    "### Invalid Examples:\n",
    "* `1st_name` (starts with a number)\n",
    "* `total-price` (contains a hyphen)\n",
    "* `user name` (contains a space)\n",
    "* `for` (is a reserved keyword, like `if`, `class`, `True`)\n",
    "* `item#` (contains a symbol)\n",
    "* `my@email` (contains a symbol)\n",
    "\n",
    "Remember, Python variable names are **case-sensitive** (`myVar` is different from `myvar`).\n",
    "\n",
    "## Naming Conventions (for cleaner code):\n",
    "\n",
    "1.  Regular Variables & Functions:** Use `snake_case` (all lowercase, words separated by underscores).\n",
    "    Example: `first_name`, `calculate_total_amount`\n",
    "\n",
    "2.  Constants: Use `ALL_CAPS_SNAKE_CASE` (uppercase, words separated by underscores).\n",
    "    Example: `MAX_RETRIES`, `DEFAULT_TIMEOUT`\n",
    "\n",
    "3.  Class Names: Use `PascalCase` (first letter of each word capitalized).\n",
    "    Example:`UserProfile`, `DatabaseConnector`\n",
    "\n",
    "4.  \"Internal Use\" (weak private): Start the name with a single underscore (`_`). This is a hint not to use it directly from outside.\n",
    "    Example: `_private_helper`, `_cached_result`\n",
    "\n",
    "5.  Special Python Methods (\"dunder methods\"): These start and end with double underscores (`__name__`). They have specific Python meanings, so avoid using this style for your regular variables.\n",
    "    Example: `__init__`, `__str__`\n"
   ]
  },
  {
   "cell_type": "code",
   "execution_count": 21,
   "id": "bc1d7c84",
   "metadata": {},
   "outputs": [
    {
     "name": "stdout",
     "output_type": "stream",
     "text": [
      "17280.0\n"
     ]
    }
   ],
   "source": [
    "#Calculate income excluding taxes\n",
    "my_taxrate=0.04\n",
    "my_salary=18000\n",
    "my_income=my_salary-(my_salary * my_taxrate)\n",
    "print(my_income)"
   ]
  },
  {
   "cell_type": "markdown",
   "id": "104b0832",
   "metadata": {},
   "source": [
    "# Working with strings"
   ]
  },
  {
   "cell_type": "code",
   "execution_count": 22,
   "id": "c2989744",
   "metadata": {},
   "outputs": [],
   "source": [
    "text=\"hello from world's best coder\"\n"
   ]
  },
  {
   "cell_type": "code",
   "execution_count": 23,
   "id": "06ceb577",
   "metadata": {},
   "outputs": [
    {
     "data": {
      "text/plain": [
       "'hello universe'"
      ]
     },
     "execution_count": 23,
     "metadata": {},
     "output_type": "execute_result"
    }
   ],
   "source": [
    "'hello universe'"
   ]
  },
  {
   "cell_type": "code",
   "execution_count": 24,
   "id": "5022b5b0",
   "metadata": {},
   "outputs": [
    {
     "name": "stdout",
     "output_type": "stream",
     "text": [
      "i do not want any string sign here just want the actual text\n"
     ]
    }
   ],
   "source": [
    "print(\"i do not want any string sign here just want the actual text\")"
   ]
  },
  {
   "cell_type": "code",
   "execution_count": 25,
   "id": "87306850",
   "metadata": {},
   "outputs": [
    {
     "name": "stdout",
     "output_type": "stream",
     "text": [
      "i do not want any string sign here, \n",
      "just want the actual text\n"
     ]
    }
   ],
   "source": [
    "print(\"i do not want any string sign here, \\njust want the actual text\")"
   ]
  },
  {
   "cell_type": "code",
   "execution_count": 26,
   "id": "415af515",
   "metadata": {},
   "outputs": [
    {
     "name": "stdout",
     "output_type": "stream",
     "text": [
      "i do not want any string sign here, \tjust want the actual text\n"
     ]
    }
   ],
   "source": [
    "print(\"i do not want any string sign here, \\tjust want the actual text\")"
   ]
  },
  {
   "cell_type": "markdown",
   "id": "2abc880f-fc05-4387-a1de-9aacc1bf85b1",
   "metadata": {},
   "source": [
    "### len()"
   ]
  },
  {
   "cell_type": "code",
   "execution_count": 27,
   "id": "59857fed",
   "metadata": {},
   "outputs": [
    {
     "data": {
      "text/plain": [
       "11"
      ]
     },
     "execution_count": 27,
     "metadata": {},
     "output_type": "execute_result"
    }
   ],
   "source": [
    "len(\"I eat rice \")"
   ]
  },
  {
   "cell_type": "code",
   "execution_count": 28,
   "id": "5f356baa",
   "metadata": {},
   "outputs": [
    {
     "data": {
      "text/plain": [
       "8"
      ]
     },
     "execution_count": 28,
     "metadata": {},
     "output_type": "execute_result"
    }
   ],
   "source": [
    "len(\"Ieatrice\")"
   ]
  },
  {
   "cell_type": "code",
   "execution_count": 29,
   "id": "d7955460-0c89-4fc5-8fa5-1084753862d7",
   "metadata": {},
   "outputs": [
    {
     "name": "stdout",
     "output_type": "stream",
     "text": [
      "4\n"
     ]
    }
   ],
   "source": [
    "text=\"hello from world's best coder\"\n",
    "print(text.count('o'))"
   ]
  },
  {
   "cell_type": "markdown",
   "id": "af1c2e84-2492-4e37-aeab-5f5a451902cb",
   "metadata": {},
   "source": [
    "### Indexing & Slicing"
   ]
  },
  {
   "cell_type": "code",
   "execution_count": 30,
   "id": "80a867cc",
   "metadata": {},
   "outputs": [
    {
     "data": {
      "text/plain": [
       "'b'"
      ]
     },
     "execution_count": 30,
     "metadata": {},
     "output_type": "execute_result"
    }
   ],
   "source": [
    "my_string=(\"The color of the sky is blue\")\n",
    "my_string[-4]\n"
   ]
  },
  {
   "cell_type": "code",
   "execution_count": 31,
   "id": "437f9d13",
   "metadata": {},
   "outputs": [
    {
     "data": {
      "text/plain": [
       "'o'"
      ]
     },
     "execution_count": 31,
     "metadata": {},
     "output_type": "execute_result"
    }
   ],
   "source": [
    "my_string=(\"The color of the sky is blue\")\n",
    "my_string[7]"
   ]
  },
  {
   "cell_type": "code",
   "execution_count": 32,
   "id": "057276be",
   "metadata": {},
   "outputs": [
    {
     "data": {
      "text/plain": [
       "'abcdefghij'"
      ]
     },
     "execution_count": 32,
     "metadata": {},
     "output_type": "execute_result"
    }
   ],
   "source": [
    "# alp[starts:upto:stepsize]\n",
    "alp=(\"abcdefghij\")\n",
    "alp[::]"
   ]
  },
  {
   "cell_type": "code",
   "execution_count": 33,
   "id": "b8258c58",
   "metadata": {},
   "outputs": [
    {
     "data": {
      "text/plain": [
       "'defghij'"
      ]
     },
     "execution_count": 33,
     "metadata": {},
     "output_type": "execute_result"
    }
   ],
   "source": [
    "alp[3:]"
   ]
  },
  {
   "cell_type": "code",
   "execution_count": 34,
   "id": "6f21d077",
   "metadata": {},
   "outputs": [
    {
     "data": {
      "text/plain": [
       "'abc'"
      ]
     },
     "execution_count": 34,
     "metadata": {},
     "output_type": "execute_result"
    }
   ],
   "source": [
    "alp[:3]"
   ]
  },
  {
   "cell_type": "code",
   "execution_count": 35,
   "id": "e91f8d18",
   "metadata": {},
   "outputs": [
    {
     "data": {
      "text/plain": [
       "'acegi'"
      ]
     },
     "execution_count": 35,
     "metadata": {},
     "output_type": "execute_result"
    }
   ],
   "source": [
    "alp[0:9:2]"
   ]
  },
  {
   "cell_type": "code",
   "execution_count": 36,
   "id": "ebceb2aa",
   "metadata": {},
   "outputs": [
    {
     "data": {
      "text/plain": [
       "'jihgfedcba'"
      ]
     },
     "execution_count": 36,
     "metadata": {},
     "output_type": "execute_result"
    }
   ],
   "source": [
    "#reverse string\n",
    "alp[::-1]"
   ]
  },
  {
   "cell_type": "code",
   "execution_count": 37,
   "id": "fe05e560",
   "metadata": {},
   "outputs": [
    {
     "name": "stdout",
     "output_type": "stream",
     "text": [
      "Nahid Hassan Niloy\n"
     ]
    }
   ],
   "source": [
    "#concate full name\n",
    "first_name=\"Nahid Hassan \"\n",
    "last_name=\"Niloy\"\n",
    "full_name=first_name+last_name\n",
    "print(full_name)"
   ]
  },
  {
   "cell_type": "code",
   "execution_count": 38,
   "id": "34cc7319",
   "metadata": {},
   "outputs": [
    {
     "data": {
      "text/plain": [
       "'Nahid Hassan Robin'"
      ]
     },
     "execution_count": 38,
     "metadata": {},
     "output_type": "execute_result"
    }
   ],
   "source": [
    "first_name+'Robin'"
   ]
  },
  {
   "cell_type": "code",
   "execution_count": 39,
   "id": "df1879f8",
   "metadata": {},
   "outputs": [
    {
     "data": {
      "text/plain": [
       "'nnnnnnnnnn'"
      ]
     },
     "execution_count": 39,
     "metadata": {},
     "output_type": "execute_result"
    }
   ],
   "source": [
    "letter='n'\n",
    "letter*10"
   ]
  },
  {
   "cell_type": "code",
   "execution_count": 40,
   "id": "f4159ebd",
   "metadata": {},
   "outputs": [
    {
     "name": "stdout",
     "output_type": "stream",
     "text": [
      "nn14\n"
     ]
    }
   ],
   "source": [
    "#print nn14 using concatination\n",
    "letter='n'\n",
    "output=letter*2+'1'+'4'\n",
    "print(output)"
   ]
  },
  {
   "cell_type": "markdown",
   "id": "2f46ffdd-91e7-40d9-a3be-71ddc47be4d1",
   "metadata": {},
   "source": [
    "### Upper()"
   ]
  },
  {
   "cell_type": "code",
   "execution_count": 41,
   "id": "a2471156",
   "metadata": {},
   "outputs": [
    {
     "data": {
      "text/plain": [
       "'HELLO WORLD'"
      ]
     },
     "execution_count": 41,
     "metadata": {},
     "output_type": "execute_result"
    }
   ],
   "source": [
    "text=\"HELlo WorLD\"\n",
    "text.upper()"
   ]
  },
  {
   "cell_type": "markdown",
   "id": "a4ea21ce-8afa-4134-abe1-f7ef6e6ddc68",
   "metadata": {},
   "source": [
    "### Lower()"
   ]
  },
  {
   "cell_type": "code",
   "execution_count": 42,
   "id": "59490b47",
   "metadata": {},
   "outputs": [
    {
     "data": {
      "text/plain": [
       "'hello world'"
      ]
     },
     "execution_count": 42,
     "metadata": {},
     "output_type": "execute_result"
    }
   ],
   "source": [
    "text.lower()"
   ]
  },
  {
   "cell_type": "markdown",
   "id": "0851e526-821f-47be-a211-01116cd98f07",
   "metadata": {},
   "source": [
    "### capitalized()"
   ]
  },
  {
   "cell_type": "code",
   "execution_count": 43,
   "id": "e7c4f1de-e162-44ff-84df-66fd69ecf56e",
   "metadata": {},
   "outputs": [
    {
     "data": {
      "text/plain": [
       "'Hello world'"
      ]
     },
     "execution_count": 43,
     "metadata": {},
     "output_type": "execute_result"
    }
   ],
   "source": [
    "text.capitalize()"
   ]
  },
  {
   "cell_type": "markdown",
   "id": "d0f3d56e-5c5c-44bc-814d-f007ba0151f4",
   "metadata": {},
   "source": [
    "### split()"
   ]
  },
  {
   "cell_type": "code",
   "execution_count": 44,
   "id": "0baeea6e",
   "metadata": {},
   "outputs": [
    {
     "data": {
      "text/plain": [
       "['the', 'color', 'of', 'the', 'sky', 'is', 'blue']"
      ]
     },
     "execution_count": 44,
     "metadata": {},
     "output_type": "execute_result"
    }
   ],
   "source": [
    "my_string=(\"the color of the sky is blue\")\n",
    "my_string.split()"
   ]
  },
  {
   "cell_type": "code",
   "execution_count": 45,
   "id": "230f6660",
   "metadata": {},
   "outputs": [
    {
     "data": {
      "text/plain": [
       "['the c', 'l', 'r ', 'f the sky is blue']"
      ]
     },
     "execution_count": 45,
     "metadata": {},
     "output_type": "execute_result"
    }
   ],
   "source": [
    "my_string.split('o')"
   ]
  },
  {
   "cell_type": "code",
   "execution_count": 46,
   "id": "aabaa8aa-d357-4d97-80eb-f56e101ad56b",
   "metadata": {},
   "outputs": [
    {
     "data": {
      "text/plain": [
       "['', ' color of ', ' sky is blue']"
      ]
     },
     "execution_count": 46,
     "metadata": {},
     "output_type": "execute_result"
    }
   ],
   "source": [
    "my_string.split('the')"
   ]
  },
  {
   "cell_type": "markdown",
   "id": "9cd4374c-10f2-48ed-a7bb-93a49667cc52",
   "metadata": {},
   "source": [
    "### replace()"
   ]
  },
  {
   "cell_type": "code",
   "execution_count": 47,
   "id": "7cc70b14-23f4-4696-98e2-c46637bda3f2",
   "metadata": {},
   "outputs": [],
   "source": [
    "message=\"Glory#Glory## Spurs\""
   ]
  },
  {
   "cell_type": "code",
   "execution_count": 48,
   "id": "6d5634bf-6ca7-43ac-96d8-a4091b2791fe",
   "metadata": {},
   "outputs": [
    {
     "name": "stdout",
     "output_type": "stream",
     "text": [
      "Glory#Glory## Spurs\n"
     ]
    }
   ],
   "source": [
    "print (message)"
   ]
  },
  {
   "cell_type": "code",
   "execution_count": 49,
   "id": "41d9fef3-bbac-4b82-bd5a-e68a26a28ed7",
   "metadata": {},
   "outputs": [],
   "source": [
    "clean=message.replace('#','!')"
   ]
  },
  {
   "cell_type": "code",
   "execution_count": 50,
   "id": "d01b52c5-113c-48f1-b340-10a31fbf6eed",
   "metadata": {},
   "outputs": [
    {
     "name": "stdout",
     "output_type": "stream",
     "text": [
      "Glory!Glory!! Spurs\n"
     ]
    }
   ],
   "source": [
    "print(clean)"
   ]
  },
  {
   "cell_type": "code",
   "execution_count": 51,
   "id": "9ad70207-6ece-4309-816f-bb88fc2b9c55",
   "metadata": {},
   "outputs": [],
   "source": [
    "clean2=message.replace('#','!').replace('Spurs','Tottenham') #multi line replace "
   ]
  },
  {
   "cell_type": "code",
   "execution_count": 52,
   "id": "95106341-0410-44e9-9367-e483b2aeea69",
   "metadata": {},
   "outputs": [
    {
     "name": "stdout",
     "output_type": "stream",
     "text": [
      "Glory!Glory!! Tottenham\n"
     ]
    }
   ],
   "source": [
    "print(clean2)"
   ]
  },
  {
   "cell_type": "markdown",
   "id": "577379a9",
   "metadata": {},
   "source": [
    "# Print Format"
   ]
  },
  {
   "cell_type": "markdown",
   "id": "a096f843-2509-48ef-9915-4b5233b38c7d",
   "metadata": {},
   "source": [
    "### fstring' '"
   ]
  },
  {
   "cell_type": "code",
   "execution_count": 53,
   "id": "04b015d8",
   "metadata": {},
   "outputs": [
    {
     "name": "stdout",
     "output_type": "stream",
     "text": [
      "my name is niloy\n"
     ]
    }
   ],
   "source": [
    "#fstring(shortcut method)\n",
    "name=\"niloy\"\n",
    "print(f'my name is {name}')"
   ]
  },
  {
   "cell_type": "code",
   "execution_count": 54,
   "id": "5ffc4eb4-402b-46b4-a7a2-9b66a0f598e1",
   "metadata": {},
   "outputs": [
    {
     "name": "stdout",
     "output_type": "stream",
     "text": [
      "I am Nahid Hassan Niloy,I have studied from AIUB,My average CGPA is 3.46\n"
     ]
    }
   ],
   "source": [
    "#introduce yourself using f string\n",
    "first_name=\"Nahid Hassan \"\n",
    "last_name=\"Niloy\"\n",
    "full_name=first_name+last_name\n",
    "uni=\"AIUB\"\n",
    "avg_cgpa=3.456789\n",
    "print(f'I am {full_name},I have studied from {uni},My average CGPA is{avg_cgpa: .2f}')"
   ]
  },
  {
   "cell_type": "code",
   "execution_count": 55,
   "id": "77d69cf1",
   "metadata": {},
   "outputs": [
    {
     "name": "stdout",
     "output_type": "stream",
     "text": [
      "The price of apple is 20\n"
     ]
    }
   ],
   "source": [
    "#apple's price is $20\n",
    "fruits=['banana','grape','orange','apple','pineapple','watermelon']\n",
    "price=['10','20','30','40','50','60']\n",
    "#print(The price of fruits[3] + price[1])\n",
    "#product=fruits[3]\n",
    "#cost=price[1]\n",
    "#print(f'The price of {product} is {cost}')\n",
    "print(f'The price of {fruits[3]} is {price[1]}')"
   ]
  },
  {
   "cell_type": "markdown",
   "id": "30737567-3419-40d7-a753-094895ebdcf8",
   "metadata": {},
   "source": [
    "### format()"
   ]
  },
  {
   "cell_type": "code",
   "execution_count": 56,
   "id": "54c39d92",
   "metadata": {},
   "outputs": [
    {
     "name": "stdout",
     "output_type": "stream",
     "text": [
      "The value of pi: 3.1416\n"
     ]
    }
   ],
   "source": [
    "#precised value of pi\n",
    "pi=3.1415926535\n",
    "print (\"The value of pi: {p:.4f}\".format(p=pi))"
   ]
  },
  {
   "cell_type": "code",
   "execution_count": 57,
   "id": "e86ae397",
   "metadata": {},
   "outputs": [
    {
     "name": "stdout",
     "output_type": "stream",
     "text": [
      "the quick brown fox jumps over the lazy dog\n"
     ]
    }
   ],
   "source": [
    "#formatting the sentence\n",
    "text1=('{3} {0} {2} {1}'.format('quick','fox','brown','the'))\n",
    "#print(text1)\n",
    "text2=(' {j} {o} the {l} {d}'.format(o='over',j='jumps',l='lazy',d='dog'))\n",
    "#print(text2)\n",
    "text= text1 +  text2\n",
    "print(text)"
   ]
  },
  {
   "cell_type": "code",
   "execution_count": 58,
   "id": "ef4cec2c-fb38-4d22-960f-8682db24626f",
   "metadata": {},
   "outputs": [],
   "source": [
    "planet=\"Earth\"\n",
    "temp=22.785678\n",
    "weather=\"Humid\"\n",
    "\n",
    "report=\"I live in {}.We have a temparature tody of {} degree celcius.Weather is {}\".format(planet,temp,weather)"
   ]
  },
  {
   "cell_type": "code",
   "execution_count": 59,
   "id": "45254549-9d2c-4b9b-9970-c41bff6d2012",
   "metadata": {},
   "outputs": [
    {
     "name": "stdout",
     "output_type": "stream",
     "text": [
      "I live in Earth.We have a temparature tody of 22.785678 degree celcius.Weather is Humid\n"
     ]
    }
   ],
   "source": [
    "print(report)"
   ]
  },
  {
   "cell_type": "markdown",
   "id": "0564d3e7-27e3-4b37-95e6-5230a76a6613",
   "metadata": {},
   "source": [
    "### float formatting {: .2f}"
   ]
  },
  {
   "cell_type": "code",
   "execution_count": 60,
   "id": "733b84fb-4b9a-4bbc-a3dc-2b114d1c56a9",
   "metadata": {},
   "outputs": [],
   "source": [
    "report2=\"I live in {}.We have a temparature tody of {:.2f} degree celcius.Weather is {}\".format(planet,temp,weather)"
   ]
  },
  {
   "cell_type": "code",
   "execution_count": 61,
   "id": "40d046f2-d76f-404e-b2f3-f8e56412fe38",
   "metadata": {},
   "outputs": [
    {
     "name": "stdout",
     "output_type": "stream",
     "text": [
      "I live in Earth.We have a temparature tody of 22.79 degree celcius.Weather is Humid\n"
     ]
    }
   ],
   "source": [
    "print(report2)"
   ]
  },
  {
   "cell_type": "markdown",
   "id": "c3da87ec",
   "metadata": {},
   "source": [
    "# List\n",
    "\n",
    "List is flexible, mutable\n",
    "pop, append, remove, slice, reorder"
   ]
  },
  {
   "cell_type": "markdown",
   "id": "0c3ad44e-df8c-4601-9931-546aecfa506e",
   "metadata": {},
   "source": [
    "### min,max"
   ]
  },
  {
   "cell_type": "code",
   "execution_count": 62,
   "id": "4cfa3247-0b61-4125-9830-c366e8213eba",
   "metadata": {},
   "outputs": [
    {
     "name": "stdout",
     "output_type": "stream",
     "text": [
      "10\n"
     ]
    }
   ],
   "source": [
    "lst=['10','20','30','40','50','60']\n",
    "print(min(lst))"
   ]
  },
  {
   "cell_type": "code",
   "execution_count": 63,
   "id": "cef84ecc-70e5-4602-8d13-4f2d9e55ab69",
   "metadata": {},
   "outputs": [
    {
     "name": "stdout",
     "output_type": "stream",
     "text": [
      "60\n"
     ]
    }
   ],
   "source": [
    "print(max(lst))"
   ]
  },
  {
   "cell_type": "code",
   "execution_count": 64,
   "id": "1670dbc7",
   "metadata": {},
   "outputs": [
    {
     "name": "stdout",
     "output_type": "stream",
     "text": [
      "Niloy\n"
     ]
    }
   ],
   "source": [
    "values=[1,4,\"Niloy\",29]\n",
    "print(values[2])"
   ]
  },
  {
   "cell_type": "markdown",
   "id": "ad13c467-3b48-4634-b562-737720b34d77",
   "metadata": {},
   "source": [
    "### replace"
   ]
  },
  {
   "cell_type": "code",
   "execution_count": 65,
   "id": "0f7b01bb-3e49-4879-94d1-b942e95fa6fd",
   "metadata": {},
   "outputs": [],
   "source": [
    "price=['10','20','30','40','50','60']\n",
    "price[3]=14"
   ]
  },
  {
   "cell_type": "code",
   "execution_count": 66,
   "id": "5ca6f79e-a943-478f-81ab-44b22df8d07f",
   "metadata": {},
   "outputs": [
    {
     "data": {
      "text/plain": [
       "['10', '20', '30', 14, '50', '60']"
      ]
     },
     "execution_count": 66,
     "metadata": {},
     "output_type": "execute_result"
    }
   ],
   "source": [
    "price"
   ]
  },
  {
   "cell_type": "code",
   "execution_count": 67,
   "id": "c9d1742f-f0f6-487e-8089-58747acc4dc5",
   "metadata": {},
   "outputs": [
    {
     "data": {
      "text/plain": [
       "'50'"
      ]
     },
     "execution_count": 67,
     "metadata": {},
     "output_type": "execute_result"
    }
   ],
   "source": [
    "price[-2]"
   ]
  },
  {
   "cell_type": "markdown",
   "id": "f30081b1-d35a-4e54-9997-c105e1432a20",
   "metadata": {},
   "source": [
    "### insert (index,value)"
   ]
  },
  {
   "cell_type": "code",
   "execution_count": 68,
   "id": "78f9b344-1b80-4f22-8765-f8bec760372f",
   "metadata": {},
   "outputs": [],
   "source": [
    "fruits=['banana','grape','orange','apple','pineapple','watermelon']\n",
    "fruits.insert(2,\"guava\")"
   ]
  },
  {
   "cell_type": "code",
   "execution_count": 69,
   "id": "640ec807-73de-48e9-9815-f2621b6cde36",
   "metadata": {},
   "outputs": [
    {
     "data": {
      "text/plain": [
       "['banana', 'grape', 'guava', 'orange', 'apple', 'pineapple', 'watermelon']"
      ]
     },
     "execution_count": 69,
     "metadata": {},
     "output_type": "execute_result"
    }
   ],
   "source": [
    "fruits"
   ]
  },
  {
   "cell_type": "code",
   "execution_count": null,
   "id": "7a5898ac-55ec-41d0-a25e-3026f92da7d3",
   "metadata": {},
   "outputs": [],
   "source": []
  },
  {
   "cell_type": "markdown",
   "id": "72b9c0af-9821-4d4a-a858-5697cf888b2b",
   "metadata": {},
   "source": [
    "### delete\\ del list [index]"
   ]
  },
  {
   "cell_type": "code",
   "execution_count": 70,
   "id": "4ce67fb7-e644-4ed7-9eff-0bd3c959eed8",
   "metadata": {},
   "outputs": [],
   "source": [
    "fruits=['banana', 'grape', 'guava', 'orange', 'apple', 'pineapple', 'watermelon']\n",
    "del fruits [2]"
   ]
  },
  {
   "cell_type": "code",
   "execution_count": 71,
   "id": "24deddc7-8ad3-4273-9e58-8f88eb4b99a8",
   "metadata": {},
   "outputs": [
    {
     "data": {
      "text/plain": [
       "['banana', 'grape', 'orange', 'apple', 'pineapple', 'watermelon']"
      ]
     },
     "execution_count": 71,
     "metadata": {},
     "output_type": "execute_result"
    }
   ],
   "source": [
    "fruits"
   ]
  },
  {
   "cell_type": "code",
   "execution_count": 72,
   "id": "172c1403",
   "metadata": {},
   "outputs": [
    {
     "name": "stdout",
     "output_type": "stream",
     "text": [
      "['banana', 'grape', 'apple', 'pineapple', 'watermelon']\n"
     ]
    }
   ],
   "source": [
    "#delete element from index\n",
    "fruits=['banana','grape','orange','apple','pineapple','watermelon']\n",
    "del fruits[2]\n",
    "print(fruits)"
   ]
  },
  {
   "cell_type": "markdown",
   "id": "1280b5d7-5794-49b8-b240-e7a670b964d0",
   "metadata": {},
   "source": [
    "### merge lists"
   ]
  },
  {
   "cell_type": "code",
   "execution_count": 73,
   "id": "5afe99c7",
   "metadata": {},
   "outputs": [
    {
     "data": {
      "text/plain": [
       "['banana',\n",
       " 'grape',\n",
       " 'orange',\n",
       " 'apple',\n",
       " 'pineapple',\n",
       " 'watermelon',\n",
       " '10',\n",
       " '20',\n",
       " '30',\n",
       " '40',\n",
       " '50',\n",
       " '60']"
      ]
     },
     "execution_count": 73,
     "metadata": {},
     "output_type": "execute_result"
    }
   ],
   "source": [
    "fruits=['banana', 'grape', 'orange', 'apple', 'pineapple', 'watermelon']\n",
    "price=['10','20','30','40','50','60']\n",
    "fruits+price"
   ]
  },
  {
   "cell_type": "markdown",
   "id": "7a0b7dc2-7192-4768-8d6f-b2d30a93ad35",
   "metadata": {},
   "source": [
    "### len"
   ]
  },
  {
   "cell_type": "code",
   "execution_count": 74,
   "id": "8baea65d",
   "metadata": {},
   "outputs": [
    {
     "data": {
      "text/plain": [
       "6"
      ]
     },
     "execution_count": 74,
     "metadata": {},
     "output_type": "execute_result"
    }
   ],
   "source": [
    "fruits=['banana','grape','orange','apple','pineapple','watermelon']\n",
    "len(fruits)"
   ]
  },
  {
   "cell_type": "markdown",
   "id": "9113606d-a412-4d31-9226-375605a1a444",
   "metadata": {},
   "source": [
    "### remove()"
   ]
  },
  {
   "cell_type": "code",
   "execution_count": 75,
   "id": "7546aec8-cff4-400c-b282-46c9e3a29958",
   "metadata": {},
   "outputs": [],
   "source": [
    "fruits=['banana', 'grape', 'orange', 'apple', 'pineapple', 'watermelon', 'peach']\n",
    "\n",
    "fruits.remove('peach')"
   ]
  },
  {
   "cell_type": "code",
   "execution_count": 76,
   "id": "21068bea-b83a-4b84-b6ac-92482bf75e4c",
   "metadata": {},
   "outputs": [
    {
     "data": {
      "text/plain": [
       "['banana', 'grape', 'orange', 'apple', 'pineapple', 'watermelon']"
      ]
     },
     "execution_count": 76,
     "metadata": {},
     "output_type": "execute_result"
    }
   ],
   "source": [
    "fruits"
   ]
  },
  {
   "cell_type": "markdown",
   "id": "cce0891a-a77c-407e-883d-52a37738f76b",
   "metadata": {},
   "source": [
    "### sort()"
   ]
  },
  {
   "cell_type": "code",
   "execution_count": 77,
   "id": "1cff54c4-f94f-4d6c-820c-e38dabfdf7c0",
   "metadata": {},
   "outputs": [],
   "source": [
    "fruits=['banana', 'grape', 'orange', 'apple', 'pineapple', 'watermelon', 'peach','100']\n",
    "fruits.sort()"
   ]
  },
  {
   "cell_type": "code",
   "execution_count": 78,
   "id": "8f9e2cd7-3465-47f9-9a00-0105fe572db1",
   "metadata": {},
   "outputs": [
    {
     "data": {
      "text/plain": [
       "['100',\n",
       " 'apple',\n",
       " 'banana',\n",
       " 'grape',\n",
       " 'orange',\n",
       " 'peach',\n",
       " 'pineapple',\n",
       " 'watermelon']"
      ]
     },
     "execution_count": 78,
     "metadata": {},
     "output_type": "execute_result"
    }
   ],
   "source": [
    "fruits"
   ]
  },
  {
   "cell_type": "code",
   "execution_count": 79,
   "id": "23bc4f66-b750-4438-b550-9f2e7a9aa12a",
   "metadata": {},
   "outputs": [],
   "source": [
    "# descending"
   ]
  },
  {
   "cell_type": "code",
   "execution_count": 80,
   "id": "85b094f3-64f5-4c09-865b-a599c8257bbb",
   "metadata": {},
   "outputs": [],
   "source": [
    "fruits=['banana', 'grape', 'orange', 'apple', 'pineapple', 'watermelon', 'peach']\n",
    "fruits.sort(reverse=True)"
   ]
  },
  {
   "cell_type": "code",
   "execution_count": 81,
   "id": "b751e44a-53f6-498f-8eb3-30c56d2decca",
   "metadata": {},
   "outputs": [
    {
     "data": {
      "text/plain": [
       "['watermelon', 'pineapple', 'peach', 'orange', 'grape', 'banana', 'apple']"
      ]
     },
     "execution_count": 81,
     "metadata": {},
     "output_type": "execute_result"
    }
   ],
   "source": [
    "fruits"
   ]
  },
  {
   "cell_type": "markdown",
   "id": "fad57d09-cdc0-4ca4-8ec6-b782b8f09153",
   "metadata": {},
   "source": [
    "### slicing"
   ]
  },
  {
   "cell_type": "code",
   "execution_count": 82,
   "id": "9e2b77bc",
   "metadata": {},
   "outputs": [
    {
     "data": {
      "text/plain": [
       "['peach', 'orange', 'grape']"
      ]
     },
     "execution_count": 82,
     "metadata": {},
     "output_type": "execute_result"
    }
   ],
   "source": [
    "fruits[2:5]"
   ]
  },
  {
   "cell_type": "markdown",
   "id": "445f4e34-02e6-4dfa-a97b-5ba11c233573",
   "metadata": {},
   "source": [
    "### insert element \n"
   ]
  },
  {
   "cell_type": "code",
   "execution_count": 83,
   "id": "5d9fc694",
   "metadata": {},
   "outputs": [
    {
     "data": {
      "text/plain": [
       "['banana', 'grape', 'orange', 'apple', 'date', 'watermelon']"
      ]
     },
     "execution_count": 83,
     "metadata": {},
     "output_type": "execute_result"
    }
   ],
   "source": [
    "#insert element\n",
    "fruits=['banana','grape','orange','apple','pineapple','watermelon']\n",
    "fruits[4]='date'\n",
    "fruits"
   ]
  },
  {
   "cell_type": "code",
   "execution_count": 84,
   "id": "03bd76d6",
   "metadata": {},
   "outputs": [
    {
     "name": "stdout",
     "output_type": "stream",
     "text": [
      "['Nahid Hassan', 'Niloy', 26, 2.98]\n"
     ]
    }
   ],
   "source": [
    "#insert element to a particular index\n",
    "info=[\"Nahid Hassan\",26,2.98]\n",
    "info.insert(1,\"Niloy\")\n",
    "print(info)"
   ]
  },
  {
   "cell_type": "markdown",
   "id": "4836045d-b2a5-407f-b73d-7ead6e54ec1f",
   "metadata": {},
   "source": [
    "### append()"
   ]
  },
  {
   "cell_type": "code",
   "execution_count": 85,
   "id": "e8d47998-2f59-4d52-b95e-ec5fcf311f23",
   "metadata": {},
   "outputs": [],
   "source": [
    "fruits=['banana','grape','orange','apple','pineapple','watermelon']\n",
    "fruits.append('peach')"
   ]
  },
  {
   "cell_type": "code",
   "execution_count": 86,
   "id": "f7829170-8e84-41b9-bbf2-583d5a7c59cc",
   "metadata": {},
   "outputs": [
    {
     "data": {
      "text/plain": [
       "['banana', 'grape', 'orange', 'apple', 'pineapple', 'watermelon', 'peach']"
      ]
     },
     "execution_count": 86,
     "metadata": {},
     "output_type": "execute_result"
    }
   ],
   "source": [
    "fruits"
   ]
  },
  {
   "cell_type": "code",
   "execution_count": 87,
   "id": "fc2dc26d",
   "metadata": {},
   "outputs": [
    {
     "name": "stdout",
     "output_type": "stream",
     "text": [
      "['banana', 'grape', 'orange', 'apple', 'pineapple', 'watermelon', 'date']\n"
     ]
    }
   ],
   "source": [
    "#append function\n",
    "fruits=['banana','grape','orange','apple','pineapple','watermelon']\n",
    "fruits.append('date')\n",
    "print(fruits)"
   ]
  },
  {
   "cell_type": "markdown",
   "id": "8755915f-c439-4a62-a297-3e18828bb7f6",
   "metadata": {},
   "source": [
    "### pop"
   ]
  },
  {
   "cell_type": "code",
   "execution_count": 88,
   "id": "6c591188",
   "metadata": {},
   "outputs": [
    {
     "name": "stdout",
     "output_type": "stream",
     "text": [
      "['banana', 'grape', 'orange', 'apple', 'pineapple']\n"
     ]
    }
   ],
   "source": [
    "#pop element from last\n",
    "#pop function\n",
    "fruits=['banana','grape','orange','apple','pineapple','watermelon']\n",
    "fruits.pop()\n",
    "print(fruits)"
   ]
  },
  {
   "cell_type": "code",
   "execution_count": 89,
   "id": "dce6c538",
   "metadata": {},
   "outputs": [
    {
     "name": "stdout",
     "output_type": "stream",
     "text": [
      "['banana', 'grape', 'apple', 'pineapple', 'watermelon']\n"
     ]
    }
   ],
   "source": [
    "#pop element from index\n",
    "fruits=['banana','grape','orange','apple','pineapple','watermelon']\n",
    "fruits.pop(2)\n",
    "print(fruits)"
   ]
  },
  {
   "cell_type": "markdown",
   "id": "80ed1479-c874-4f28-af76-0776d6620547",
   "metadata": {},
   "source": [
    "### reverese"
   ]
  },
  {
   "cell_type": "code",
   "execution_count": 90,
   "id": "ec9bab93",
   "metadata": {},
   "outputs": [
    {
     "data": {
      "text/plain": [
       "['watermelon', 'pineapple', 'apple', 'orange', 'grape', 'banana']"
      ]
     },
     "execution_count": 90,
     "metadata": {},
     "output_type": "execute_result"
    }
   ],
   "source": [
    "#reverse elements\n",
    "fruits=['banana','grape','orange','apple','pineapple','watermelon']\n",
    "fruits.reverse()\n",
    "fruits"
   ]
  },
  {
   "cell_type": "markdown",
   "id": "029b1028",
   "metadata": {},
   "source": [
    "# Dictonary\n",
    "\n"
   ]
  },
  {
   "cell_type": "code",
   "execution_count": 91,
   "id": "2f50c589-7865-4ab0-ad3e-0a3eaaec1d89",
   "metadata": {},
   "outputs": [
    {
     "data": {
      "text/plain": [
       "20"
      ]
     },
     "execution_count": 91,
     "metadata": {},
     "output_type": "execute_result"
    }
   ],
   "source": [
    "fruits={'banana':10,'grape':40,'orange':30,'apple':20,'pineapple':50,'watermelon':60}\n",
    "fruits['apple']\n"
   ]
  },
  {
   "cell_type": "markdown",
   "id": "0e10093f-11c1-40b3-b1b2-9be68e70a672",
   "metadata": {},
   "source": [
    "### add new dictionary"
   ]
  },
  {
   "cell_type": "code",
   "execution_count": 92,
   "id": "3b33ebb5",
   "metadata": {},
   "outputs": [
    {
     "data": {
      "text/plain": [
       "{'banana': 10,\n",
       " 'grape': 40,\n",
       " 'orange': 30,\n",
       " 'apple': 20,\n",
       " 'pineapple': 50,\n",
       " 'watermelon': 60,\n",
       " 'date': '80'}"
      ]
     },
     "execution_count": 92,
     "metadata": {},
     "output_type": "execute_result"
    }
   ],
   "source": [
    "fruits={'banana':10,'grape':40,'orange':30,'apple':20,'pineapple':50,'watermelon':60}\n",
    "fruits['date']='80'\n",
    "fruits"
   ]
  },
  {
   "cell_type": "markdown",
   "id": "30437733-e91b-4706-8f8b-b9ee8dbd4d72",
   "metadata": {},
   "source": [
    "### delete\\ pop()"
   ]
  },
  {
   "cell_type": "code",
   "execution_count": 93,
   "id": "17593433-cb0c-4c32-9a20-387e2bb31628",
   "metadata": {},
   "outputs": [
    {
     "data": {
      "text/plain": [
       "'80'"
      ]
     },
     "execution_count": 93,
     "metadata": {},
     "output_type": "execute_result"
    }
   ],
   "source": [
    "fruits.pop('date')"
   ]
  },
  {
   "cell_type": "code",
   "execution_count": 94,
   "id": "06d7b9fa-3f2b-4f6b-91cc-1b5f0d9ab1f0",
   "metadata": {},
   "outputs": [
    {
     "data": {
      "text/plain": [
       "{'banana': 10,\n",
       " 'grape': 40,\n",
       " 'orange': 30,\n",
       " 'apple': 20,\n",
       " 'pineapple': 50,\n",
       " 'watermelon': 60}"
      ]
     },
     "execution_count": 94,
     "metadata": {},
     "output_type": "execute_result"
    }
   ],
   "source": [
    "fruits"
   ]
  },
  {
   "cell_type": "markdown",
   "id": "5de5efda-d11c-4944-b9ae-f6b37b737980",
   "metadata": {},
   "source": [
    "### loop in dictionary // .items()"
   ]
  },
  {
   "cell_type": "code",
   "execution_count": 95,
   "id": "d0fe77f2-5906-4369-ab87-ef71758478e4",
   "metadata": {},
   "outputs": [],
   "source": [
    "fruits={'banana': 10,\n",
    " 'grape': 40,\n",
    " 'orange': 30,\n",
    " 'apple': 20,\n",
    " 'pineapple': 50,\n",
    " 'watermelon': 60}"
   ]
  },
  {
   "cell_type": "code",
   "execution_count": 96,
   "id": "b795d640-b476-4060-b318-37c1c93e4823",
   "metadata": {},
   "outputs": [
    {
     "name": "stdout",
     "output_type": "stream",
     "text": [
      "banana\n",
      "10\n",
      "grape\n",
      "40\n",
      "orange\n",
      "30\n",
      "apple\n",
      "20\n",
      "pineapple\n",
      "50\n",
      "watermelon\n",
      "60\n"
     ]
    }
   ],
   "source": [
    "for key,value in fruits.items():\n",
    "    print(key)\n",
    "    print(value)"
   ]
  },
  {
   "cell_type": "raw",
   "id": "828a38cd-95b7-4f57-972a-b2f0ee1120ba",
   "metadata": {},
   "source": [
    "Inside a dictionary there can be list ,integer, and even a dictionary"
   ]
  },
  {
   "cell_type": "code",
   "execution_count": 97,
   "id": "300aa59a",
   "metadata": {},
   "outputs": [
    {
     "data": {
      "text/plain": [
       "{'key': 14}"
      ]
     },
     "execution_count": 97,
     "metadata": {},
     "output_type": "execute_result"
    }
   ],
   "source": [
    "my_dic={'my_int':123,'my_list':[1,2,3,4],'new_dic':{'key':14}}\n",
    "my_dic['new_dic']"
   ]
  },
  {
   "cell_type": "code",
   "execution_count": 98,
   "id": "716567aa",
   "metadata": {},
   "outputs": [
    {
     "name": "stdout",
     "output_type": "stream",
     "text": [
      "num\n",
      "1\n",
      "Hello World\n"
     ]
    }
   ],
   "source": [
    "my_dic={\"num\":1,2:\"num\",3:\"Hello World\"}\n",
    "print(my_dic[2])\n",
    "print(my_dic[\"num\"])\n",
    "print(my_dic[3])"
   ]
  },
  {
   "cell_type": "markdown",
   "id": "5d7db626-b91c-4b2a-8c66-7a310df6d931",
   "metadata": {},
   "source": [
    "### upper()"
   ]
  },
  {
   "cell_type": "code",
   "execution_count": 99,
   "id": "d9c8cb54",
   "metadata": {},
   "outputs": [
    {
     "data": {
      "text/plain": [
       "'PINEAPPLE'"
      ]
     },
     "execution_count": 99,
     "metadata": {},
     "output_type": "execute_result"
    }
   ],
   "source": [
    "\n",
    "fruits={'fruitsName': ['banana','grape','orange','apple','pineapple','watermelon']}\n",
    "fruits['fruitsName'][4].upper()"
   ]
  },
  {
   "cell_type": "markdown",
   "id": "5f708c20-48bd-4965-bd47-4d4574cdea79",
   "metadata": {},
   "source": [
    "### Change value"
   ]
  },
  {
   "cell_type": "code",
   "execution_count": 100,
   "id": "9ac7aa5f",
   "metadata": {},
   "outputs": [
    {
     "data": {
      "text/plain": [
       "{'banana': 10,\n",
       " 'grape': 40,\n",
       " 'orange': 30,\n",
       " 'apple': 20,\n",
       " 'pineapple': 50,\n",
       " 'watermelon': 60,\n",
       " 'grpae': '45'}"
      ]
     },
     "execution_count": 100,
     "metadata": {},
     "output_type": "execute_result"
    }
   ],
   "source": [
    "#change value of a key in a dictionary\n",
    "fruits={'banana':10,'grape':40,'orange':30,'apple':20,'pineapple':50,'watermelon':60}\n",
    "fruits['grpae']='45'\n",
    "fruits"
   ]
  },
  {
   "cell_type": "markdown",
   "id": "6e462354-c335-4b7b-b7dd-a3d0a3f1e661",
   "metadata": {},
   "source": [
    "### keys,values and items"
   ]
  },
  {
   "cell_type": "code",
   "execution_count": 101,
   "id": "3ece02ee",
   "metadata": {},
   "outputs": [
    {
     "data": {
      "text/plain": [
       "dict_keys(['banana', 'grape', 'orange', 'apple', 'pineapple', 'watermelon'])"
      ]
     },
     "execution_count": 101,
     "metadata": {},
     "output_type": "execute_result"
    }
   ],
   "source": [
    "\n",
    "fruits={'banana':10,'grape':40,'orange':30,'apple':20,'pineapple':50,'watermelon':60}\n",
    "fruits.keys()\n",
    "\n"
   ]
  },
  {
   "cell_type": "code",
   "execution_count": 102,
   "id": "56e54eee",
   "metadata": {},
   "outputs": [
    {
     "data": {
      "text/plain": [
       "dict_values([10, 40, 30, 20, 50, 60])"
      ]
     },
     "execution_count": 102,
     "metadata": {},
     "output_type": "execute_result"
    }
   ],
   "source": [
    "fruits={'banana':10,'grape':40,'orange':30,'apple':20,'pineapple':50,'watermelon':60}\n",
    "fruits.values()"
   ]
  },
  {
   "cell_type": "code",
   "execution_count": 103,
   "id": "76810fc6",
   "metadata": {},
   "outputs": [
    {
     "data": {
      "text/plain": [
       "dict_items([('banana', 10), ('grape', 40), ('orange', 30), ('apple', 20), ('pineapple', 50), ('watermelon', 60)])"
      ]
     },
     "execution_count": 103,
     "metadata": {},
     "output_type": "execute_result"
    }
   ],
   "source": [
    "fruits={'banana':10,'grape':40,'orange':30,'apple':20,'pineapple':50,'watermelon':60}\n",
    "fruits.items()\n"
   ]
  },
  {
   "cell_type": "markdown",
   "id": "89ed7107-3e76-49ff-acbe-17ac7cdd4c12",
   "metadata": {},
   "source": [
    "### create dictionary at runtime\n"
   ]
  },
  {
   "cell_type": "code",
   "execution_count": 104,
   "id": "a3da5565",
   "metadata": {},
   "outputs": [
    {
     "name": "stdout",
     "output_type": "stream",
     "text": [
      "{'first name': 'Nahid Hassan', 'last name': 'Niloy'}\n",
      "Niloy\n"
     ]
    }
   ],
   "source": [
    "my_dic={}\n",
    "my_dic[\"first name\"]= \"Nahid Hassan\"\n",
    "my_dic[\"last name\"]= \"Niloy\"\n",
    "print(my_dic)\n",
    "print(my_dic[\"last name\"])"
   ]
  },
  {
   "cell_type": "markdown",
   "id": "890bb2e7-f4b8-472a-9dfb-b43a06e954ee",
   "metadata": {},
   "source": [
    "### nested dictionary"
   ]
  },
  {
   "cell_type": "code",
   "execution_count": 105,
   "id": "3b868577-c0aa-42c9-a1b0-bbe43db10b3c",
   "metadata": {},
   "outputs": [],
   "source": [
    "student_data = {\n",
    "    'student1': {\n",
    "        'name': 'Alice',\n",
    "        'age': 20,\n",
    "        'courses': {\n",
    "            'math': 95,\n",
    "            'science': 88\n",
    "        }\n",
    "    },\n",
    "    'student2': {\n",
    "        'name': 'Bob',\n",
    "        'age': 22,\n",
    "        'courses': {\n",
    "            'math': 78,\n",
    "            'history': 92\n",
    "        }\n",
    "    }\n",
    "}"
   ]
  },
  {
   "cell_type": "code",
   "execution_count": 106,
   "id": "79924a6e-7560-4b26-bedd-445ccff05b18",
   "metadata": {},
   "outputs": [
    {
     "name": "stdout",
     "output_type": "stream",
     "text": [
      "95\n"
     ]
    }
   ],
   "source": [
    "print(student_data[\"student1\"][\"courses\"][\"math\"])"
   ]
  },
  {
   "cell_type": "markdown",
   "id": "b50ae45a",
   "metadata": {},
   "source": [
    "# Tuples\n",
    "\n",
    "Tuples are very simmilar to list.Once an elemenet is assigned inside a touple, it can not be reassigned.For example,fruits[5]='banana' will cause syntax error.Touple is useulf when we don't want our program to change any values. Very useful for dictionary and maps"
   ]
  },
  {
   "cell_type": "code",
   "execution_count": 150,
   "id": "fe95f8b1",
   "metadata": {},
   "outputs": [
    {
     "data": {
      "text/plain": [
       "tuple"
      ]
     },
     "execution_count": 150,
     "metadata": {},
     "output_type": "execute_result"
    }
   ],
   "source": [
    "fruits=('banana','grape','orange','apple','pineapple','watermelon')\n",
    "type(fruits)"
   ]
  },
  {
   "cell_type": "code",
   "execution_count": 151,
   "id": "526d217f-ac22-44c8-8b46-a57123dd004a",
   "metadata": {},
   "outputs": [
    {
     "data": {
      "text/plain": [
       "6"
      ]
     },
     "execution_count": 151,
     "metadata": {},
     "output_type": "execute_result"
    }
   ],
   "source": [
    "len(fruits)\n"
   ]
  },
  {
   "cell_type": "markdown",
   "id": "dbcd597f-a283-4d11-996d-6aba25b512a7",
   "metadata": {},
   "source": [
    "### access value"
   ]
  },
  {
   "cell_type": "code",
   "execution_count": 108,
   "id": "c44da993",
   "metadata": {},
   "outputs": [
    {
     "data": {
      "text/plain": [
       "'apple'"
      ]
     },
     "execution_count": 108,
     "metadata": {},
     "output_type": "execute_result"
    }
   ],
   "source": [
    "fruits=('banana','grape','orange','apple','pineapple','watermelon')\n",
    "fruits[-3]\n"
   ]
  },
  {
   "cell_type": "markdown",
   "id": "c7a708ab-c158-4994-ab6a-89dc73a5988f",
   "metadata": {},
   "source": [
    "### count"
   ]
  },
  {
   "cell_type": "code",
   "execution_count": 109,
   "id": "749f14b4",
   "metadata": {},
   "outputs": [
    {
     "data": {
      "text/plain": [
       "3"
      ]
     },
     "execution_count": 109,
     "metadata": {},
     "output_type": "execute_result"
    }
   ],
   "source": [
    "#count\n",
    "fruits=('banana','grape','orange','apple','apple','apple','pineapple','watermelon')\n",
    "fruits.count('apple')"
   ]
  },
  {
   "cell_type": "markdown",
   "id": "a6edaf39-8d79-46de-a37a-2bcfe2906edb",
   "metadata": {},
   "source": [
    "### update value // list()\n",
    "\n",
    "\n",
    "to change a value in tuple we have to cinvert this into a list first and then after we have to convert this back to tuple. we can do other list operation, doing the same method"
   ]
  },
  {
   "cell_type": "code",
   "execution_count": 178,
   "id": "1dc69812-4ef9-432a-8575-b5046fab0643",
   "metadata": {},
   "outputs": [],
   "source": [
    "fruits_tuple=('banana','grape','orange','apple','apple','pineapple','watermelon')\n",
    "fruits_list=list(fruits_tuple)"
   ]
  },
  {
   "cell_type": "code",
   "execution_count": 179,
   "id": "3e30be14-6c26-4a54-8bd2-eee69fd6a1ba",
   "metadata": {},
   "outputs": [
    {
     "name": "stdout",
     "output_type": "stream",
     "text": [
      "('banana', 'grape', 'orange', 'apple', 'apple', 'pineapple', 'watermelon')\n"
     ]
    }
   ],
   "source": [
    "print(fruits_tuple)"
   ]
  },
  {
   "cell_type": "code",
   "execution_count": 180,
   "id": "d49638c0-d0bc-4f77-b53d-9b25e20b4757",
   "metadata": {},
   "outputs": [
    {
     "name": "stdout",
     "output_type": "stream",
     "text": [
      "['banana', 'grape', 'orange', 'apple', 'apple', 'pineapple', 'watermelon']\n"
     ]
    }
   ],
   "source": [
    "print(fruits_list)"
   ]
  },
  {
   "cell_type": "code",
   "execution_count": 181,
   "id": "dc42db34-4423-499e-9b5e-1f6b90d83f2c",
   "metadata": {},
   "outputs": [],
   "source": [
    "fruits_list[1]='Kiwi'"
   ]
  },
  {
   "cell_type": "code",
   "execution_count": 182,
   "id": "fd3d6334-58be-4e39-8ab3-6f9479e258d5",
   "metadata": {},
   "outputs": [
    {
     "data": {
      "text/plain": [
       "['banana', 'Kiwi', 'orange', 'apple', 'apple', 'pineapple', 'watermelon']"
      ]
     },
     "execution_count": 182,
     "metadata": {},
     "output_type": "execute_result"
    }
   ],
   "source": [
    "fruits_list"
   ]
  },
  {
   "cell_type": "code",
   "execution_count": 183,
   "id": "13a548e4-c96a-4390-bdef-edf937fd4b42",
   "metadata": {},
   "outputs": [],
   "source": [
    "fruits_tuple=tuple(fruits_list)"
   ]
  },
  {
   "cell_type": "code",
   "execution_count": 184,
   "id": "8d4abe1a-f7fa-46ed-afe0-6906e189c427",
   "metadata": {},
   "outputs": [
    {
     "name": "stdout",
     "output_type": "stream",
     "text": [
      "('banana', 'Kiwi', 'orange', 'apple', 'apple', 'pineapple', 'watermelon')\n"
     ]
    }
   ],
   "source": [
    "print(fruits_tuple)"
   ]
  },
  {
   "cell_type": "code",
   "execution_count": 185,
   "id": "b8d91b8e-8eed-46b4-8a34-52dbe83e1461",
   "metadata": {},
   "outputs": [
    {
     "data": {
      "text/plain": [
       "tuple"
      ]
     },
     "execution_count": 185,
     "metadata": {},
     "output_type": "execute_result"
    }
   ],
   "source": [
    "type(fruits_tuple)"
   ]
  },
  {
   "cell_type": "markdown",
   "id": "f5fca6d0",
   "metadata": {},
   "source": [
    "# if else"
   ]
  },
  {
   "cell_type": "code",
   "execution_count": 111,
   "id": "95f6c0d7",
   "metadata": {},
   "outputs": [
    {
     "name": "stdout",
     "output_type": "stream",
     "text": [
      "good noon\n",
      "Greetings Done\n"
     ]
    }
   ],
   "source": [
    "time=\"pm\"\n",
    "\n",
    "if time == \"am\":\n",
    "    print(\"good morning\")\n",
    "elif time ==\"pm\":\n",
    "    print(\"good noon\")\n",
    "else:                      #else indicates this is the last condition\n",
    "    print(\"good afternoon\")#careful about identation\n",
    "print(\"Greetings Done\")"
   ]
  },
  {
   "cell_type": "markdown",
   "id": "49a97544-d64a-4b5c-b162-268786368cdf",
   "metadata": {},
   "source": [
    "### nested if else"
   ]
  },
  {
   "cell_type": "code",
   "execution_count": 112,
   "id": "483cc2ce-899a-4c30-803a-57b60ba15817",
   "metadata": {},
   "outputs": [
    {
     "name": "stdout",
     "output_type": "stream",
     "text": [
      "Above 10\n",
      "Below 20\n"
     ]
    }
   ],
   "source": [
    "num = 12\n",
    "if num>=10:\n",
    "    print(\"Above 10\")\n",
    "    if num <= 20:\n",
    "        print(\"Below 20\")\n",
    "    else:\n",
    "        print(\"Above 20\")\n",
    "else:\n",
    "    print(\"invalid\")"
   ]
  },
  {
   "cell_type": "markdown",
   "id": "9b703200",
   "metadata": {},
   "source": [
    "# Boolean\n",
    "\n",
    "In python boolean values(True and False) first alphabet should be uppercase"
   ]
  },
  {
   "cell_type": "code",
   "execution_count": 113,
   "id": "93c206d3",
   "metadata": {},
   "outputs": [
    {
     "data": {
      "text/plain": [
       "False"
      ]
     },
     "execution_count": 113,
     "metadata": {},
     "output_type": "execute_result"
    }
   ],
   "source": [
    "54>58"
   ]
  },
  {
   "cell_type": "code",
   "execution_count": 114,
   "id": "ada3023c",
   "metadata": {},
   "outputs": [
    {
     "data": {
      "text/plain": [
       "bool"
      ]
     },
     "execution_count": 114,
     "metadata": {},
     "output_type": "execute_result"
    }
   ],
   "source": [
    "type(False)"
   ]
  },
  {
   "cell_type": "markdown",
   "id": "8c2cabe3-325e-4a03-9981-67737f00f3a2",
   "metadata": {},
   "source": [
    "# Sets\n",
    "\n",
    "Sets are unordered collections of unique elements.Meaning there can be only one representative of the same object\n",
    "\n"
   ]
  },
  {
   "cell_type": "raw",
   "id": "a32e08a9",
   "metadata": {},
   "source": [
    "fruits=set()\n",
    "fruits.add('date')\n",
    "fruits\n"
   ]
  },
  {
   "cell_type": "code",
   "execution_count": 115,
   "id": "babc7fe6",
   "metadata": {},
   "outputs": [
    {
     "data": {
      "text/plain": [
       "{'apple', 'date', 'orange'}"
      ]
     },
     "execution_count": 115,
     "metadata": {},
     "output_type": "execute_result"
    }
   ],
   "source": [
    "fruits=set()\n",
    "fruits.add('date')\n",
    "fruits.add('apple')\n",
    "fruits.add('orange')\n",
    "fruits.add('apple')\n",
    "fruits\n",
    "#no duplicate values only unique elements"
   ]
  },
  {
   "cell_type": "code",
   "execution_count": 120,
   "id": "f17899f0",
   "metadata": {},
   "outputs": [
    {
     "data": {
      "text/plain": [
       "{2, True, 'apple', 'banana', 'grape', 'orange', 'pineapple', 'watermelon'}"
      ]
     },
     "execution_count": 120,
     "metadata": {},
     "output_type": "execute_result"
    }
   ],
   "source": [
    "#can be used second bracket as well\n",
    "fruits={'banana','grape','orange','apple','apple','apple','pineapple','watermelon', True, 2}\n",
    "set(fruits)\n",
    "#no duplicate values only unique elements"
   ]
  },
  {
   "cell_type": "markdown",
   "id": "57628e7d-35b7-405c-9ff9-cf7d5ff07773",
   "metadata": {},
   "source": [
    "### add "
   ]
  },
  {
   "cell_type": "code",
   "execution_count": 121,
   "id": "ebff4929-ef84-4dea-b774-d08e12775a2a",
   "metadata": {},
   "outputs": [],
   "source": [
    "fruits.add('date')\n",
    "fruits.add('kiwi')\n",
    "fruits.add('peach')\n"
   ]
  },
  {
   "cell_type": "code",
   "execution_count": 122,
   "id": "5b1fdb18-ebee-4c63-8fb1-4bb4a63bca57",
   "metadata": {},
   "outputs": [
    {
     "name": "stdout",
     "output_type": "stream",
     "text": [
      "{'orange', 2, True, 'kiwi', 'pineapple', 'peach', 'apple', 'banana', 'date', 'watermelon', 'grape'}\n"
     ]
    }
   ],
   "source": [
    "print(fruits)"
   ]
  },
  {
   "cell_type": "markdown",
   "id": "4f6da520-e57c-45ad-a4a3-6cb916e85671",
   "metadata": {},
   "source": [
    "### merge // update(set_name)"
   ]
  },
  {
   "cell_type": "code",
   "execution_count": 123,
   "id": "8b532bef-bd10-4a1f-8619-4439fb694368",
   "metadata": {},
   "outputs": [],
   "source": [
    "price= (10,20,30,40,50,60)"
   ]
  },
  {
   "cell_type": "code",
   "execution_count": 124,
   "id": "8513dcfd-03e2-4127-8e32-046f20ce6bbf",
   "metadata": {},
   "outputs": [],
   "source": [
    "fruits.update(price)"
   ]
  },
  {
   "cell_type": "code",
   "execution_count": 125,
   "id": "ceff9965-6348-41d2-8791-d274c5baebf5",
   "metadata": {},
   "outputs": [
    {
     "name": "stdout",
     "output_type": "stream",
     "text": [
      "{'orange', 2, True, 'kiwi', 'pineapple', 40, 10, 'peach', 60, 'apple', 50, 'banana', 20, 30, 'date', 'watermelon', 'grape'}\n"
     ]
    }
   ],
   "source": [
    "print(fruits)"
   ]
  },
  {
   "cell_type": "code",
   "execution_count": 126,
   "id": "bc3fb40a-e1fa-4972-97a2-c9864a089e63",
   "metadata": {},
   "outputs": [
    {
     "name": "stdout",
     "output_type": "stream",
     "text": [
      "(10, 20, 30, 40, 50, 60)\n"
     ]
    }
   ],
   "source": [
    "print(price)"
   ]
  },
  {
   "cell_type": "markdown",
   "id": "1d93f0a8-f200-45aa-b495-e3358e6647de",
   "metadata": {},
   "source": [
    "### remove/discard"
   ]
  },
  {
   "cell_type": "code",
   "execution_count": 128,
   "id": "0a981069-82a0-45ad-b360-d1f17e0a2411",
   "metadata": {},
   "outputs": [],
   "source": [
    "fruits.remove('kiwi')"
   ]
  },
  {
   "cell_type": "code",
   "execution_count": 129,
   "id": "5801be52-3b9a-4095-b745-dce6d2c41cb5",
   "metadata": {},
   "outputs": [
    {
     "name": "stdout",
     "output_type": "stream",
     "text": [
      "{'orange', 2, True, 'pineapple', 40, 10, 'peach', 60, 'apple', 50, 'banana', 20, 30, 'date', 'watermelon', 'grape'}\n"
     ]
    }
   ],
   "source": [
    "print(fruits)"
   ]
  },
  {
   "cell_type": "code",
   "execution_count": 132,
   "id": "54bb2ea7-5af6-4408-9997-2dcf27d808a1",
   "metadata": {},
   "outputs": [],
   "source": [
    "fruits.discard(2)"
   ]
  },
  {
   "cell_type": "code",
   "execution_count": 136,
   "id": "7b9f2e9b-0a5a-49a9-9751-e4da7f8437cc",
   "metadata": {},
   "outputs": [
    {
     "data": {
      "text/plain": [
       "{10,\n",
       " 20,\n",
       " 30,\n",
       " 40,\n",
       " 50,\n",
       " 60,\n",
       " True,\n",
       " 'apple',\n",
       " 'banana',\n",
       " 'date',\n",
       " 'grape',\n",
       " 'orange',\n",
       " 'peach',\n",
       " 'pineapple'}"
      ]
     },
     "execution_count": 136,
     "metadata": {},
     "output_type": "execute_result"
    }
   ],
   "source": [
    "set(fruits)"
   ]
  },
  {
   "cell_type": "code",
   "execution_count": 137,
   "id": "3e263930-121f-4199-bd39-fe4216ec00c7",
   "metadata": {},
   "outputs": [
    {
     "name": "stdout",
     "output_type": "stream",
     "text": [
      "{'orange', True, 'pineapple', 40, 10, 'peach', 60, 'apple', 50, 'banana', 20, 30, 'date', 'grape'}\n"
     ]
    }
   ],
   "source": [
    "print (fruits)"
   ]
  },
  {
   "cell_type": "markdown",
   "id": "f719e664-8918-4c10-b335-63862bb73ba7",
   "metadata": {},
   "source": [
    "### union\n",
    "\n",
    "Technically, union and update do the same work"
   ]
  },
  {
   "cell_type": "code",
   "execution_count": 139,
   "id": "b7f8ea6f-606d-493d-bb93-e6d4e73e8c9f",
   "metadata": {},
   "outputs": [],
   "source": [
    "set1= {'a','b','c',1,2,3}\n",
    "set2= {'x','y','z',1,2}\n",
    "set3= set1.union(set2)\n"
   ]
  },
  {
   "cell_type": "code",
   "execution_count": 140,
   "id": "f097c7e7-c56e-4b86-b963-41381a1218fd",
   "metadata": {},
   "outputs": [
    {
     "name": "stdout",
     "output_type": "stream",
     "text": [
      "{'x', 1, 2, 3, 'c', 'y', 'b', 'z', 'a'}\n"
     ]
    }
   ],
   "source": [
    "print(set3)"
   ]
  },
  {
   "cell_type": "markdown",
   "id": "bb4ba42e-eb0b-4a85-a43c-fa9f79492a4a",
   "metadata": {},
   "source": [
    "### intersection"
   ]
  },
  {
   "cell_type": "code",
   "execution_count": 142,
   "id": "4f45e157-38a0-46af-807e-344f4e449e02",
   "metadata": {},
   "outputs": [],
   "source": [
    "set1= {'a', 'b', 'c',1,2,3}\n",
    "set2= {'x','y','z',1,2}\n",
    "set4= set1.intersection(set2)"
   ]
  },
  {
   "cell_type": "code",
   "execution_count": 143,
   "id": "a464ea12-5cde-4168-a1fb-1642efab9233",
   "metadata": {},
   "outputs": [
    {
     "name": "stdout",
     "output_type": "stream",
     "text": [
      "{1, 2}\n"
     ]
    }
   ],
   "source": [
    "print(set4)"
   ]
  },
  {
   "cell_type": "markdown",
   "id": "1783fdcd-4d46-4f3c-a83d-1710ef65ed65",
   "metadata": {},
   "source": [
    "### difference"
   ]
  },
  {
   "cell_type": "code",
   "execution_count": 145,
   "id": "7a9af081-13bd-45fc-8b30-ca48d768ff3b",
   "metadata": {},
   "outputs": [],
   "source": [
    "set1= {'a', 'b', 'c',1,2,3}\n",
    "set2= {'x','y','z',1,2}\n",
    "set5=set1.difference(set2)"
   ]
  },
  {
   "cell_type": "code",
   "execution_count": 146,
   "id": "39eb23d2-243e-4382-b260-f74205d9997f",
   "metadata": {},
   "outputs": [
    {
     "name": "stdout",
     "output_type": "stream",
     "text": [
      "{'b', 'c', 3, 'a'}\n"
     ]
    }
   ],
   "source": [
    "print(set5)"
   ]
  },
  {
   "cell_type": "code",
   "execution_count": 147,
   "id": "b3a87ae8-a2fc-46ee-a469-5fe2fbf995c2",
   "metadata": {},
   "outputs": [],
   "source": [
    "set1= {'a', 'b', 'c',1,2,3}\n",
    "set2= {'x','y','z',1,2}\n",
    "set6=set2.difference(set1)"
   ]
  },
  {
   "cell_type": "code",
   "execution_count": 148,
   "id": "73cbec08-3210-4d9d-a9ae-6d9630d676a3",
   "metadata": {},
   "outputs": [
    {
     "name": "stdout",
     "output_type": "stream",
     "text": [
      "{'x', 'y', 'z'}\n"
     ]
    }
   ],
   "source": [
    "print(set6)"
   ]
  },
  {
   "cell_type": "code",
   "execution_count": null,
   "id": "bedafd86-1af1-4b32-9976-046ae3fc7dbc",
   "metadata": {},
   "outputs": [],
   "source": [
    "Comparison Operators"
   ]
  },
  {
   "cell_type": "code",
   "execution_count": 117,
   "id": "b1820a31",
   "metadata": {},
   "outputs": [
    {
     "data": {
      "text/plain": [
       "False"
      ]
     },
     "execution_count": 117,
     "metadata": {},
     "output_type": "execute_result"
    }
   ],
   "source": [
    "2 == 1\n"
   ]
  },
  {
   "cell_type": "code",
   "execution_count": 118,
   "id": "3ea0905a",
   "metadata": {},
   "outputs": [
    {
     "data": {
      "text/plain": [
       "True"
      ]
     },
     "execution_count": 118,
     "metadata": {},
     "output_type": "execute_result"
    }
   ],
   "source": [
    "'Hello' == 'Hello'"
   ]
  },
  {
   "cell_type": "code",
   "execution_count": 119,
   "id": "6a294394",
   "metadata": {},
   "outputs": [
    {
     "data": {
      "text/plain": [
       "False"
      ]
     },
     "execution_count": 119,
     "metadata": {},
     "output_type": "execute_result"
    }
   ],
   "source": [
    "'Hello'== 'hello'\n",
    "#because of uppercase and lowercase problem"
   ]
  },
  {
   "cell_type": "code",
   "execution_count": 120,
   "id": "bea66956",
   "metadata": {},
   "outputs": [
    {
     "data": {
      "text/plain": [
       "True"
      ]
     },
     "execution_count": 120,
     "metadata": {},
     "output_type": "execute_result"
    }
   ],
   "source": [
    "4!=5\n"
   ]
  },
  {
   "cell_type": "code",
   "execution_count": 121,
   "id": "a954522d",
   "metadata": {},
   "outputs": [
    {
     "data": {
      "text/plain": [
       "False"
      ]
     },
     "execution_count": 121,
     "metadata": {},
     "output_type": "execute_result"
    }
   ],
   "source": [
    "not 5 == 5"
   ]
  },
  {
   "cell_type": "code",
   "execution_count": 122,
   "id": "561e0b7b",
   "metadata": {},
   "outputs": [
    {
     "data": {
      "text/plain": [
       "True"
      ]
     },
     "execution_count": 122,
     "metadata": {},
     "output_type": "execute_result"
    }
   ],
   "source": [
    "4<=9"
   ]
  },
  {
   "cell_type": "code",
   "execution_count": 123,
   "id": "485fd2ec",
   "metadata": {},
   "outputs": [
    {
     "data": {
      "text/plain": [
       "True"
      ]
     },
     "execution_count": 123,
     "metadata": {},
     "output_type": "execute_result"
    }
   ],
   "source": [
    "'h'=='h' and 2==2"
   ]
  },
  {
   "cell_type": "code",
   "execution_count": 124,
   "id": "d30124a1",
   "metadata": {},
   "outputs": [
    {
     "data": {
      "text/plain": [
       "True"
      ]
     },
     "execution_count": 124,
     "metadata": {},
     "output_type": "execute_result"
    }
   ],
   "source": [
    "'h'=='h' or 2==2"
   ]
  },
  {
   "cell_type": "code",
   "execution_count": 125,
   "id": "65011954",
   "metadata": {},
   "outputs": [
    {
     "data": {
      "text/plain": [
       "False"
      ]
     },
     "execution_count": 125,
     "metadata": {},
     "output_type": "execute_result"
    }
   ],
   "source": [
    "'h'=='h' and 2==4"
   ]
  },
  {
   "cell_type": "code",
   "execution_count": 126,
   "id": "6a9351a9",
   "metadata": {},
   "outputs": [
    {
     "data": {
      "text/plain": [
       "True"
      ]
     },
     "execution_count": 126,
     "metadata": {},
     "output_type": "execute_result"
    }
   ],
   "source": [
    "'h'=='h' or 2==4"
   ]
  },
  {
   "cell_type": "raw",
   "id": "5855d428",
   "metadata": {},
   "source": [
    "If-else-elif"
   ]
  },
  {
   "cell_type": "code",
   "execution_count": 127,
   "id": "297d870a",
   "metadata": {},
   "outputs": [
    {
     "name": "stdout",
     "output_type": "stream",
     "text": [
      "invalid\n"
     ]
    }
   ],
   "source": [
    "alph='C'\n",
    "if alph=='A':\n",
    " print('vowel')\n",
    "elif alph == 'B':\n",
    " print('consonent')\n",
    "else:\n",
    " print('invalid')"
   ]
  },
  {
   "cell_type": "markdown",
   "id": "c08464e6",
   "metadata": {},
   "source": [
    "# For Loop"
   ]
  },
  {
   "cell_type": "markdown",
   "id": "39cf9ad1-e77b-4e07-b51f-682060ed75bd",
   "metadata": {},
   "source": [
    "### String"
   ]
  },
  {
   "cell_type": "code",
   "execution_count": 3,
   "id": "b93a22c7-f697-4955-90e8-a8bace5950f5",
   "metadata": {},
   "outputs": [
    {
     "name": "stdout",
     "output_type": "stream",
     "text": [
      "N\n",
      "i\n",
      "special\n",
      "l\n",
      "o\n",
      "y\n"
     ]
    }
   ],
   "source": [
    "name = 'Niloy'\n",
    "for i in name:\n",
    "    print(i)\n",
    "    if i == 'i':\n",
    "        print(\"special\")"
   ]
  },
  {
   "cell_type": "markdown",
   "id": "88b767bf-3b1d-4abf-9aeb-930448b67b80",
   "metadata": {},
   "source": [
    "### List"
   ]
  },
  {
   "cell_type": "code",
   "execution_count": 128,
   "id": "6d9cff15",
   "metadata": {},
   "outputs": [
    {
     "name": "stdout",
     "output_type": "stream",
     "text": [
      "banana\n",
      "grape\n",
      "orange\n",
      "apple\n",
      "pineapple\n",
      "watermelon\n"
     ]
    }
   ],
   "source": [
    "fruits=['banana','grape','orange','apple','pineapple','watermelon']\n",
    "for i in fruits:\n",
    "    print(i)"
   ]
  },
  {
   "cell_type": "code",
   "execution_count": 6,
   "id": "d471a9cd-5798-4a7f-a6aa-3150b3e440c1",
   "metadata": {},
   "outputs": [
    {
     "name": "stdout",
     "output_type": "stream",
     "text": [
      "banana\n",
      "b\n",
      "a\n",
      "n\n",
      "a\n",
      "n\n",
      "a\n",
      "grape\n",
      "g\n",
      "r\n",
      "a\n",
      "p\n",
      "e\n",
      "orange\n",
      "o\n",
      "r\n",
      "a\n",
      "n\n",
      "g\n",
      "e\n",
      "apple\n",
      "a\n",
      "p\n",
      "p\n",
      "l\n",
      "e\n",
      "pineapple\n",
      "p\n",
      "i\n",
      "n\n",
      "e\n",
      "a\n",
      "p\n",
      "p\n",
      "l\n",
      "e\n",
      "watermelon\n",
      "w\n",
      "a\n",
      "t\n",
      "e\n",
      "r\n",
      "m\n",
      "e\n",
      "l\n",
      "o\n",
      "n\n"
     ]
    }
   ],
   "source": [
    "fruits=['banana','grape','orange','apple','pineapple','watermelon']\n",
    "for fruit in fruits:\n",
    "    print(fruit)\n",
    "    for i in fruit:\n",
    "        print(i)\n"
   ]
  },
  {
   "cell_type": "code",
   "execution_count": 4,
   "id": "bc066297",
   "metadata": {},
   "outputs": [
    {
     "name": "stdout",
     "output_type": "stream",
     "text": [
      "banana will cost 10 $\n",
      "grape will cost 40 $\n",
      "orange will cost 30 $\n",
      "apple will cost 20 $\n"
     ]
    }
   ],
   "source": [
    "\n",
    "fruits=[['banana',10],['grape',40],['orange',30],['apple',20]]\n",
    "for i,j in fruits:\n",
    "    print(i,\"will cost\",j,\"$\")"
   ]
  },
  {
   "cell_type": "markdown",
   "id": "2836032e-4a70-475c-996e-10dfdf67adea",
   "metadata": {},
   "source": [
    "### Range"
   ]
  },
  {
   "cell_type": "code",
   "execution_count": 11,
   "id": "f1c8f4c9-eba9-4747-a26b-58cd9d6931b1",
   "metadata": {},
   "outputs": [
    {
     "name": "stdout",
     "output_type": "stream",
     "text": [
      "5\n",
      "6\n",
      "7\n",
      "8\n",
      "9\n"
     ]
    }
   ],
   "source": [
    "for i in range(5,10):\n",
    "    print(i)"
   ]
  },
  {
   "cell_type": "code",
   "execution_count": 10,
   "id": "461e72d8-0219-4126-9199-300cc6618ab6",
   "metadata": {},
   "outputs": [
    {
     "name": "stdout",
     "output_type": "stream",
     "text": [
      "0\n",
      "1\n",
      "2\n",
      "3\n",
      "4\n",
      "5\n",
      "6\n",
      "7\n",
      "8\n",
      "9\n"
     ]
    }
   ],
   "source": [
    "for i in range(10):\n",
    "    print(i)"
   ]
  },
  {
   "cell_type": "code",
   "execution_count": 12,
   "id": "bf897ccb-9f1c-407a-bd4e-20ecf63e2c6d",
   "metadata": {},
   "outputs": [
    {
     "name": "stdout",
     "output_type": "stream",
     "text": [
      "1\n",
      "3\n",
      "5\n",
      "7\n",
      "9\n"
     ]
    }
   ],
   "source": [
    "for i in range(1,10,2):\n",
    "        print(i)\n",
    "    "
   ]
  },
  {
   "cell_type": "markdown",
   "id": "451657b6-7aac-4f11-bec4-99fb606db6be",
   "metadata": {},
   "source": [
    "### nested list using for loop/"
   ]
  },
  {
   "cell_type": "code",
   "execution_count": 130,
   "id": "e509ef32-46d4-42f3-b057-a8bbf053a877",
   "metadata": {},
   "outputs": [
    {
     "name": "stdout",
     "output_type": "stream",
     "text": [
      "['Chips', 'Cookies']\n",
      "['Cake', 'Juice']\n",
      "['Soda', 'Pizza']\n"
     ]
    }
   ],
   "source": [
    "party_bag=[\n",
    "    [\"Chips\", \"Cookies\"],\n",
    "    [\"Cake\", \"Juice\"],\n",
    "    [\"Soda\", \"Pizza\"]\n",
    "]\n",
    "for i in party_bag:\n",
    "    print(i)"
   ]
  },
  {
   "cell_type": "code",
   "execution_count": 131,
   "id": "408928ca-45c9-4a59-b906-e70c2222b5ff",
   "metadata": {},
   "outputs": [
    {
     "name": "stdout",
     "output_type": "stream",
     "text": [
      "Potato\n",
      "Cookies\n",
      "Cake\n",
      "Juice\n",
      "Soda\n",
      "Pizza\n"
     ]
    }
   ],
   "source": [
    "snack_bag=[\n",
    "    [\"Potato\", \"Cookies\"],\n",
    "    [\"Cake\", \"Juice\"],\n",
    "    [\"Soda\", \"Pizza\"]\n",
    "]\n",
    "for i in snack_bag:\n",
    "    for item in i:\n",
    "        print(item)"
   ]
  },
  {
   "cell_type": "markdown",
   "id": "b6da3f2a-6f08-4a87-bad8-f810ea5e204e",
   "metadata": {},
   "source": [
    "### index print/ enumerate( )"
   ]
  },
  {
   "cell_type": "code",
   "execution_count": 132,
   "id": "687a981b-0647-42cb-b870-09ed7966b2ef",
   "metadata": {},
   "outputs": [
    {
     "name": "stdout",
     "output_type": "stream",
     "text": [
      "0 banana\n",
      "1 grape\n",
      "2 orange\n",
      "3 apple\n",
      "4 pineapple\n",
      "5 watermelon\n"
     ]
    }
   ],
   "source": [
    "fruits=['banana','grape','orange','apple','pineapple','watermelon']\n",
    "for index, value in enumerate(fruits):\n",
    "    print(index,value)"
   ]
  },
  {
   "cell_type": "markdown",
   "id": "92871223-f933-4384-9c50-ffd211d1b866",
   "metadata": {},
   "source": [
    "### break"
   ]
  },
  {
   "cell_type": "code",
   "execution_count": 133,
   "id": "551806c5-b6b7-4c39-bf0a-f507740ce705",
   "metadata": {},
   "outputs": [
    {
     "name": "stdout",
     "output_type": "stream",
     "text": [
      "0 banana\n",
      "1 grape\n",
      "2 orange\n",
      "3 apple\n"
     ]
    }
   ],
   "source": [
    "fruits=['banana','grape','orange','apple','pineapple','watermelon']\n",
    "for index, value in enumerate(fruits):\n",
    "    print(index,value)\n",
    "    if value == 'apple':\n",
    "        break\n",
    "    "
   ]
  },
  {
   "cell_type": "markdown",
   "id": "b0bc20ad-82c1-492c-b67d-9f53976cf26e",
   "metadata": {},
   "source": [
    "### continue"
   ]
  },
  {
   "cell_type": "code",
   "execution_count": 134,
   "id": "1a376a81-cc07-4fd5-a67f-642c08e6bd22",
   "metadata": {},
   "outputs": [
    {
     "name": "stdout",
     "output_type": "stream",
     "text": [
      "0 banana\n",
      "1 grape\n",
      "2 orange\n",
      "4 peach\n",
      "6 watermelon\n"
     ]
    }
   ],
   "source": [
    "fruits=['banana','grape','orange','apple','peach','apple','watermelon']\n",
    "for index, value in enumerate(fruits):\n",
    "    if value == 'apple':\n",
    "        continue\n",
    "    print(index,value)\n",
    "    "
   ]
  },
  {
   "cell_type": "code",
   "execution_count": 135,
   "id": "83274619",
   "metadata": {},
   "outputs": [
    {
     "name": "stdout",
     "output_type": "stream",
     "text": [
      "('banana', 10)\n",
      "('grape', 40)\n",
      "('orange', 30)\n",
      "('apple', 20)\n",
      "('pineapple', 50)\n",
      "('watermelon', 60)\n"
     ]
    }
   ],
   "source": [
    "#dictionary\n",
    "fruits={'banana':10,'grape':40,'orange':30,'apple':20,'pineapple':50,'watermelon':60}\n",
    "for i in fruits.items():\n",
    "    print(i)"
   ]
  },
  {
   "cell_type": "code",
   "execution_count": 136,
   "id": "a398bfe4",
   "metadata": {},
   "outputs": [
    {
     "name": "stdout",
     "output_type": "stream",
     "text": [
      "40\n",
      "30\n",
      "50\n",
      "60\n"
     ]
    }
   ],
   "source": [
    "#print items which are numbers and gretaer than 20\n",
    "fruits=['banana',10,'grape',40,'orange',30,'apple',20,'pineapple',50,'watermelon',60]\n",
    "for i in fruits:\n",
    "\n",
    "    if str(i).isnumeric() and i>20:\n",
    "     print(i)\n",
    "\n",
    "#str(i) is used for typecasting and isnumeric() is a function"
   ]
  },
  {
   "cell_type": "code",
   "execution_count": 137,
   "id": "fa417208",
   "metadata": {},
   "outputs": [
    {
     "name": "stdout",
     "output_type": "stream",
     "text": [
      "apple\n",
      "apple\n",
      "apple\n",
      "apple\n",
      "apple\n",
      "apple\n",
      "apple\n",
      "apple\n",
      "apple\n",
      "apple\n",
      "\n"
     ]
    }
   ],
   "source": [
    "#print apple 10 items\n",
    "fruits=['apple\\n']\n",
    "for i in fruits:\n",
    "    print(i*10)"
   ]
  },
  {
   "cell_type": "code",
   "execution_count": 138,
   "id": "716ef725",
   "metadata": {},
   "outputs": [
    {
     "name": "stdout",
     "output_type": "stream",
     "text": [
      "Odd Numbers: 1\n",
      "Even Numbers: 2\n",
      "Odd Numbers: 3\n",
      "Even Numbers: 4\n",
      "Odd Numbers: 5\n",
      "Even Numbers: 6\n",
      "Odd Numbers: 7\n",
      "Even Numbers: 8\n",
      "Odd Numbers: 9\n",
      "Even Numbers: 10\n"
     ]
    }
   ],
   "source": [
    "#print odd numbers between (1-10) using for loop\n",
    "for i in range(1,11):\n",
    "\n",
    "    if i%2==1:\n",
    "        print(\"Odd Numbers:\",i)\n",
    "    elif i%2==0:\n",
    "        print(\"Even Numbers:\",i)"
   ]
  },
  {
   "cell_type": "code",
   "execution_count": 139,
   "id": "ae9cdb4d",
   "metadata": {},
   "outputs": [
    {
     "name": "stdout",
     "output_type": "stream",
     "text": [
      "1\n",
      "3\n",
      "6\n",
      "10\n",
      "15\n",
      "21\n",
      "28\n",
      "36\n",
      "45\n"
     ]
    }
   ],
   "source": [
    "#print the sum of numbers(1-10)\n",
    "sum=0\n",
    "for i in range(1,10):\n",
    "    sum=sum+i\n",
    "    print(sum)"
   ]
  },
  {
   "cell_type": "markdown",
   "id": "da15a2cd-e752-465a-bd6d-48fe7f46a45e",
   "metadata": {},
   "source": [
    "### range"
   ]
  },
  {
   "cell_type": "code",
   "execution_count": 140,
   "id": "2582db0b",
   "metadata": {},
   "outputs": [
    {
     "name": "stdout",
     "output_type": "stream",
     "text": [
      "1\n",
      "3\n",
      "6\n",
      "10\n",
      "15\n",
      "21\n",
      "28\n",
      "36\n",
      "45\n"
     ]
    }
   ],
   "source": [
    "#print the total sum of numbers(1-10)\n",
    "sum=0\n",
    "for i in range(1,10):\n",
    "    sum=sum+i\n",
    "    print(sum)"
   ]
  },
  {
   "cell_type": "code",
   "execution_count": 141,
   "id": "5fd29788",
   "metadata": {},
   "outputs": [
    {
     "name": "stdout",
     "output_type": "stream",
     "text": [
      "H\n",
      "e\n",
      "l\n",
      "l\n",
      "o\n",
      " \n",
      "W\n",
      "o\n",
      "r\n",
      "l\n",
      "d\n"
     ]
    }
   ],
   "source": [
    "#for loop in string\n",
    "for i in 'Hello World':\n",
    "    print(i)"
   ]
  },
  {
   "cell_type": "code",
   "execution_count": 142,
   "id": "8d0862ce",
   "metadata": {},
   "outputs": [
    {
     "name": "stdout",
     "output_type": "stream",
     "text": [
      "Hi\n",
      "Hi\n",
      "Hi\n",
      "Hi\n",
      "Hi\n",
      "Hi\n",
      "Hi\n",
      "Hi\n",
      "Hi\n",
      "Hi\n",
      "Hi\n"
     ]
    }
   ],
   "source": [
    "for _ in 'Hello World':\n",
    "    print('Hi')"
   ]
  },
  {
   "cell_type": "code",
   "execution_count": 143,
   "id": "7538b784",
   "metadata": {},
   "outputs": [
    {
     "name": "stdout",
     "output_type": "stream",
     "text": [
      "banana\n",
      "grape\n",
      "orange\n",
      "apple\n",
      "pineapple\n",
      "watermelon\n"
     ]
    }
   ],
   "source": [
    "#tuples\n",
    "fruits=('banana','grape','orange','apple','pineapple','watermelon')\n",
    "for i in fruits:\n",
    "    print(i)"
   ]
  },
  {
   "cell_type": "code",
   "execution_count": 144,
   "id": "39744ae1",
   "metadata": {},
   "outputs": [
    {
     "name": "stdout",
     "output_type": "stream",
     "text": [
      "banana\n",
      "grape\n"
     ]
    }
   ],
   "source": [
    "#list inside a tuples for loops\n",
    "fruits=[('banana',10),('grape',20)]\n",
    "for i,j in fruits:\n",
    "    print(i)"
   ]
  },
  {
   "cell_type": "code",
   "execution_count": 145,
   "id": "b82ad965",
   "metadata": {},
   "outputs": [
    {
     "name": "stdout",
     "output_type": "stream",
     "text": [
      "10\n",
      "20\n"
     ]
    }
   ],
   "source": [
    "#list inside a tuples for loops\n",
    "fruits=[('banana',10),('grape',20)]\n",
    "for i,j in fruits:\n",
    "    print(j)"
   ]
  },
  {
   "cell_type": "code",
   "execution_count": 146,
   "id": "3ff2652d",
   "metadata": {},
   "outputs": [
    {
     "name": "stdout",
     "output_type": "stream",
     "text": [
      "10\n",
      "40\n",
      "30\n",
      "20\n",
      "50\n",
      "60\n"
     ]
    }
   ],
   "source": [
    "#dictionary in for loops\n",
    "fruits={'banana':10,'grape':40,'orange':30,'apple':20,'pineapple':50,'watermelon':60}\n",
    "for key,value in fruits.items():\n",
    "    print(value)\n"
   ]
  },
  {
   "cell_type": "code",
   "execution_count": 147,
   "id": "e4cdae25",
   "metadata": {},
   "outputs": [
    {
     "name": "stdout",
     "output_type": "stream",
     "text": [
      "banana\n",
      "grape\n",
      "orange\n",
      "apple\n",
      "pineapple\n",
      "watermelon\n"
     ]
    }
   ],
   "source": [
    "#dictionary in for loops\n",
    "fruits={'banana':10,'grape':40,'orange':30,'apple':20,'pineapple':50,'watermelon':60}\n",
    "for key,value in fruits.items():\n",
    "    print(key)\n"
   ]
  },
  {
   "cell_type": "code",
   "execution_count": 148,
   "id": "53d0ca30",
   "metadata": {},
   "outputs": [
    {
     "name": "stdout",
     "output_type": "stream",
     "text": [
      "45\n"
     ]
    }
   ],
   "source": [
    "#sum of First 10 Natural Numbers\n",
    "sum=0\n",
    "for i in range(1,10):\n",
    "    sum=sum+i\n",
    "print(sum)"
   ]
  },
  {
   "cell_type": "code",
   "execution_count": 149,
   "id": "546fcc9f",
   "metadata": {},
   "outputs": [
    {
     "name": "stdout",
     "output_type": "stream",
     "text": [
      "1\n",
      "4\n",
      "9\n",
      "16\n"
     ]
    }
   ],
   "source": [
    "#square of First 5 Natural Numbers\n",
    "#sum=0\n",
    "for i in range(1,5):\n",
    "    #sum=sum+i\n",
    "    print(i*i)"
   ]
  },
  {
   "cell_type": "code",
   "execution_count": null,
   "id": "fbd49118",
   "metadata": {},
   "outputs": [
    {
     "name": "stdin",
     "output_type": "stream",
     "text": [
      "Enter number of elements :  1\n"
     ]
    }
   ],
   "source": [
    "#take numbers as list\n",
    "\n",
    "# creating an empty list\n",
    "lst = []\n",
    "\n",
    "# number of elements as input\n",
    "n = int(input(\"Enter number of elements : \"))\n",
    "\n",
    "# iterating till the range\n",
    "for i in range(0, n):\n",
    "    ele = int(input())\n",
    "\n",
    "    lst.append(ele) # adding the element\n",
    "\n",
    "print(lst)\n"
   ]
  },
  {
   "cell_type": "code",
   "execution_count": null,
   "id": "04619ee2",
   "metadata": {},
   "outputs": [],
   "source": [
    "#range and for loop\n",
    "for i in range(1,10,2):\n",
    "    print(i)\n",
    "print(\"*********\")\n",
    "    \n",
    "for j in range (10): \n",
    "    print(j)\n",
    "#loop will consider 10 as the maximum limit    "
   ]
  },
  {
   "cell_type": "markdown",
   "id": "ae63ec60",
   "metadata": {},
   "source": [
    "# While Loop"
   ]
  },
  {
   "cell_type": "code",
   "execution_count": null,
   "id": "26807ee9",
   "metadata": {},
   "outputs": [],
   "source": [
    "i=0\n",
    "while i<11:\n",
    "    print(i)\n",
    "    i=i+1\n",
    "    "
   ]
  },
  {
   "cell_type": "code",
   "execution_count": null,
   "id": "3410e32f",
   "metadata": {},
   "outputs": [],
   "source": [
    "#even and odd numbers using while loop\n",
    "i=1\n",
    "\n",
    "while(i<=10):\n",
    "    if(i%2==0):\n",
    "        print(\"Even\",i)\n",
    "\n",
    "    else:\n",
    "        print(\"Odd\",i)\n",
    "\n",
    "    i=i+1\n",
    "    "
   ]
  },
  {
   "cell_type": "code",
   "execution_count": null,
   "id": "4b1ee857",
   "metadata": {},
   "outputs": [],
   "source": [
    "#understanding break and continue with the help of while loop\n",
    "i = 10\n",
    "while i > 1:\n",
    "    if i == 9:\n",
    "        i=i-1\n",
    "        continue\n",
    "    if i == 4:\n",
    "        break\n",
    "    print(i)\n",
    "    i=i-1\n",
    "\n",
    "#continue will skip the number 9 and get out of the loop\n",
    "#break will come out of the loop and also will abort further execution \n",
    "\n",
    "    "
   ]
  },
  {
   "cell_type": "markdown",
   "id": "37b8aaf8",
   "metadata": {},
   "source": [
    "# Pass\n",
    "Do  nothing at all"
   ]
  },
  {
   "cell_type": "code",
   "execution_count": null,
   "id": "2d5c17ad",
   "metadata": {},
   "outputs": [],
   "source": [
    "x=[1,2,3]\n",
    "for item in x:\n",
    "    #we want our program to stop here and do not execute inside this for loop\n",
    "    pass\n",
    "print(\"end of script\")\n",
    "    "
   ]
  },
  {
   "cell_type": "markdown",
   "id": "9abed16b",
   "metadata": {},
   "source": [
    "# Continue\n",
    "Goes to the top of closest enclosing loop"
   ]
  },
  {
   "cell_type": "code",
   "execution_count": null,
   "id": "f8eedee4",
   "metadata": {},
   "outputs": [],
   "source": [
    "for i in 'banana':\n",
    "    if i =='a':\n",
    "        continue\n",
    "    print(i)"
   ]
  },
  {
   "cell_type": "markdown",
   "id": "aaead90b",
   "metadata": {},
   "source": [
    "# Break\n",
    "Breaks out of the current closest enclosing loop"
   ]
  },
  {
   "cell_type": "code",
   "execution_count": null,
   "id": "ae6e9fd0",
   "metadata": {},
   "outputs": [],
   "source": [
    "for i in 'banana':\n",
    "    if i =='n':\n",
    "        break\n",
    "    print(i)"
   ]
  },
  {
   "cell_type": "code",
   "execution_count": null,
   "id": "825ca262",
   "metadata": {},
   "outputs": [],
   "source": [
    "for i in range(1,11):\n",
    "    if i==5:\n",
    "        break\n",
    "    print(i)"
   ]
  },
  {
   "cell_type": "code",
   "execution_count": null,
   "id": "1cb36e62",
   "metadata": {},
   "outputs": [],
   "source": [
    "i=0\n",
    "\n",
    "while i<11:\n",
    "    if i==5:\n",
    "        break\n",
    "    print(i)\n",
    "    i+=1"
   ]
  },
  {
   "cell_type": "markdown",
   "id": "c3fcdddb",
   "metadata": {},
   "source": [
    "# Range"
   ]
  },
  {
   "cell_type": "code",
   "execution_count": null,
   "id": "f8d7d4d1",
   "metadata": {},
   "outputs": [],
   "source": [
    "#print (0-50) with 5 distacnce\n",
    "for i in range(0,51,5):\n",
    "    print(i)\n",
    "    "
   ]
  },
  {
   "cell_type": "markdown",
   "id": "f36ff4eb",
   "metadata": {},
   "source": [
    "# Generator\n",
    "generator is a special type of function that will generate information instead of saving it all to memory"
   ]
  },
  {
   "cell_type": "code",
   "execution_count": null,
   "id": "d07b1c9b",
   "metadata": {},
   "outputs": [],
   "source": [
    "list(range(0,11,2))"
   ]
  },
  {
   "cell_type": "markdown",
   "id": "7e7cd5a2",
   "metadata": {},
   "source": [
    "# enumerate()\n",
    "\n",
    "Often, when dealing with iterators, we also get a need to keep a count of iterations. Python eases the programmers’ task by providing a built-in function enumerate() for this task. \n",
    "Enumerate() method adds a counter to an iterable and returns it in a form of enumerating object. This enumerated object can then be used directly for loops or converted into a list of tuples using the list() method.\n",
    "enumerate(iterable, start=0)\n",
    "\n",
    "Parameters:\n",
    "Iterable: any object that supports iteration\n",
    "Start: the index value from which the counter is to be started, by default it is 0"
   ]
  },
  {
   "cell_type": "code",
   "execution_count": null,
   "id": "30b753ac",
   "metadata": {},
   "outputs": [],
   "source": [
    "fruits='pineapple'\n",
    "for i in enumerate(fruits):\n",
    "    print(i)"
   ]
  },
  {
   "cell_type": "code",
   "execution_count": null,
   "id": "8ee4965c",
   "metadata": {},
   "outputs": [],
   "source": [
    "fruits='pineapple'\n",
    "#tuple unpacking(item,value)\n",
    "for i,j in enumerate(fruits):\n",
    "    print(i)\n",
    "    print(j)\n",
    "\n",
    "    print(\"\\t\")"
   ]
  },
  {
   "cell_type": "markdown",
   "id": "61e0ad8b",
   "metadata": {},
   "source": [
    "# zip()\n",
    "The zip() function takes iterables (can be zero or more), aggregates them in a tuple, and returns it.Will go as far as the shortest list if the lists are not conatining same number of elements"
   ]
  },
  {
   "cell_type": "code",
   "execution_count": null,
   "id": "3f0e73da",
   "metadata": {},
   "outputs": [],
   "source": [
    "fruits=['banana','grape','orange','apple','pineapple','watermelon']\n",
    "price=['10','20','30','40','50','60']\n",
    "\n",
    "for i in zip(fruits,price):\n",
    "    print(i)"
   ]
  },
  {
   "cell_type": "code",
   "execution_count": null,
   "id": "6bbbd8ef",
   "metadata": {},
   "outputs": [],
   "source": [
    "fruits=['banana','grape','orange','apple','pineapple','watermelon']\n",
    "price=['10','20','30','40','50','60']\n",
    "name='niloy'\n",
    "\n",
    "for i in zip(fruits,price,name):\n",
    "    print(i)"
   ]
  },
  {
   "cell_type": "code",
   "execution_count": null,
   "id": "e7fc2f6e",
   "metadata": {},
   "outputs": [],
   "source": [
    "fruits=['banana','grape','orange','apple','pineapple','watermelon']\n",
    "price=['10','20','30','40','50','60']\n",
    "name='niloy'\n",
    "\n",
    "for i,j,k in zip(fruits,price,name):\n",
    "    print(k)"
   ]
  },
  {
   "cell_type": "code",
   "execution_count": null,
   "id": "fa67fd91",
   "metadata": {},
   "outputs": [],
   "source": [
    "list(zip(fruits,name))"
   ]
  },
  {
   "cell_type": "markdown",
   "id": "92702384",
   "metadata": {},
   "source": [
    "# in\n",
    "usefel to check is item is present in a list,tuple,dictionary "
   ]
  },
  {
   "cell_type": "code",
   "execution_count": null,
   "id": "840b77c0",
   "metadata": {},
   "outputs": [],
   "source": [
    "fruits=['banana','grape','orange','apple','pineapple','watermelon']\n",
    "'grace' in fruits"
   ]
  },
  {
   "cell_type": "code",
   "execution_count": null,
   "id": "3986b8e3",
   "metadata": {},
   "outputs": [],
   "source": [
    "fruits=['banana','grape','orange','apple','pineapple','watermelon']\n",
    "'grape' in fruits"
   ]
  },
  {
   "cell_type": "code",
   "execution_count": null,
   "id": "db336f4f",
   "metadata": {},
   "outputs": [],
   "source": [
    "fruits={'banana':10,'grape':40,'orange':30,'apple':20,'pineapple':50,'watermelon':60}\n",
    "'grape' in fruits"
   ]
  },
  {
   "cell_type": "code",
   "execution_count": null,
   "id": "6e617d6a",
   "metadata": {},
   "outputs": [],
   "source": [
    "fruits={'banana':10,'grape':40,'orange':30,'apple':20,'pineapple':50,'watermelon':60}\n",
    "'30' in fruits"
   ]
  },
  {
   "cell_type": "code",
   "execution_count": null,
   "id": "ba5f9d49",
   "metadata": {},
   "outputs": [],
   "source": [
    "fruits={'banana':10,'grape':40,'orange':30,'apple':20,'pineapple':50,'watermelon':60}\n",
    "30 in fruits.values()"
   ]
  },
  {
   "cell_type": "markdown",
   "id": "d2cd9085",
   "metadata": {},
   "source": [
    "# min,max"
   ]
  },
  {
   "cell_type": "code",
   "execution_count": null,
   "id": "06b38229",
   "metadata": {},
   "outputs": [],
   "source": [
    "price=['10','20','30','40','50','60']\n",
    "min(price)"
   ]
  },
  {
   "cell_type": "code",
   "execution_count": null,
   "id": "d668cb8c",
   "metadata": {},
   "outputs": [],
   "source": [
    "price=['10','20','30','40','50','60']\n",
    "max(price)"
   ]
  },
  {
   "cell_type": "markdown",
   "id": "7743de6b",
   "metadata": {},
   "source": [
    "# shuffle()\n",
    "randomly shffle items from a list"
   ]
  },
  {
   "cell_type": "code",
   "execution_count": null,
   "id": "30faf62f",
   "metadata": {},
   "outputs": [],
   "source": [
    "from random import shuffle\n",
    "price=['10','20','30','40','50','60']\n",
    "shuffle(price)\n",
    "print(price)"
   ]
  },
  {
   "cell_type": "markdown",
   "id": "61d6b313",
   "metadata": {},
   "source": [
    "# randint()\n",
    "gives  us a random int"
   ]
  },
  {
   "cell_type": "code",
   "execution_count": null,
   "id": "74689e26",
   "metadata": {},
   "outputs": [],
   "source": [
    "from random import randint\n",
    "randint(0,100)\n",
    "\n"
   ]
  },
  {
   "cell_type": "markdown",
   "id": "7172b022",
   "metadata": {},
   "source": [
    "# Take user input\n",
    "Input accepts anything has passed into it as string"
   ]
  },
  {
   "cell_type": "code",
   "execution_count": null,
   "id": "173e667e",
   "metadata": {},
   "outputs": [],
   "source": [
    "input(\"Enter a number \")"
   ]
  },
  {
   "cell_type": "code",
   "execution_count": null,
   "id": "74029fbd",
   "metadata": {},
   "outputs": [],
   "source": [
    "result=input(\"What is your name \")\n",
    "print(\"Name :\",result)"
   ]
  },
  {
   "cell_type": "code",
   "execution_count": null,
   "id": "3f8c7b05",
   "metadata": {},
   "outputs": [],
   "source": [
    "result=input(\"What is your cgpa \")\n",
    "print(\"CGPA :\",result)"
   ]
  },
  {
   "cell_type": "markdown",
   "id": "88a2fc2c",
   "metadata": {},
   "source": [
    "# help()\n",
    "documentation of object"
   ]
  },
  {
   "cell_type": "code",
   "execution_count": null,
   "id": "48ad2ec7",
   "metadata": {},
   "outputs": [],
   "source": [
    "price=['10','20','30','40','50','60']\n",
    "help(price.insert)"
   ]
  },
  {
   "cell_type": "markdown",
   "id": "3172e609",
   "metadata": {},
   "source": [
    "# Function"
   ]
  },
  {
   "cell_type": "raw",
   "id": "387a7771",
   "metadata": {},
   "source": [
    "snakecasing all lowercase with underscores between words\n",
    "example : name_of_function()\n",
    "()this is called paranthesis later we will pass arguments/parameters using this\n"
   ]
  },
  {
   "cell_type": "code",
   "execution_count": null,
   "id": "b6c3c420",
   "metadata": {},
   "outputs": [],
   "source": [
    "def fruits():\n",
    "    print('apple')\n",
    "    print('orange')\n",
    "    print('banana')"
   ]
  },
  {
   "cell_type": "code",
   "execution_count": null,
   "id": "06d8b9ea",
   "metadata": {},
   "outputs": [],
   "source": [
    "fruits()"
   ]
  },
  {
   "cell_type": "code",
   "execution_count": null,
   "id": "8afc0e1f-e07b-44b0-bac2-45cb8dcce9f1",
   "metadata": {},
   "outputs": [],
   "source": [
    "def khan(names):\n",
    "    print(names+ \" khan\")\n",
    "khan(\"Shahrukh\")\n",
    "khan(\"Slaman\")\n",
    "khan(\"Riyaz\")"
   ]
  },
  {
   "cell_type": "code",
   "execution_count": null,
   "id": "71993ab0-8797-4525-af0b-3fce5d433358",
   "metadata": {},
   "outputs": [],
   "source": [
    "def full_name(fname,lname):\n",
    "    print(fname+lname)\n",
    "full_name(\"Nahid Hassan \",\"Niloy\")"
   ]
  },
  {
   "cell_type": "code",
   "execution_count": null,
   "id": "4e543139-0fe8-40b4-879f-9be54f3997b2",
   "metadata": {},
   "outputs": [],
   "source": [
    "def sum(x,y):\n",
    "    print(x+y)\n",
    "sum(10,15) "
   ]
  },
  {
   "cell_type": "code",
   "execution_count": null,
   "id": "36cc7b0d",
   "metadata": {},
   "outputs": [],
   "source": [
    "def fruits(name):\n",
    "    print(f'My favourite fruit is {name}')\n",
    "    "
   ]
  },
  {
   "cell_type": "code",
   "execution_count": null,
   "id": "300f0327",
   "metadata": {},
   "outputs": [],
   "source": [
    "fruits('banana')"
   ]
  },
  {
   "cell_type": "code",
   "execution_count": null,
   "id": "976126bc-b593-4e90-80b7-94c76df81e5d",
   "metadata": {},
   "outputs": [],
   "source": [
    "fruits=['banana','grape','orange','apple','pineapple','watermelon']\n",
    "def fruit_list(fruits):\n",
    "    for x in fruits:\n",
    "        print(x)\n",
    "fruit_list(fruits)    "
   ]
  },
  {
   "cell_type": "code",
   "execution_count": null,
   "id": "8a759221",
   "metadata": {},
   "outputs": [],
   "source": [
    "def sum(num1,num2):\n",
    "    return num1+num2\n",
    "#return instead of just printing out function allows us to say them as variable"
   ]
  },
  {
   "cell_type": "code",
   "execution_count": null,
   "id": "7a4f77fc",
   "metadata": {},
   "outputs": [],
   "source": [
    "sum(10,20)"
   ]
  },
  {
   "cell_type": "code",
   "execution_count": null,
   "id": "e91be393",
   "metadata": {},
   "outputs": [],
   "source": [
    "def even_check(number):\n",
    "    result= number%2==0\n",
    "    return result"
   ]
  },
  {
   "cell_type": "code",
   "execution_count": null,
   "id": "3e869346",
   "metadata": {},
   "outputs": [],
   "source": [
    "even_check(20)"
   ]
  },
  {
   "cell_type": "code",
   "execution_count": null,
   "id": "3d1925cb",
   "metadata": {},
   "outputs": [],
   "source": [
    "even_check(21)"
   ]
  },
  {
   "cell_type": "code",
   "execution_count": null,
   "id": "48f3f000",
   "metadata": {},
   "outputs": [],
   "source": [
    "def even_check(number):\n",
    "    return number%2==0"
   ]
  },
  {
   "cell_type": "code",
   "execution_count": null,
   "id": "b170cc67",
   "metadata": {},
   "outputs": [],
   "source": [
    "even_check(11)"
   ]
  },
  {
   "cell_type": "code",
   "execution_count": null,
   "id": "f6b1cc77",
   "metadata": {},
   "outputs": [],
   "source": [
    "#return even or odd\n",
    "num=int(input(\"Enter a number: \"))\n",
    "\n",
    "def check_even_odd(num):\n",
    "        if num%2==0:\n",
    "            print(f'{num} is an even number')\n",
    "        else:\n",
    "            print(f'{num} is an odd number')\n",
    "            \n",
    "check_even_odd(num)"
   ]
  },
  {
   "cell_type": "code",
   "execution_count": null,
   "id": "7b644eda",
   "metadata": {},
   "outputs": [],
   "source": [
    "#return vowel or consonent\n",
    "alp=(input(\"Enter an alphabet in small letter: \"))\n",
    "\n",
    "def check_vowel(alp):\n",
    "        if alp=='a'or alp=='e'or alp=='i'or alp=='o'or alp=='u':\n",
    "            print(f'Alphabet {alp} is a vowel')\n",
    "        else:\n",
    "            print(f'Alphabet {alp} is a consonant')\n",
    "            \n",
    "check_vowel(alp)"
   ]
  },
  {
   "cell_type": "code",
   "execution_count": null,
   "id": "446fbb1e",
   "metadata": {},
   "outputs": [],
   "source": [
    "#print out the most expensive fruit using function and tuple unpacking\n",
    "fruits=[('banana',10),('grape',20),('orange',30),('apple',40),('pineapple',50)]\n",
    "fruits"
   ]
  },
  {
   "cell_type": "code",
   "execution_count": null,
   "id": "99d37d4d",
   "metadata": {},
   "outputs": [],
   "source": [
    "def most_expensive_fruits(fruits):\n",
    "    fruit_price=0\n",
    "    fruit_name=''\n",
    "    for i,j in fruits:\n",
    "        if j>fruit_price:\n",
    "            fruit_price=j\n",
    "            fruit_name=i\n",
    "        else:\n",
    "            pass\n",
    "    return(fruit_name,fruit_price)"
   ]
  },
  {
   "cell_type": "code",
   "execution_count": null,
   "id": "b84c4e62",
   "metadata": {},
   "outputs": [],
   "source": [
    "most_expensive_fruits(fruits)"
   ]
  },
  {
   "cell_type": "code",
   "execution_count": null,
   "id": "56feade9",
   "metadata": {},
   "outputs": [],
   "source": [
    "#TOSS\n",
    "from random import randint\n",
    "\n",
    "result=randint(1,2)\n",
    "result\n",
    "team1=input(\"Enter the name of home team:  \")\n",
    "team2=input(\"Enter the name of away team:  \")\n",
    "pick=input(\"Choose between head and tail: \")\n",
    "if result==1 and pick=='head'or pick=='tail':\n",
    "    print(f'{team1} won the toss')\n",
    "else:\n",
    "    print(f'{team2} won the toss')"
   ]
  },
  {
   "cell_type": "code",
   "execution_count": 49,
   "id": "e89c3682",
   "metadata": {},
   "outputs": [],
   "source": [
    "#Guess who got the card\n",
    "#shuffle cards \n",
    "cards=['heart','dice','spades','clubs']\n",
    "from random import shuffle\n",
    "#shuffle does not work without a function\n",
    "def shuffle_cards(cards):\n",
    "    shuffle(cards)\n",
    "    return cards"
   ]
  },
  {
   "cell_type": "code",
   "execution_count": null,
   "id": "043477f2",
   "metadata": {},
   "outputs": [
    {
     "name": "stdin",
     "output_type": "stream",
     "text": [
      "pick a card:  heart\n"
     ]
    }
   ],
   "source": [
    "#guess which player has the card\n",
    "cards=['heart','dice','spades','clubs']\n",
    "pcards=input(\"pick a card: \")\n",
    "if pcards==\"heart\"or pcards==\"spades\" or pcards==\"clubs\" or pcards==\"dice\":\n",
    "    print(f'picked {pcards} successfully')\n",
    "else:\n",
    "    print(\"invalid\")\n",
    "        "
   ]
  },
  {
   "cell_type": "code",
   "execution_count": null,
   "id": "ce461fa6",
   "metadata": {},
   "outputs": [],
   "source": [
    "#guess player number\n",
    "num=['1','2','3','4']\n",
    "num=input(\"Chose Player Number: \")\n",
    "if num=='1'or num=='2'or num=='3'or num=='4':\n",
    "    print(f'Lets check if player {num} has the {pcards} or not')\n",
    "else:\n",
    "    print(\"invalid\")\n",
    "    "
   ]
  },
  {
   "cell_type": "code",
   "execution_count": null,
   "id": "552bf8bb",
   "metadata": {},
   "outputs": [],
   "source": [
    "shuffle_result=shuffle_cards(cards)\n",
    "shuffle_result"
   ]
  },
  {
   "cell_type": "code",
   "execution_count": null,
   "id": "bb0d4a23",
   "metadata": {},
   "outputs": [],
   "source": [
    "\n",
    "print(\"player 1 got\",shuffle_result[0])"
   ]
  },
  {
   "cell_type": "code",
   "execution_count": null,
   "id": "9d5b7ece",
   "metadata": {},
   "outputs": [],
   "source": [
    "print(\"player 2 got\",shuffle_result[1])"
   ]
  },
  {
   "cell_type": "code",
   "execution_count": null,
   "id": "5b28f44e",
   "metadata": {},
   "outputs": [],
   "source": [
    "print(\"player 3 got\",shuffle_result[2])"
   ]
  },
  {
   "cell_type": "code",
   "execution_count": null,
   "id": "512a1bd5",
   "metadata": {},
   "outputs": [],
   "source": [
    "print(\"player 4 got\",shuffle_result[3])"
   ]
  },
  {
   "cell_type": "code",
   "execution_count": null,
   "id": "16127679",
   "metadata": {},
   "outputs": [],
   "source": [
    "show_result=shuffle_result.index('spades')\n",
    "show_result=show_result+1\n",
    "show_result\n",
    "print(f' Player {show_result} got the card')\n"
   ]
  },
  {
   "cell_type": "code",
   "execution_count": null,
   "id": "527ffa6e",
   "metadata": {},
   "outputs": [],
   "source": [
    "guessed_player=int(num)\n",
    "guessed_player\n",
    "print(f'Guessed player number was {guessed_player}')"
   ]
  },
  {
   "cell_type": "code",
   "execution_count": null,
   "id": "7247b0cb",
   "metadata": {},
   "outputs": [],
   "source": [
    "if show_result==guessed_player:\n",
    "    print(f'Correct Guess, Player {num} has {pcards}')\n",
    "    \n",
    "else:\n",
    "    print(\"Wrong Guess\")\n",
    "    "
   ]
  },
  {
   "cell_type": "code",
   "execution_count": null,
   "id": "cfdabc4b",
   "metadata": {},
   "outputs": [],
   "source": [
    "def Greet(name):\n",
    "    print(\"Good Morning, \"+name)\n",
    "Greet(\"Nahid\")\n",
    "Greet(\"Hassan\")\n",
    "Greet(\"Niloy\")"
   ]
  },
  {
   "cell_type": "markdown",
   "id": "4bac819c-9c42-45cb-bf0f-5b1d08034bc8",
   "metadata": {},
   "source": [
    "### pass"
   ]
  },
  {
   "cell_type": "code",
   "execution_count": 151,
   "id": "1077a449-ea68-4b5c-ab58-cabc520ebf8c",
   "metadata": {},
   "outputs": [],
   "source": [
    "def blank_func():\n",
    "    pass"
   ]
  },
  {
   "cell_type": "markdown",
   "id": "fe669c21-305e-4f00-b25e-2999d5c39f80",
   "metadata": {},
   "source": [
    "### return"
   ]
  },
  {
   "cell_type": "code",
   "execution_count": 155,
   "id": "a0eaf9fa-4bdd-480c-b48a-75ca3da301f7",
   "metadata": {},
   "outputs": [
    {
     "name": "stdout",
     "output_type": "stream",
     "text": [
      "10\n"
     ]
    }
   ],
   "source": [
    "def sum(val):\n",
    "    return(5+val) #returned value will be shown on print\n",
    "    \n",
    "print(sum(5))"
   ]
  },
  {
   "cell_type": "markdown",
   "id": "ade4ab88",
   "metadata": {},
   "source": [
    "# Function Argument"
   ]
  },
  {
   "cell_type": "code",
   "execution_count": null,
   "id": "39a2a635",
   "metadata": {},
   "outputs": [],
   "source": [
    "#5% of sum for two numbers\n",
    "def add_sum(a,b):\n",
    "    return sum((a,b))*0.05\n"
   ]
  },
  {
   "cell_type": "code",
   "execution_count": null,
   "id": "8085d9f2",
   "metadata": {},
   "outputs": [],
   "source": [
    "add_sum(10,20)"
   ]
  },
  {
   "cell_type": "code",
   "execution_count": null,
   "id": "65f0b62e",
   "metadata": {},
   "outputs": [],
   "source": [
    "#5% of sum for more than two numbers\n",
    "#it is limited to five numbers\n",
    "def add_sum(a,b,c=0):\n",
    "    return sum((a,b,c))*0.05\n"
   ]
  },
  {
   "cell_type": "code",
   "execution_count": null,
   "id": "92748b74",
   "metadata": {},
   "outputs": [],
   "source": [
    "add_sum(10,20,30)"
   ]
  },
  {
   "cell_type": "code",
   "execution_count": null,
   "id": "1785f57b",
   "metadata": {},
   "outputs": [],
   "source": [
    "# *args allows us to work with infinte numbers\n",
    "#it works as same as the tuples\n",
    "def add_sum(*args):\n",
    "    print(args)\n",
    "    return sum(args)*0.05"
   ]
  },
  {
   "cell_type": "code",
   "execution_count": null,
   "id": "68d29d2c",
   "metadata": {},
   "outputs": [],
   "source": [
    "add_sum(10,20,30,40,50,60,70)"
   ]
  },
  {
   "cell_type": "code",
   "execution_count": null,
   "id": "dbbcf7c0",
   "metadata": {},
   "outputs": [],
   "source": [
    "# **kwargs is almost as same as *args but instead of tuple it returns a dictionary\n",
    "def myfunc(**kwargs):\n",
    "    print(kwargs)\n",
    "    if 'fruit' in kwargs:\n",
    "        print('My favourite fruit and vegetable is {} '.format(kwargs['fruit']))\n",
    "    else:\n",
    "        pass\n"
   ]
  },
  {
   "cell_type": "code",
   "execution_count": null,
   "id": "18b5d991",
   "metadata": {},
   "outputs": [],
   "source": [
    "myfunc(fruit='apple')"
   ]
  },
  {
   "cell_type": "code",
   "execution_count": null,
   "id": "b7f4235f",
   "metadata": {},
   "outputs": [],
   "source": [
    "#using args and kwrags at the same time\n",
    "def myfunc(*args,**kwargs):\n",
    "    print(args)\n",
    "    print(kwargs)\n",
    "    print('Jersey number {} of Manchester United is owned by {} '.format(args[0],kwargs['name']))"
   ]
  },
  {
   "cell_type": "code",
   "execution_count": null,
   "id": "de4d2268",
   "metadata": {},
   "outputs": [],
   "source": [
    "myfunc(7,name='Cristiano Ronaldo')"
   ]
  },
  {
   "cell_type": "markdown",
   "id": "54b6a35d",
   "metadata": {},
   "source": [
    "# map()\n",
    "The map() function executes a specified function for each item in an iterable. The item is sent to the function as a parameter.\n",
    "Syntax :\n",
    "\n",
    "map(fun, iter)\n",
    "Parameters :\n",
    "\n",
    "fun : It is a function to which map passes each element of given iterable.\n",
    "iter : It is a iterable which is to be mapped.\n",
    "\n",
    "NOTE : You can pass one or more iterable to the map() function.\n",
    "\n",
    "Returns :\n",
    "\n",
    "Returns a list of the results after applying the given function  \n",
    "to each item of a given iterable (list, tuple etc.) \n",
    " \n",
    "NOTE : The returned value from map() (map object) then can be passed to functions like list() (to create a list), set() (to create a set) .\n",
    " "
   ]
  },
  {
   "cell_type": "code",
   "execution_count": null,
   "id": "816a7c18",
   "metadata": {},
   "outputs": [],
   "source": [
    "#Squares of number using map\n",
    "\n",
    "def square(num):\n",
    "    return num**2\n"
   ]
  },
  {
   "cell_type": "code",
   "execution_count": null,
   "id": "112a09ed",
   "metadata": {},
   "outputs": [],
   "source": [
    "numlist=[12,14,5,32,4,16]\n"
   ]
  },
  {
   "cell_type": "code",
   "execution_count": null,
   "id": "d2d3d49f",
   "metadata": {},
   "outputs": [],
   "source": [
    "for i in map(square,numlist):\n",
    "    print(i)"
   ]
  },
  {
   "cell_type": "code",
   "execution_count": null,
   "id": "9e7a0797",
   "metadata": {},
   "outputs": [],
   "source": [
    "#print vowelnames using map()\n",
    "\n",
    "def vowelname(name):\n",
    "    if name[0]=='A'or name[0]=='E' or name[0]=='I' or name[0]=='O'or name[0]=='U':\n",
    "        return name\n",
    "    else:\n",
    "        return name[0]"
   ]
  },
  {
   "cell_type": "code",
   "execution_count": null,
   "id": "a582c194",
   "metadata": {},
   "outputs": [],
   "source": [
    "namelist=['Arif','Jobayer','Raju','Orthy','Iqbal']"
   ]
  },
  {
   "cell_type": "code",
   "execution_count": null,
   "id": "fea44de1",
   "metadata": {},
   "outputs": [],
   "source": [
    "list(map(vowelname,namelist))"
   ]
  },
  {
   "cell_type": "markdown",
   "id": "2765aa3f",
   "metadata": {},
   "source": [
    "# filter()\n",
    "\n",
    "The filter() method filters the given sequence with the help of a function that tests each element in the sequence to be true or not.\n",
    "\n",
    "syntax:\n",
    "filter(function, sequence)\n",
    "\n",
    "Parameters:\n",
    "function: function that tests if each element of a \n",
    "sequence true or not.\n",
    "\n",
    "sequence: sequence which needs to be filtered, it can \n",
    "be sets, lists, tuples, or containers of any iterators.\n",
    "\n",
    "Returns:\n",
    "returns an iterator that is already filtered"
   ]
  },
  {
   "cell_type": "code",
   "execution_count": null,
   "id": "66b70ff0",
   "metadata": {},
   "outputs": [],
   "source": [
    "def fun(variable):\n",
    "    letters = ['a', 'e', 'i', 'o', 'u']\n",
    "    if (variable not in letters):\n",
    "        return True\n",
    "    else:\n",
    "        return False\n",
    "  \n",
    "  \n",
    "# sequence\n",
    "sequence = ['g', 'e', 'e', 'j', 'k', 's', 'p', 'r']\n",
    "  \n",
    "# using filter function\n",
    "filtered =list(filter(fun, sequence))\n",
    "filtered"
   ]
  },
  {
   "cell_type": "markdown",
   "id": "781b6bd7",
   "metadata": {},
   "source": [
    "# lamda()\n",
    "Lambda functions can have any number of arguments but only one expression. The expression is evaluated and returned. Lambda functions can be used wherever function objects are required.\n",
    "\n"
   ]
  },
  {
   "cell_type": "code",
   "execution_count": null,
   "id": "4aa86bc2",
   "metadata": {},
   "outputs": [],
   "source": [
    "item=[(\"Apple\",10),(\"Banana\",22),(\"Orange\",15),(\"Pineapple\",7)]\n",
    "\n",
    "list(filter(lambda item: item[1] <= 20,item))\n"
   ]
  },
  {
   "cell_type": "markdown",
   "id": "3bd1ef3c",
   "metadata": {},
   "source": [
    "# class\n",
    "\n",
    "for classes we use CamelCasing\n",
    "\n",
    "_init_ method is called whenever we are creating instance of a class\n",
    "\n",
    "\n",
    "self connencts _init_ with the instance of a class"
   ]
  },
  {
   "cell_type": "markdown",
   "id": "5b9cf24f-40dc-4f5d-983f-3b07dc903263",
   "metadata": {},
   "source": [
    "### default Constructor//_ _ init _ _\n"
   ]
  },
  {
   "cell_type": "code",
   "execution_count": 197,
   "id": "10b41338-78e8-46f3-ba8d-8682be20920a",
   "metadata": {},
   "outputs": [
    {
     "name": "stdout",
     "output_type": "stream",
     "text": [
      "Dog Breed= lad\n"
     ]
    }
   ],
   "source": [
    "class Dog:\n",
    "    def __init__(self): #constructor\n",
    "        self.breed = 'lad'\n",
    "    def display(self):\n",
    "        print(f'Dog Breed= {self.breed}')\n",
    "       \n",
    "dog1=Dog()\n",
    "dog1.display()\n"
   ]
  },
  {
   "cell_type": "code",
   "execution_count": 200,
   "id": "20f6ef31-9ac6-4df5-a862-6212960528a7",
   "metadata": {},
   "outputs": [
    {
     "name": "stdout",
     "output_type": "stream",
     "text": [
      "I go meoow meoow\n"
     ]
    }
   ],
   "source": [
    "class Cat:\n",
    "    def __init__(self):\n",
    "        print(\"I go meoow meoow\")\n",
    "        \n",
    "cat1=Cat() #no need to call\n",
    "           # object itself takes the charge on the default constructor\n",
    "    "
   ]
  },
  {
   "cell_type": "markdown",
   "id": "1c35906e-9bb9-4516-8031-4c4dc84cb04c",
   "metadata": {},
   "source": [
    "### paramaterized Constructor//__init__\n",
    "\n",
    "Creating a variable inside a class"
   ]
  },
  {
   "cell_type": "code",
   "execution_count": 193,
   "id": "794abd12",
   "metadata": {},
   "outputs": [],
   "source": [
    "class Dog:\n",
    "    def _init_(self,breed):\n",
    "        self.breed = breed"
   ]
  },
  {
   "cell_type": "code",
   "execution_count": 194,
   "id": "29f20d53",
   "metadata": {},
   "outputs": [
    {
     "name": "stdout",
     "output_type": "stream",
     "text": [
      "lad\n",
      "huskie\n"
     ]
    }
   ],
   "source": [
    "dog1=Dog()\n",
    "dog2=Dog()\n",
    "dog1.breed='lad'\n",
    "dog2.breed='huskie'\n",
    "print(dog1.breed)\n",
    "print(dog2.breed)"
   ]
  },
  {
   "cell_type": "code",
   "execution_count": 223,
   "id": "91724ea1-de33-41fb-ab23-1627302be933",
   "metadata": {},
   "outputs": [
    {
     "name": "stdout",
     "output_type": "stream",
     "text": [
      "Lad lives upto 10 years\n",
      "Husky lives upto 20 years\n"
     ]
    }
   ],
   "source": [
    "class Dog:\n",
    "    def __init__(self, breed, age):\n",
    "        self.breed = breed\n",
    "        self.age=age\n",
    "    def show(self):\n",
    "        print(f'{self.breed} lives upto {self.age} years')\n",
    "        \n",
    "dog1=Dog('Lad',10)\n",
    "dog1.show()\n",
    "dog2=Dog('Husky',20)\n",
    "dog2.show()"
   ]
  },
  {
   "cell_type": "markdown",
   "id": "c07eda22-f879-40e5-ae30-7fcc5828ccd2",
   "metadata": {},
   "source": [
    "### using method\n",
    "\n",
    "a function under a class is called method"
   ]
  },
  {
   "cell_type": "code",
   "execution_count": null,
   "id": "9b0b6627",
   "metadata": {},
   "outputs": [],
   "source": [
    "class Fruit:\n",
    "    def __init__(self,name,season,price):\n",
    "        self.name = name\n",
    "        self.season=season\n",
    "        self.price=price"
   ]
  },
  {
   "cell_type": "code",
   "execution_count": null,
   "id": "5b4e1a14",
   "metadata": {},
   "outputs": [],
   "source": [
    "fruit1=Fruit()\n",
    "fruit1.name='Banana'\n",
    "fruit1.season='Winter'\n",
    "fruit1.price='10'\n",
    "print(\"Name: \"+fruit1.name)\n",
    "print(\"Season: \"+fruit1.season)\n",
    "print(\"Price: \"+fruit1.price)\n"
   ]
  },
  {
   "cell_type": "code",
   "execution_count": null,
   "id": "8432a033",
   "metadata": {},
   "outputs": [],
   "source": [
    "#get\n",
    "class Person:\n",
    "    def __init__(self,person_name):\n",
    "        self.name = person_name\n",
    "\n",
    "    def get_name(self):\n",
    "        return self.name\n",
    "person1=Person(\"Niloy\")\n",
    "person2=Person(\"Antu\")\n",
    "print(person1.get_name())\n",
    "print(person2.get_name())\n"
   ]
  },
  {
   "cell_type": "code",
   "execution_count": null,
   "id": "32bb6369",
   "metadata": {},
   "outputs": [],
   "source": [
    "#print person details\n",
    "class Person:\n",
    "    def __init__(self,name,age,dob):\n",
    "        self.name=name\n",
    "        self.age=age\n",
    "        self.dob=dob\n",
    "        \n",
    "    def get_personDetails(self):\n",
    "        return f\" Name:{self.name}\\n Age:{self.age}\\n Date of Birth:{self.dob}\"\n",
    "    \n",
    "person1=Person(\"Niloy\",\"26\",\"20-9-1996\")\n",
    "print(person1.get_personDetails())\n"
   ]
  },
  {
   "cell_type": "code",
   "execution_count": null,
   "id": "ddf5f903",
   "metadata": {},
   "outputs": [],
   "source": [
    "#print person details changing full name\n",
    "class Person:\n",
    "    def __init__(self,name,age,dob):\n",
    "        self.name=name\n",
    "        self.age=age\n",
    "        self.dob=dob\n",
    "        \n",
    "    def get_name(self):\n",
    "        return self.name\n",
    "    \n",
    "    def set_name(self,fullName):\n",
    "        self.name=fullName\n",
    "        \n",
    "    def get_personDetails(self):\n",
    "        return f\" Name:{self.name}\\n Age:{self.age}\\n Date of Birth:{self.dob}\"\n",
    "    \n",
    "#person1=Person(\"Niloy\",\"26\",\"20-9-1996\")\n",
    "#print(person1.get_personDetails())\n",
    "\n",
    "person1.set_name(\"Nahid Hassan Niloy\")\n",
    "print(person1.get_personDetails())"
   ]
  },
  {
   "cell_type": "code",
   "execution_count": null,
   "id": "88fce239",
   "metadata": {},
   "outputs": [],
   "source": [
    "#class object attribute : is same for all instance\n",
    "#user defined attibute: (self,name,age,dob)\n",
    "#print person details\n",
    "class Person:\n",
    "    university= 'AIUB'\n",
    "    def __init__(self,name,age,dob):\n",
    "        self.name=name\n",
    "        self.age=age\n",
    "        self.dob=dob\n",
    "        \n",
    "    def get_personDetails(self):\n",
    "        return f\" Name:{self.name}\\n Age:{self.age}\\n Date of Birth:{self.dob}\"\n",
    "    \n",
    "person1=Person(\"Niloy\",\"26\",\"20-9-1996\")\n",
    "print(person1.get_personDetails())\n",
    "person1.university\n"
   ]
  },
  {
   "cell_type": "code",
   "execution_count": null,
   "id": "aee01b0f",
   "metadata": {},
   "outputs": [],
   "source": [
    "#bark the dog setting an action to a new method\n",
    "class Dog:\n",
    "    def __init__(self,breed):\n",
    "        self.breed = breed\n",
    "    def bark(self):\n",
    "        print(\"WOOFWWOOOOFWOOOOFWOOOOOF\")\n",
    "    \n",
    "dog1=Dog(breed='lad')\n",
    "print(dog1.breed)\n",
    "dog1.bark()"
   ]
  },
  {
   "cell_type": "code",
   "execution_count": null,
   "id": "1f26b5c0",
   "metadata": {},
   "outputs": [],
   "source": [
    "#bark the dog setting an action to a new method and reason of barking\n",
    "class Dog:\n",
    "    def __init__(self,breed):\n",
    "        self.breed = breed\n",
    "    def bark(self,reason):\n",
    "        print(\"WOOFWWOOOOFWOOOOFWOOOOOF, I want {}\".format(reason))\n",
    "    \n",
    "dog1=Dog(breed='lad')\n",
    "print(dog1.breed)\n",
    "dog1.bark(\"food\")"
   ]
  },
  {
   "cell_type": "code",
   "execution_count": null,
   "id": "37d5819c",
   "metadata": {},
   "outputs": [],
   "source": [
    "#print area of a circle\n",
    "pi=3.14\n",
    "def area_of_circle(pi,r):\n",
    "    return pi*r**2\n",
    "\n",
    "               "
   ]
  },
  {
   "cell_type": "code",
   "execution_count": null,
   "id": "2558e960",
   "metadata": {},
   "outputs": [],
   "source": [
    "area_of_circle(pi,14)"
   ]
  },
  {
   "cell_type": "code",
   "execution_count": null,
   "id": "82e99b08",
   "metadata": {},
   "outputs": [],
   "source": [
    "#print area of a circle\n",
    "class Circle():\n",
    "    pi=3.14\n",
    "\n",
    "    def __init__(self,radius=14):\n",
    "        self.radius=radius\n",
    "    def get_area(self):\n",
    "        return self.radius*self.pi*2"
   ]
  },
  {
   "cell_type": "code",
   "execution_count": null,
   "id": "81912a04",
   "metadata": {},
   "outputs": [],
   "source": [
    "circle1=Circle()\n",
    "circle1.get_area()"
   ]
  },
  {
   "cell_type": "code",
   "execution_count": null,
   "id": "d643f1b4",
   "metadata": {},
   "outputs": [],
   "source": [
    "#print area of a circle\n",
    "class Circle():\n",
    "    pi=3.14\n",
    "\n",
    "    def __init__(self,radius=14):\n",
    "        self.radius=radius\n",
    "        self.area=radius*radius*Circle.pi\n",
    "        #self.area=radius*radius*self.pi\n",
    "    def get_area(self):\n",
    "        return self.radius*Circle.pi*2"
   ]
  },
  {
   "cell_type": "code",
   "execution_count": null,
   "id": "ee2d1b97",
   "metadata": {},
   "outputs": [],
   "source": [
    "circle1=Circle()\n",
    "circle1.get_area()"
   ]
  },
  {
   "cell_type": "markdown",
   "id": "c014a7b5",
   "metadata": {},
   "source": [
    "# Inheritence"
   ]
  },
  {
   "cell_type": "markdown",
   "id": "7e53ec4d-82b5-40b4-bf4c-ef339da3b376",
   "metadata": {},
   "source": [
    "### single level inheritence"
   ]
  },
  {
   "cell_type": "raw",
   "id": "54b9128f-f686-45d7-b3fe-03b4e773a49d",
   "metadata": {},
   "source": [
    "University > Student"
   ]
  },
  {
   "cell_type": "code",
   "execution_count": 12,
   "id": "6fbb9736",
   "metadata": {},
   "outputs": [
    {
     "name": "stdout",
     "output_type": "stream",
     "text": [
      "Have access to exam hall\n",
      "Have access to libraray\n"
     ]
    }
   ],
   "source": [
    "#single level inheritence\n",
    "\n",
    "class University():\n",
    "    def library(self):\n",
    "        print(\"Have access to libraray\")\n",
    "class Student(University):\n",
    "    def exam(self):\n",
    "        print(\"Have access to exam hall\")\n",
    "\n",
    "#university1=University()\n",
    "#university1.library()\n",
    "student1=Student()\n",
    "student1.exam()\n",
    "student1.library()"
   ]
  },
  {
   "cell_type": "markdown",
   "id": "998ee695-040f-458a-855e-8e08435a0578",
   "metadata": {},
   "source": [
    "### multilevel inheritance\n"
   ]
  },
  {
   "cell_type": "raw",
   "id": "e6076e38-fa9e-479c-ae76-1fe07345de27",
   "metadata": {},
   "source": [
    "Grandpa>Father\n",
    "Father>Son"
   ]
  },
  {
   "cell_type": "code",
   "execution_count": 23,
   "id": "fc2e860f",
   "metadata": {},
   "outputs": [
    {
     "name": "stdout",
     "output_type": "stream",
     "text": [
      "Have access to shinduk\n",
      "Have access to locker\n"
     ]
    }
   ],
   "source": [
    "class Grandpa():\n",
    "    def shinduk(self):\n",
    "        print(\"Have access to shinduk\")\n",
    "class Father(Grandpa):\n",
    "    def locker(self):\n",
    "        print(\"Have access to locker\")\n",
    "class Son(Father):\n",
    "    pass\n",
    "    \n",
    "\n",
    "son=Son()\n",
    "son.shinduk()\n",
    "son.locker()"
   ]
  },
  {
   "cell_type": "markdown",
   "id": "0977f1ec-8be7-4baf-a5a8-124feb474d1f",
   "metadata": {},
   "source": [
    "### Hierarchical inheritance\n"
   ]
  },
  {
   "cell_type": "markdown",
   "id": "f2eb82e5-1141-48c9-91c0-7bbd23dd58a3",
   "metadata": {},
   "source": [
    "One parent class,Multiple Child Class"
   ]
  },
  {
   "cell_type": "raw",
   "id": "9347e564-2e96-408b-bdf3-b497ac9092f9",
   "metadata": {},
   "source": [
    "Mom > Son\n",
    "Mom > Daughter"
   ]
  },
  {
   "cell_type": "code",
   "execution_count": 15,
   "id": "dd8d1a97-efaf-411d-89de-cae348a07905",
   "metadata": {},
   "outputs": [
    {
     "name": "stdout",
     "output_type": "stream",
     "text": [
      "can cook biriyani\n",
      "can cook biriyani\n"
     ]
    }
   ],
   "source": [
    "class Mom:\n",
    "    def cooking(self):\n",
    "        print(\"can cook biriyani\")\n",
    "class Son(Mom):\n",
    "    pass\n",
    "class Daughter(Mom):\n",
    "    pass\n",
    "son=Son()\n",
    "daughter=Daughter()\n",
    "\n",
    "son.cooking()\n",
    "daughter.cooking()\n"
   ]
  },
  {
   "cell_type": "markdown",
   "id": "eb9e782a-4a49-4522-9cc3-e32b4a918334",
   "metadata": {},
   "source": [
    "University> Teacher\n",
    "University> Student"
   ]
  },
  {
   "cell_type": "code",
   "execution_count": 18,
   "id": "258caaae",
   "metadata": {},
   "outputs": [
    {
     "name": "stdout",
     "output_type": "stream",
     "text": [
      "Have access to library\n",
      "Have access to library\n"
     ]
    }
   ],
   "source": [
    "class University(Teacher):\n",
    "    def classroom(self):\n",
    "        print(\"Have access to library\")\n",
    "        \n",
    "class Teacher(University):  # Multiple inheritance\n",
    "    pass\n",
    "\n",
    "class Student(University):\n",
    "    pass\n",
    "\n",
    "# Testing\n",
    "teacher = Teacher()\n",
    "teacher.classroom()\n",
    "student=Student()\n",
    "student.classroom()"
   ]
  },
  {
   "cell_type": "markdown",
   "id": "1fd5a6a5-fe8a-474f-a9f9-137ba6b9b220",
   "metadata": {},
   "source": [
    "### Mutiple Inhertience"
   ]
  },
  {
   "cell_type": "raw",
   "id": "1c66427f-6a13-4508-8209-56a13c96f282",
   "metadata": {},
   "source": [
    "Multiple Parent Class,One Child Class"
   ]
  },
  {
   "cell_type": "raw",
   "id": "1404fe03-3869-4204-8e93-a92954bb19d5",
   "metadata": {},
   "source": [
    "Mom, Dad> Son"
   ]
  },
  {
   "cell_type": "code",
   "execution_count": 25,
   "id": "4dd7b229-fb05-424b-a15a-190529d45e60",
   "metadata": {},
   "outputs": [
    {
     "name": "stdout",
     "output_type": "stream",
     "text": [
      "can cook biriyani\n",
      "can do code\n"
     ]
    }
   ],
   "source": [
    "class Mom:\n",
    "    def cooking(self):\n",
    "        print(\"can cook biriyani\")\n",
    "class Dad:\n",
    "    def coding(self):\n",
    "        print(\"can do code\")\n",
    "    \n",
    "class Son(Mom,Dad):\n",
    "    pass\n",
    "    \n",
    "son=Son()\n",
    "son.cooking()\n",
    "son.coding()"
   ]
  },
  {
   "cell_type": "markdown",
   "id": "24a612ef-10d6-4b4c-8c92-14e8c9b7152c",
   "metadata": {},
   "source": [
    "# polymormphism using method\n"
   ]
  },
  {
   "cell_type": "markdown",
   "id": "4fc08b2e-430b-4b9f-a172-8154d5a6b961",
   "metadata": {},
   "source": [
    "### Method Overloading\n",
    "Method overloading means creating multiple methods with the same name but with different parameters (number or type of arguments).\n",
    "\n"
   ]
  },
  {
   "cell_type": "code",
   "execution_count": 53,
   "id": "bbc873bb-2c1b-4ecc-8b43-bee6df0b9c2d",
   "metadata": {},
   "outputs": [
    {
     "data": {
      "text/plain": [
       "90"
      ]
     },
     "execution_count": 53,
     "metadata": {},
     "output_type": "execute_result"
    }
   ],
   "source": [
    "class Sum:\n",
    "    def add(self,a,b,c):\n",
    "        s=a+b+c\n",
    "        return a+b+c\n",
    "    #def add(self): #we can not have the same method name in a similar class \n",
    "        #pass\n",
    "        \n",
    "num=Sum()        \n",
    "num.add(20,30,40)\n",
    "#num.add(20,30) #does not work     "
   ]
  },
  {
   "cell_type": "code",
   "execution_count": 56,
   "id": "d769a5a7-7fa0-488f-88fd-355aeec22f22",
   "metadata": {},
   "outputs": [
    {
     "data": {
      "text/plain": [
       "90"
      ]
     },
     "execution_count": 56,
     "metadata": {},
     "output_type": "execute_result"
    }
   ],
   "source": [
    "class Sum:\n",
    "    def add(self,a=None,b=None,c=None): #this is overlaoding (multiple parameter) #maintains serial\n",
    "        s=0\n",
    "        if a!=None and b!=None and c!=None:\n",
    "            s=a+b+c\n",
    "        elif a!=None and b!=None:\n",
    "            s=a+b\n",
    "        else:\n",
    "            s=a\n",
    "        return s\n",
    "        \n",
    "num=Sum()        \n",
    "num.add(20) #now this works\n",
    "num.add(20,30)\n",
    "num.add(20,30,40)"
   ]
  },
  {
   "cell_type": "code",
   "execution_count": 57,
   "id": "42be1a53-1ac8-4dd8-8615-d8be06579f9d",
   "metadata": {},
   "outputs": [
    {
     "name": "stdout",
     "output_type": "stream",
     "text": [
      "No information provided.\n",
      "Name: Alice\n",
      "Name: Bob, Age: 25\n",
      "Age: 30 (no name provided)\n"
     ]
    }
   ],
   "source": [
    "class Person:\n",
    "    # Define a method with two optional parameters (default is None)\n",
    "    def show_info(self, name=None, age=None):\n",
    "        # Case 1: No arguments passed\n",
    "        if name is None and age is None:\n",
    "            print(\"No information provided.\")\n",
    "        \n",
    "        # Case 2: Only name is given\n",
    "        elif name is not None and age is None:\n",
    "            print(f\"Name: {name}\")\n",
    "        \n",
    "        # Case 3: Both name and age are given\n",
    "        elif name is not None and age is not None:\n",
    "            print(f\"Name: {name}, Age: {age}\")\n",
    "        \n",
    "        # Just in case someone passes only age (weird usage)\n",
    "        elif name is None and age is not None:\n",
    "            print(f\"Age: {age} (no name provided)\")\n",
    "\n",
    "# Create an object of Person\n",
    "p = Person()\n",
    "\n",
    "# Now we call the same method in different ways:\n",
    "\n",
    "p.show_info()\n",
    "# 👉 No arguments passed → prints: \"No information provided.\"\n",
    "\n",
    "p.show_info(\"Alice\")\n",
    "# 👉 One argument (name) → prints: \"Name: Alice\"\n",
    "\n",
    "p.show_info(\"Bob\", 25)\n",
    "# 👉 Two arguments → prints: \"Name: Bob, Age: 25\"\n",
    "\n",
    "p.show_info(age=30)\n",
    "# 👉 Only age provided → prints: \"Age: 30 (no name provided)\"\n"
   ]
  },
  {
   "cell_type": "markdown",
   "id": "4aa77f69-fb2a-4d22-8cfb-a6348488cfb9",
   "metadata": {},
   "source": [
    "### method overriding\n",
    "Overriding means defining a method in a child class that has the same name and parameters as a method in its parent class, and replacing the parent's version with the child’s version."
   ]
  },
  {
   "cell_type": "code",
   "execution_count": 58,
   "id": "99eeca83-9496-4ec0-a37b-31d100b54a31",
   "metadata": {},
   "outputs": [
    {
     "name": "stdout",
     "output_type": "stream",
     "text": [
      "Starting vehicle...\n",
      "Starting car engine...\n"
     ]
    }
   ],
   "source": [
    "class Vehicle:\n",
    "    def start(self):\n",
    "        print(\"Starting vehicle...\")\n",
    "\n",
    "class Car(Vehicle):\n",
    "    def start(self):\n",
    "        print(\"Starting car engine...\")\n",
    "\n",
    "v = Vehicle()\n",
    "v.start()     # Output: Starting vehicle...\n",
    "\n",
    "c = Car()\n",
    "c.start()     # Output: Starting car engine...\n"
   ]
  },
  {
   "cell_type": "markdown",
   "id": "76263f9f-6496-4213-b7a4-dc096537a5de",
   "metadata": {},
   "source": [
    "| Feature              | Overloading                          | Overriding                      |\n",
    "| -------------------- | ------------------------------------ | ------------------------------- |\n",
    "| Happens in...        | Same class                           | Parent and child class          |\n",
    "| Purpose              | Same method, different arguments     | Same method, different behavior |\n",
    "| Language support     | ❌ Not native in Python (we simulate) | ✅ Fully supported in Python     |\n",
    "| Requires inheritance | ❌ No                                 | ✅ Yes                           |\n"
   ]
  },
  {
   "cell_type": "markdown",
   "id": "b14e3965-9607-44a0-981c-c753bd6743d7",
   "metadata": {},
   "source": [
    "# polymormphism using function\n",
    "\n",
    "is basicaly method overriding using a fucntion,A single interface (like a function or method) can work with different types of objects — as long as they share a common method or behavior. "
   ]
  },
  {
   "cell_type": "code",
   "execution_count": 68,
   "id": "ab21d277-9b90-4f6f-87f2-e0ac9bbf4f84",
   "metadata": {},
   "outputs": [
    {
     "name": "stdout",
     "output_type": "stream",
     "text": [
      "Gives Medicine\n"
     ]
    }
   ],
   "source": [
    "class Role:\n",
    "    def act(self):\n",
    "        pass\n",
    "#This is the base class or parent class. It defines a method act() but doesn't implement it (pass = do nothing).\n",
    "#This method acts as a common interface for all subclasses. \n",
    "\n",
    "class Doctor(Role):\n",
    "    def act(self):\n",
    "        print(\"Gives Medicine\")\n",
    "class Cook(Role):\n",
    "    def act(self):\n",
    "        print(\"Cooks Dinner\")\n",
    "#Doctor and Cook is a subclass of Role. It overrides the act() method to do something specific: print \"Gives Medicine\".\n",
    "\n",
    "def daily_roles(abc): \n",
    "    abc.act()\n",
    "\n",
    "daily_roles(Doctor())"
   ]
  },
  {
   "cell_type": "raw",
   "id": "033210b0-9d59-43b1-98e3-035b94b2ac56",
   "metadata": {},
   "source": [
    "| What                        | Explanation                                                                        |\n",
    "| --------------------------- | ---------------------------------------------------------------------------------- |\n",
    "| `abc` is a variable        | It holds an object like `Doctor()` or `Cook()`                                     |\n",
    "| How does it access methods? | Python checks if the object has `.act()` and calls it                              |\n",
    "| Is it class-based?          | Yes, the object was created from a class                                           |\n",
    "| Is inheritance required?    | No — as long as the object has the method, it works (polymorphism via duck typing) |\n"
   ]
  },
  {
   "cell_type": "markdown",
   "id": "4fd3d17e-1669-43ee-a670-2866cdf7ebf4",
   "metadata": {},
   "source": [
    "### encapsulation\n",
    "Encapsulation = Hide the data, provide methods to interact with it.\n",
    "\n"
   ]
  },
  {
   "cell_type": "raw",
   "id": "bf1cf84f-2758-45df-9749-09b82655a79c",
   "metadata": {},
   "source": [
    "| Prefix    | Access Level         | Example                 |\n",
    "| --------- | -------------------- | ------------------------ |\n",
    "| Public    | Accessible anywhere  | `self.name`              |\n",
    "| Protected | Suggests limited use | `_name` (by convention)  |\n",
    "| Private   | Really hidden        | `__name` (name mangling) |\n",
    "\n"
   ]
  },
  {
   "cell_type": "code",
   "execution_count": 63,
   "id": "e5554ad6-f573-42bd-bc6a-7ee2bfe750e6",
   "metadata": {},
   "outputs": [
    {
     "data": {
      "text/plain": [
       "500"
      ]
     },
     "execution_count": 63,
     "metadata": {},
     "output_type": "execute_result"
    }
   ],
   "source": [
    "class Family:\n",
    "    def __init__(self):\n",
    "        self.mutual_fund=500 #public\n",
    "        self.__secret_fund=100 #private __ before variable means private\n",
    "    def getfund(self): #a function to  access private constructor\n",
    "        return self.__secret_fund \\\n",
    "        \n",
    "dad=Family()\n",
    "dad.getfund() #have to use the get method to have the output \n",
    "dad.mutual_fund"
   ]
  },
  {
   "cell_type": "markdown",
   "id": "96ed5344",
   "metadata": {},
   "source": [
    "# sleep()\n",
    "\n",
    "sleep() method is used to stop execution for a certain amount of time"
   ]
  },
  {
   "cell_type": "code",
   "execution_count": null,
   "id": "3cd61807",
   "metadata": {},
   "outputs": [],
   "source": [
    "import time\n",
    "for i in range(11):\n",
    "    print(i)\n",
    "    if(i==5):\n",
    "        time.sleep(5)"
   ]
  }
 ],
 "metadata": {
  "kernelspec": {
   "display_name": "Python 3 (ipykernel)",
   "language": "python",
   "name": "python3"
  },
  "language_info": {
   "codemirror_mode": {
    "name": "ipython",
    "version": 3
   },
   "file_extension": ".py",
   "mimetype": "text/x-python",
   "name": "python",
   "nbconvert_exporter": "python",
   "pygments_lexer": "ipython3",
   "version": "3.13.1"
  }
 },
 "nbformat": 4,
 "nbformat_minor": 5
}
