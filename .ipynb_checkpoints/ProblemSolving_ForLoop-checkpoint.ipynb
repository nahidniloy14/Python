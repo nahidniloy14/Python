{
 "cells": [
  {
   "cell_type": "markdown",
   "id": "6adee196-8d7f-4a35-91fb-e7c3155c4024",
   "metadata": {},
   "source": [
    "### 001"
   ]
  },
  {
   "cell_type": "raw",
   "id": "21b52e79-c1df-471c-acc9-a569a87dae73",
   "metadata": {},
   "source": [
    "Write a program that prints the numbers from 1 to 10, but for each number:\n",
    "\n",
    "If the number is even, print \"Even: X\"\n",
    "\n",
    "If the number is odd, print \"Odd: X\""
   ]
  },
  {
   "cell_type": "code",
   "execution_count": 1,
   "id": "8eda01f8-19da-4847-a707-2b164940cfe2",
   "metadata": {},
   "outputs": [
    {
     "name": "stdout",
     "output_type": "stream",
     "text": [
      "1 odd\n",
      "2 even\n",
      "3 odd\n",
      "4 even\n",
      "5 odd\n",
      "6 even\n",
      "7 odd\n",
      "8 even\n",
      "9 odd\n",
      "10 even\n"
     ]
    }
   ],
   "source": [
    "for i in range (1,11):\n",
    "    if i%2 ==1:\n",
    "        print(i, 'odd')\n",
    "        \n",
    "    else:\n",
    "        print(i,'even')\n"
   ]
  },
  {
   "cell_type": "markdown",
   "id": "af7b1343-7e30-4d11-a84a-1cdce84b9fc0",
   "metadata": {},
   "source": [
    "### 002"
   ]
  },
  {
   "cell_type": "raw",
   "id": "8360fbf6-322e-4740-bb77-31370d4df095",
   "metadata": {},
   "source": [
    "Write a program that calculates the sum of all numbers from 1 to 100."
   ]
  },
  {
   "cell_type": "code",
   "execution_count": 8,
   "id": "860eb99c-0649-460e-8b6b-38dc28e46862",
   "metadata": {},
   "outputs": [
    {
     "name": "stdout",
     "output_type": "stream",
     "text": [
      "5050\n"
     ]
    }
   ],
   "source": [
    "sum=0\n",
    "for i in range(1,101):\n",
    "    sum=sum+i\n",
    "print(sum)"
   ]
  },
  {
   "cell_type": "markdown",
   "id": "babb22d0-9895-4e98-9b32-36bedcb65045",
   "metadata": {},
   "source": [
    "### 003"
   ]
  },
  {
   "cell_type": "raw",
   "id": "63bab200-7eae-4e92-8803-f47e25940441",
   "metadata": {},
   "source": [
    "Write a program that prints the multiplication table of 5, from 5 × 1 up to 5 × 10."
   ]
  },
  {
   "cell_type": "code",
   "execution_count": 17,
   "id": "9dcac436-a721-4ea8-b538-3611c703deb3",
   "metadata": {},
   "outputs": [
    {
     "name": "stdout",
     "output_type": "stream",
     "text": [
      "5*1=5\n",
      "5*2=10\n",
      "5*3=15\n",
      "5*4=20\n",
      "5*5=25\n",
      "5*6=30\n",
      "5*7=35\n",
      "5*8=40\n",
      "5*9=45\n",
      "5*10=50\n"
     ]
    }
   ],
   "source": [
    "num=5\n",
    "sum=0\n",
    "for i in range (1,11):\n",
    "    #print(i)\n",
    "    sum=num*i\n",
    "    print(f'{num}*{i}={sum}')"
   ]
  },
  {
   "cell_type": "markdown",
   "id": "1405d40a-7787-4e10-8cdd-4b1ceb71493b",
   "metadata": {},
   "source": [
    "### 004"
   ]
  },
  {
   "cell_type": "raw",
   "id": "bc3d48f2-0430-42b5-833e-514e92d504ee",
   "metadata": {},
   "source": [
    "Write a program that prints numbers from 10 down to 1."
   ]
  },
  {
   "cell_type": "code",
   "execution_count": 86,
   "id": "538897ac-7c76-44ac-96fc-38a22f69ed3f",
   "metadata": {},
   "outputs": [
    {
     "name": "stdout",
     "output_type": "stream",
     "text": [
      "10\n",
      "9\n",
      "8\n",
      "7\n",
      "6\n",
      "5\n",
      "4\n",
      "3\n",
      "2\n",
      "1\n"
     ]
    }
   ],
   "source": [
    "sum=[]\n",
    "for i in range (1,11):\n",
    "    sum.append(i)\n",
    "#print(sum)\n",
    "sum. reverse()\n",
    "for s in sum:\n",
    "    print (s)"
   ]
  },
  {
   "cell_type": "code",
   "execution_count": 87,
   "id": "4ab9937a-6bd6-40fd-86ef-e76242cdbf2f",
   "metadata": {},
   "outputs": [
    {
     "name": "stdout",
     "output_type": "stream",
     "text": [
      "10\n",
      "9\n",
      "8\n",
      "7\n",
      "6\n",
      "5\n",
      "4\n",
      "3\n",
      "2\n",
      "1\n"
     ]
    }
   ],
   "source": [
    "for i in range(10,0,-1):\n",
    "    print(i)"
   ]
  },
  {
   "cell_type": "markdown",
   "id": "0decd956-3230-4dee-b172-fb08be465eb9",
   "metadata": {},
   "source": [
    "### 005"
   ]
  },
  {
   "cell_type": "raw",
   "id": "87071d38-384a-44e2-b5f9-57af3150ec8c",
   "metadata": {},
   "source": [
    "Write a program that calculates the factorial of a number n (say n = 5)."
   ]
  },
  {
   "cell_type": "code",
   "execution_count": 91,
   "id": "4a704deb-db62-4817-b859-dfd76524737c",
   "metadata": {},
   "outputs": [
    {
     "name": "stdin",
     "output_type": "stream",
     "text": [
      "What is your number 15\n"
     ]
    },
    {
     "data": {
      "text/plain": [
       "1307674368000"
      ]
     },
     "execution_count": 91,
     "metadata": {},
     "output_type": "execute_result"
    }
   ],
   "source": [
    "import math\n",
    "num=int(input(\"What is your number\"))\n",
    "math.factorial(num)"
   ]
  },
  {
   "cell_type": "raw",
   "id": "bac91eb0-ed6f-4c91-a42d-9b3f9bb75afc",
   "metadata": {},
   "source": [
    "Write a program that prints the square root of each number from 1 to 10."
   ]
  },
  {
   "cell_type": "code",
   "execution_count": 108,
   "id": "49d3be1a-d524-43e9-9cdb-23ee5d89d373",
   "metadata": {},
   "outputs": [
    {
     "name": "stdout",
     "output_type": "stream",
     "text": [
      "Square root of 1 is 1.0\n",
      "Square root of 2 is 1.4142135623730951\n",
      "Square root of 3 is 1.7320508075688772\n",
      "Square root of 4 is 2.0\n",
      "Square root of 5 is 2.23606797749979\n",
      "Square root of 6 is 2.449489742783178\n",
      "Square root of 7 is 2.6457513110645907\n",
      "Square root of 8 is 2.8284271247461903\n",
      "Square root of 9 is 3.0\n"
     ]
    }
   ],
   "source": [
    "for i in range (1,10):\n",
    "    #print(i)\n",
    "    print(f'Square root of {i} is {math.sqrt(i)}')"
   ]
  },
  {
   "cell_type": "code",
   "execution_count": null,
   "id": "1305d7a6-fe50-474b-801e-c301c99e8205",
   "metadata": {},
   "outputs": [],
   "source": [
    "Write a program that prints the square of each number from 1 to 10."
   ]
  },
  {
   "cell_type": "code",
   "execution_count": 111,
   "id": "2ecfff74-d5ec-4c8e-9f5d-573af1bb746b",
   "metadata": {},
   "outputs": [
    {
     "name": "stdout",
     "output_type": "stream",
     "text": [
      " Square of 1 is 1\n",
      " Square of 2 is 4\n",
      " Square of 3 is 9\n",
      " Square of 4 is 16\n",
      " Square of 5 is 25\n",
      " Square of 6 is 36\n",
      " Square of 7 is 49\n",
      " Square of 8 is 64\n",
      " Square of 9 is 81\n"
     ]
    }
   ],
   "source": [
    "for i in range (1,10):\n",
    "    #print(i**2)\n",
    "    print(f' Square of {i} is {i**2}')"
   ]
  },
  {
   "cell_type": "raw",
   "id": "e412e410-bd73-4bf8-9afa-c74bfb6e648a",
   "metadata": {},
   "source": [
    "Sum of even numbers 1  to 50"
   ]
  },
  {
   "cell_type": "code",
   "execution_count": 121,
   "id": "e36fc34a-8c2c-41a8-9280-b14ec78f6712",
   "metadata": {},
   "outputs": [
    {
     "name": "stdout",
     "output_type": "stream",
     "text": [
      "625\n"
     ]
    }
   ],
   "source": [
    "sum=0\n",
    "for i in range(0,51):\n",
    "    if i %2 ==1:\n",
    "        #print(i)\n",
    "        sum=sum+i\n",
    "print(sum)"
   ]
  },
  {
   "cell_type": "raw",
   "id": "0775ac89-5b12-4fcd-a4c0-e09cd5d3b5c9",
   "metadata": {},
   "source": [
    "Find the Largest Digit in a Number\n",
    "\n",
    "Given a number like 58943, find the largest digit (9)."
   ]
  },
  {
   "cell_type": "code",
   "execution_count": 203,
   "id": "d9331aec-e3ed-492f-b971-fae4b162a118",
   "metadata": {},
   "outputs": [
    {
     "name": "stdout",
     "output_type": "stream",
     "text": [
      "5\n",
      "8\n",
      "9\n"
     ]
    }
   ],
   "source": [
    "num= '58943'\n",
    "largest=0\n",
    "\n",
    "for numbers in num:\n",
    "    digit=int(numbers) #convert to int\n",
    "    #print(digit)\n",
    "    \n",
    "    if digit>largest:\n",
    "        largest=digit\n",
    "print(largest)\n",
    "     \n",
    "\n",
    "\n",
    "        "
   ]
  },
  {
   "cell_type": "code",
   "execution_count": null,
   "id": "1414cb77-572e-4eb0-b63f-ac757a8ada0b",
   "metadata": {},
   "outputs": [],
   "source": []
  }
 ],
 "metadata": {
  "kernelspec": {
   "display_name": "Python 3 (ipykernel)",
   "language": "python",
   "name": "python3"
  },
  "language_info": {
   "codemirror_mode": {
    "name": "ipython",
    "version": 3
   },
   "file_extension": ".py",
   "mimetype": "text/x-python",
   "name": "python",
   "nbconvert_exporter": "python",
   "pygments_lexer": "ipython3",
   "version": "3.13.1"
  }
 },
 "nbformat": 4,
 "nbformat_minor": 5
}
