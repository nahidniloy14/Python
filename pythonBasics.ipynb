{
 "cells": [
  {
   "cell_type": "markdown",
   "id": "05704ff9-cdb2-4ab2-82b8-f5225c9b0404",
   "metadata": {},
   "source": [
    "# Get Started"
   ]
  },
  {
   "cell_type": "code",
   "execution_count": 1,
   "id": "38d2b04a-bfd3-410a-92ab-6f2f0805fe2f",
   "metadata": {},
   "outputs": [
    {
     "name": "stdout",
     "output_type": "stream",
     "text": [
      "Hello World\n"
     ]
    }
   ],
   "source": [
    "print(\"Hello World\")"
   ]
  },
  {
   "cell_type": "markdown",
   "id": "ee09c863",
   "metadata": {},
   "source": [
    "# Number Operation"
   ]
  },
  {
   "cell_type": "code",
   "execution_count": 2,
   "id": "cbe9c3e7",
   "metadata": {},
   "outputs": [
    {
     "data": {
      "text/plain": [
       "3"
      ]
     },
     "execution_count": 2,
     "metadata": {},
     "output_type": "execute_result"
    }
   ],
   "source": [
    "1+2\n"
   ]
  },
  {
   "cell_type": "code",
   "execution_count": 3,
   "id": "70b4bdfe",
   "metadata": {},
   "outputs": [
    {
     "data": {
      "text/plain": [
       "-1"
      ]
     },
     "execution_count": 3,
     "metadata": {},
     "output_type": "execute_result"
    }
   ],
   "source": [
    "2-3"
   ]
  },
  {
   "cell_type": "code",
   "execution_count": 4,
   "id": "87e9ae68",
   "metadata": {},
   "outputs": [
    {
     "data": {
      "text/plain": [
       "16"
      ]
     },
     "execution_count": 4,
     "metadata": {},
     "output_type": "execute_result"
    }
   ],
   "source": [
    "2*8\n"
   ]
  },
  {
   "cell_type": "code",
   "execution_count": 5,
   "id": "3259c71d",
   "metadata": {},
   "outputs": [
    {
     "data": {
      "text/plain": [
       "1"
      ]
     },
     "execution_count": 5,
     "metadata": {},
     "output_type": "execute_result"
    }
   ],
   "source": [
    "16%3\n"
   ]
  },
  {
   "cell_type": "code",
   "execution_count": 6,
   "id": "ea182839",
   "metadata": {},
   "outputs": [
    {
     "data": {
      "text/plain": [
       "8"
      ]
     },
     "execution_count": 6,
     "metadata": {},
     "output_type": "execute_result"
    }
   ],
   "source": [
    "#2 to the power 3\n",
    "2 ** 3"
   ]
  },
  {
   "cell_type": "code",
   "execution_count": 7,
   "id": "96fa13c6",
   "metadata": {},
   "outputs": [
    {
     "data": {
      "text/plain": [
       "82"
      ]
     },
     "execution_count": 7,
     "metadata": {},
     "output_type": "execute_result"
    }
   ],
   "source": [
    "2+10*(10-2)"
   ]
  },
  {
   "cell_type": "markdown",
   "id": "f4cbd01c-55d3-47e2-9585-a6da1a226560",
   "metadata": {},
   "source": [
    "### Complex Numbers"
   ]
  },
  {
   "cell_type": "code",
   "execution_count": 71,
   "id": "5094e938-dc95-496d-b378-b7738a35dae2",
   "metadata": {},
   "outputs": [
    {
     "data": {
      "text/plain": [
       "complex"
      ]
     },
     "execution_count": 71,
     "metadata": {},
     "output_type": "execute_result"
    }
   ],
   "source": [
    "\n",
    "z= 4j #complex numbers are represented as j in Python\n",
    "\n",
    "type(z)"
   ]
  },
  {
   "cell_type": "markdown",
   "id": "6a2cdcbf-eee0-4592-a4a0-752ae775b429",
   "metadata": {},
   "source": [
    "### Scientific Numbers"
   ]
  },
  {
   "cell_type": "code",
   "execution_count": 74,
   "id": "c564e61d-4c8a-488e-b75e-739756559ca3",
   "metadata": {},
   "outputs": [],
   "source": [
    "x=45e3 #e means 10^"
   ]
  },
  {
   "cell_type": "code",
   "execution_count": 75,
   "id": "4483a334-614a-4c16-bb95-7c210c867288",
   "metadata": {},
   "outputs": [
    {
     "name": "stdout",
     "output_type": "stream",
     "text": [
      "45000.0\n"
     ]
    }
   ],
   "source": [
    "print(x)"
   ]
  },
  {
   "cell_type": "markdown",
   "id": "324645aa-aab9-4c40-af56-91c37d476787",
   "metadata": {},
   "source": [
    "# Data Type"
   ]
  },
  {
   "cell_type": "code",
   "execution_count": 8,
   "id": "83d1fd22",
   "metadata": {},
   "outputs": [
    {
     "data": {
      "text/plain": [
       "float"
      ]
     },
     "execution_count": 8,
     "metadata": {},
     "output_type": "execute_result"
    }
   ],
   "source": [
    "a=10.22\n",
    "type(a)"
   ]
  },
  {
   "cell_type": "code",
   "execution_count": 9,
   "id": "5346d812-0b55-4c40-8e44-1c3cb0d4b62d",
   "metadata": {},
   "outputs": [
    {
     "data": {
      "text/plain": [
       "int"
      ]
     },
     "execution_count": 9,
     "metadata": {},
     "output_type": "execute_result"
    }
   ],
   "source": [
    "a=int(10.22)\n",
    "type(a)"
   ]
  },
  {
   "cell_type": "code",
   "execution_count": 10,
   "id": "dd50a6ce-a985-4127-8343-8bbc7dec4d74",
   "metadata": {},
   "outputs": [
    {
     "name": "stdout",
     "output_type": "stream",
     "text": [
      "10\n"
     ]
    }
   ],
   "source": [
    "print(a)"
   ]
  },
  {
   "cell_type": "markdown",
   "id": "92abc0e2-5c4d-4d20-87f0-7c0fac7aa391",
   "metadata": {},
   "source": [
    "# Variables\n",
    "\n",
    "Variable carries value"
   ]
  },
  {
   "cell_type": "raw",
   "id": "7ee4f27a-e61e-462c-bf89-5fde80da5223",
   "metadata": {},
   "source": [
    "\n",
    "# Python Variable Naming Rules (Simple)\n",
    "\n",
    "### Valid Examples:\n",
    "* `my_variable`\n",
    "* `user_id_2`\n",
    "* `_temp_data`\n",
    "* `Age`\n",
    "* `__internal_value` (for special use by Python)\n",
    "\n",
    "### Invalid Examples:\n",
    "* `1st_name` (starts with a number)\n",
    "* `total-price` (contains a hyphen)\n",
    "* `user name` (contains a space)\n",
    "* `for` (is a reserved keyword, like `if`, `class`, `True`)\n",
    "* `item#` (contains a symbol)\n",
    "* `my@email` (contains a symbol)\n",
    "\n",
    "Remember, Python variable names are **case-sensitive** (`myVar` is different from `myvar`).\n",
    "\n",
    "## Naming Conventions (for cleaner code):\n",
    "\n",
    "1.  Regular Variables & Functions:** Use `snake_case` (all lowercase, words separated by underscores).\n",
    "    Example: `first_name`, `calculate_total_amount`\n",
    "\n",
    "2.  Constants: Use `ALL_CAPS_SNAKE_CASE` (uppercase, words separated by underscores).\n",
    "    Example: `MAX_RETRIES`, `DEFAULT_TIMEOUT`\n",
    "\n",
    "3.  Class Names: Use `PascalCase` (first letter of each word capitalized).\n",
    "    Example:`UserProfile`, `DatabaseConnector`\n",
    "\n",
    "4.  \"Internal Use\" (weak private): Start the name with a single underscore (`_`). This is a hint not to use it directly from outside.\n",
    "    Example: `_private_helper`, `_cached_result`\n",
    "\n",
    "5.  Special Python Methods (\"dunder methods\"): These start and end with double underscores (`__name__`). They have specific Python meanings, so avoid using this style for your regular variables.\n",
    "    Example: `__init__`, `__str__`\n"
   ]
  },
  {
   "cell_type": "code",
   "execution_count": 11,
   "id": "bc1d7c84",
   "metadata": {},
   "outputs": [
    {
     "name": "stdout",
     "output_type": "stream",
     "text": [
      "17280.0\n"
     ]
    }
   ],
   "source": [
    "#Calculate income excluding taxes\n",
    "my_taxrate=0.04\n",
    "my_salary=18000\n",
    "my_income=my_salary-(my_salary * my_taxrate)\n",
    "print(my_income)"
   ]
  },
  {
   "cell_type": "markdown",
   "id": "104b0832",
   "metadata": {},
   "source": [
    "# Working with strings"
   ]
  },
  {
   "cell_type": "code",
   "execution_count": 12,
   "id": "c2989744",
   "metadata": {},
   "outputs": [
    {
     "data": {
      "text/plain": [
       "\"hello from world's best coder\""
      ]
     },
     "execution_count": 12,
     "metadata": {},
     "output_type": "execute_result"
    }
   ],
   "source": [
    "\"hello from world's best coder\"\n"
   ]
  },
  {
   "cell_type": "code",
   "execution_count": 13,
   "id": "06ceb577",
   "metadata": {},
   "outputs": [
    {
     "data": {
      "text/plain": [
       "'hello universe'"
      ]
     },
     "execution_count": 13,
     "metadata": {},
     "output_type": "execute_result"
    }
   ],
   "source": [
    "'hello universe'"
   ]
  },
  {
   "cell_type": "code",
   "execution_count": 14,
   "id": "5022b5b0",
   "metadata": {},
   "outputs": [
    {
     "name": "stdout",
     "output_type": "stream",
     "text": [
      "i do not want any string sign here just want the actual text\n"
     ]
    }
   ],
   "source": [
    "print(\"i do not want any string sign here just want the actual text\")"
   ]
  },
  {
   "cell_type": "code",
   "execution_count": 15,
   "id": "87306850",
   "metadata": {},
   "outputs": [
    {
     "name": "stdout",
     "output_type": "stream",
     "text": [
      "i do not want any string sign here, \n",
      "just want the actual text\n"
     ]
    }
   ],
   "source": [
    "print(\"i do not want any string sign here, \\njust want the actual text\")"
   ]
  },
  {
   "cell_type": "code",
   "execution_count": 16,
   "id": "415af515",
   "metadata": {},
   "outputs": [
    {
     "name": "stdout",
     "output_type": "stream",
     "text": [
      "i do not want any string sign here, \tjust want the actual text\n"
     ]
    }
   ],
   "source": [
    "print(\"i do not want any string sign here, \\tjust want the actual text\")"
   ]
  },
  {
   "cell_type": "code",
   "execution_count": 17,
   "id": "59857fed",
   "metadata": {},
   "outputs": [
    {
     "data": {
      "text/plain": [
       "11"
      ]
     },
     "execution_count": 17,
     "metadata": {},
     "output_type": "execute_result"
    }
   ],
   "source": [
    "len(\"I eat rice \")"
   ]
  },
  {
   "cell_type": "code",
   "execution_count": 18,
   "id": "5f356baa",
   "metadata": {},
   "outputs": [
    {
     "data": {
      "text/plain": [
       "8"
      ]
     },
     "execution_count": 18,
     "metadata": {},
     "output_type": "execute_result"
    }
   ],
   "source": [
    "len(\"Ieatrice\")"
   ]
  },
  {
   "cell_type": "markdown",
   "id": "af1c2e84-2492-4e37-aeab-5f5a451902cb",
   "metadata": {},
   "source": [
    "### Indexing & Slicing"
   ]
  },
  {
   "cell_type": "code",
   "execution_count": 19,
   "id": "80a867cc",
   "metadata": {},
   "outputs": [
    {
     "data": {
      "text/plain": [
       "'b'"
      ]
     },
     "execution_count": 19,
     "metadata": {},
     "output_type": "execute_result"
    }
   ],
   "source": [
    "my_string=(\"The color of the sky is blue\")\n",
    "my_string[-4]\n"
   ]
  },
  {
   "cell_type": "code",
   "execution_count": 20,
   "id": "437f9d13",
   "metadata": {},
   "outputs": [
    {
     "data": {
      "text/plain": [
       "'o'"
      ]
     },
     "execution_count": 20,
     "metadata": {},
     "output_type": "execute_result"
    }
   ],
   "source": [
    "my_string=(\"The color of the sky is blue\")\n",
    "my_string[7]"
   ]
  },
  {
   "cell_type": "code",
   "execution_count": 21,
   "id": "057276be",
   "metadata": {},
   "outputs": [
    {
     "data": {
      "text/plain": [
       "'abcdefghij'"
      ]
     },
     "execution_count": 21,
     "metadata": {},
     "output_type": "execute_result"
    }
   ],
   "source": [
    "# alp[starts:upto:stepsize]\n",
    "alp=(\"abcdefghij\")\n",
    "alp[::]"
   ]
  },
  {
   "cell_type": "code",
   "execution_count": 22,
   "id": "b8258c58",
   "metadata": {},
   "outputs": [
    {
     "data": {
      "text/plain": [
       "'defghij'"
      ]
     },
     "execution_count": 22,
     "metadata": {},
     "output_type": "execute_result"
    }
   ],
   "source": [
    "alp[3:]"
   ]
  },
  {
   "cell_type": "code",
   "execution_count": 23,
   "id": "6f21d077",
   "metadata": {},
   "outputs": [
    {
     "data": {
      "text/plain": [
       "'abc'"
      ]
     },
     "execution_count": 23,
     "metadata": {},
     "output_type": "execute_result"
    }
   ],
   "source": [
    "alp[:3]"
   ]
  },
  {
   "cell_type": "code",
   "execution_count": 24,
   "id": "e91f8d18",
   "metadata": {},
   "outputs": [
    {
     "data": {
      "text/plain": [
       "'acegi'"
      ]
     },
     "execution_count": 24,
     "metadata": {},
     "output_type": "execute_result"
    }
   ],
   "source": [
    "alp[0:9:2]"
   ]
  },
  {
   "cell_type": "code",
   "execution_count": 25,
   "id": "ebceb2aa",
   "metadata": {},
   "outputs": [
    {
     "data": {
      "text/plain": [
       "'jihgfedcba'"
      ]
     },
     "execution_count": 25,
     "metadata": {},
     "output_type": "execute_result"
    }
   ],
   "source": [
    "#reverse string\n",
    "alp[::-1]"
   ]
  },
  {
   "cell_type": "code",
   "execution_count": 26,
   "id": "fe05e560",
   "metadata": {},
   "outputs": [
    {
     "name": "stdout",
     "output_type": "stream",
     "text": [
      "Nahid Hassan Niloy\n"
     ]
    }
   ],
   "source": [
    "#concate full name\n",
    "first_name=\"Nahid Hassan \"\n",
    "last_name=\"Niloy\"\n",
    "full_name=first_name+last_name\n",
    "print(full_name)"
   ]
  },
  {
   "cell_type": "code",
   "execution_count": 27,
   "id": "34cc7319",
   "metadata": {},
   "outputs": [
    {
     "data": {
      "text/plain": [
       "'Nahid Hassan Robin'"
      ]
     },
     "execution_count": 27,
     "metadata": {},
     "output_type": "execute_result"
    }
   ],
   "source": [
    "first_name+'Robin'"
   ]
  },
  {
   "cell_type": "code",
   "execution_count": 28,
   "id": "df1879f8",
   "metadata": {},
   "outputs": [
    {
     "data": {
      "text/plain": [
       "'nnnnnnnnnn'"
      ]
     },
     "execution_count": 28,
     "metadata": {},
     "output_type": "execute_result"
    }
   ],
   "source": [
    "letter='n'\n",
    "letter*10"
   ]
  },
  {
   "cell_type": "code",
   "execution_count": 29,
   "id": "f4159ebd",
   "metadata": {},
   "outputs": [
    {
     "name": "stdout",
     "output_type": "stream",
     "text": [
      "nn14\n"
     ]
    }
   ],
   "source": [
    "#print nn14 using concatination\n",
    "letter='n'\n",
    "output=letter*2+'1'+'4'\n",
    "print(output)"
   ]
  },
  {
   "cell_type": "code",
   "execution_count": 30,
   "id": "a2471156",
   "metadata": {},
   "outputs": [
    {
     "data": {
      "text/plain": [
       "'HELLO WORLD'"
      ]
     },
     "execution_count": 30,
     "metadata": {},
     "output_type": "execute_result"
    }
   ],
   "source": [
    "text=\"HELlo WorLD\"\n",
    "text.upper()"
   ]
  },
  {
   "cell_type": "code",
   "execution_count": 31,
   "id": "59490b47",
   "metadata": {},
   "outputs": [
    {
     "data": {
      "text/plain": [
       "'hello world'"
      ]
     },
     "execution_count": 31,
     "metadata": {},
     "output_type": "execute_result"
    }
   ],
   "source": [
    "text.lower()"
   ]
  },
  {
   "cell_type": "code",
   "execution_count": 32,
   "id": "0baeea6e",
   "metadata": {},
   "outputs": [
    {
     "data": {
      "text/plain": [
       "['The', 'color', 'of', 'the', 'sky', 'is', 'blue']"
      ]
     },
     "execution_count": 32,
     "metadata": {},
     "output_type": "execute_result"
    }
   ],
   "source": [
    "my_string=(\"The color of the sky is blue\")\n",
    "my_string.split()"
   ]
  },
  {
   "cell_type": "code",
   "execution_count": 66,
   "id": "230f6660",
   "metadata": {},
   "outputs": [
    {
     "data": {
      "text/plain": [
       "['The c', 'l', 'r ', 'f the sky is blue']"
      ]
     },
     "execution_count": 66,
     "metadata": {},
     "output_type": "execute_result"
    }
   ],
   "source": [
    "my_string.split('o')"
   ]
  },
  {
   "cell_type": "markdown",
   "id": "577379a9",
   "metadata": {},
   "source": [
    "# Print Format"
   ]
  },
  {
   "cell_type": "code",
   "execution_count": 34,
   "id": "e86ae397",
   "metadata": {},
   "outputs": [
    {
     "name": "stdout",
     "output_type": "stream",
     "text": [
      "the quick brown fox jumps over the lazy dog\n"
     ]
    }
   ],
   "source": [
    "#formatting the sentence\n",
    "text1=('{3} {0} {2} {1}'.format('quick','fox','brown','the'))\n",
    "#print(text1)\n",
    "text2=(' {j} {o} the {l} {d}'.format(o='over',j='jumps',l='lazy',d='dog'))\n",
    "#print(text2)\n",
    "text= text1 +  text2\n",
    "print(text)"
   ]
  },
  {
   "cell_type": "raw",
   "id": "72e34bb4",
   "metadata": {},
   "source": [
    "#float formatting\n",
    "{value:Width.precision f}\n",
    "width describes mainly the whitespace(not mendatory)\n",
    "\n",
    "\n"
   ]
  },
  {
   "cell_type": "code",
   "execution_count": 35,
   "id": "54c39d92",
   "metadata": {},
   "outputs": [
    {
     "name": "stdout",
     "output_type": "stream",
     "text": [
      "The value of pi: 3.1416\n"
     ]
    }
   ],
   "source": [
    "#precised value of pi\n",
    "pi=3.1415926535\n",
    "print (\"The value of pi: {p:.4f}\".format(p=pi))"
   ]
  },
  {
   "cell_type": "code",
   "execution_count": 36,
   "id": "04b015d8",
   "metadata": {},
   "outputs": [
    {
     "name": "stdout",
     "output_type": "stream",
     "text": [
      "my name is niloy\n"
     ]
    }
   ],
   "source": [
    "#fstring(shortcut method)\n",
    "name=\"niloy\"\n",
    "print(f'my name is {name}')"
   ]
  },
  {
   "cell_type": "code",
   "execution_count": 37,
   "id": "9b9d9caf",
   "metadata": {},
   "outputs": [
    {
     "name": "stdout",
     "output_type": "stream",
     "text": [
      "I am Nahid Hassan Niloy,I studied from AIUB\n"
     ]
    }
   ],
   "source": [
    "#introduce yourself using f string\n",
    "first_name=\"Nahid Hassan \"\n",
    "last_name=\"Niloy\"\n",
    "full_name=first_name+last_name\n",
    "uni=\"AIUB\"\n",
    "print(f'I am {full_name},I studied from {uni}')"
   ]
  },
  {
   "cell_type": "code",
   "execution_count": 38,
   "id": "77d69cf1",
   "metadata": {},
   "outputs": [
    {
     "name": "stdout",
     "output_type": "stream",
     "text": [
      "The price of apple is 20\n"
     ]
    }
   ],
   "source": [
    "#apple's price is $20\n",
    "fruits=['banana','grape','orange','apple','pineapple','watermelon']\n",
    "price=['10','20','30','40','50','60']\n",
    "#print(The price of fruits[3] + price[1])\n",
    "#product=fruits[3]\n",
    "#cost=price[1]\n",
    "#print(f'The price of {product} is {cost}')\n",
    "print(f'The price of {fruits[3]} is {price[1]}')"
   ]
  },
  {
   "cell_type": "markdown",
   "id": "c3da87ec",
   "metadata": {},
   "source": [
    "# List"
   ]
  },
  {
   "cell_type": "code",
   "execution_count": 39,
   "id": "1670dbc7",
   "metadata": {},
   "outputs": [
    {
     "name": "stdout",
     "output_type": "stream",
     "text": [
      "Niloy\n"
     ]
    }
   ],
   "source": [
    "values=[1,4,\"Niloy\",29]\n",
    "print(values[2])"
   ]
  },
  {
   "cell_type": "code",
   "execution_count": 40,
   "id": "8baea65d",
   "metadata": {},
   "outputs": [
    {
     "data": {
      "text/plain": [
       "6"
      ]
     },
     "execution_count": 40,
     "metadata": {},
     "output_type": "execute_result"
    }
   ],
   "source": [
    "fruits=['banana','grape','orange','apple','pineapple','watermelon']\n",
    "len(fruits)"
   ]
  },
  {
   "cell_type": "code",
   "execution_count": 41,
   "id": "9e2b77bc",
   "metadata": {},
   "outputs": [
    {
     "data": {
      "text/plain": [
       "['orange', 'apple', 'pineapple']"
      ]
     },
     "execution_count": 41,
     "metadata": {},
     "output_type": "execute_result"
    }
   ],
   "source": [
    "fruits[2:5]"
   ]
  },
  {
   "cell_type": "code",
   "execution_count": 42,
   "id": "5afe99c7",
   "metadata": {},
   "outputs": [
    {
     "data": {
      "text/plain": [
       "['banana',\n",
       " 'grape',\n",
       " 'orange',\n",
       " 'apple',\n",
       " 'pineapple',\n",
       " 'watermelon',\n",
       " '10',\n",
       " '20',\n",
       " '30',\n",
       " '40',\n",
       " '50',\n",
       " '60']"
      ]
     },
     "execution_count": 42,
     "metadata": {},
     "output_type": "execute_result"
    }
   ],
   "source": [
    "price=['10','20','30','40','50','60']\n",
    "price[2]\n",
    "fruits+price"
   ]
  },
  {
   "cell_type": "code",
   "execution_count": 43,
   "id": "5d9fc694",
   "metadata": {},
   "outputs": [
    {
     "data": {
      "text/plain": [
       "['banana', 'grape', 'orange', 'apple', 'date', 'watermelon']"
      ]
     },
     "execution_count": 43,
     "metadata": {},
     "output_type": "execute_result"
    }
   ],
   "source": [
    "#insert element\n",
    "fruits=['banana','grape','orange','apple','pineapple','watermelon']\n",
    "fruits[4]='date'\n",
    "fruits"
   ]
  },
  {
   "cell_type": "code",
   "execution_count": 44,
   "id": "03bd76d6",
   "metadata": {},
   "outputs": [
    {
     "name": "stdout",
     "output_type": "stream",
     "text": [
      "['Nahid Hassan', 'Niloy', 26, 2.98]\n"
     ]
    }
   ],
   "source": [
    "#insert element to a particular index\n",
    "info=[\"Nahid Hassan\",26,2.98]\n",
    "info.insert(1,\"Niloy\")\n",
    "print(info)"
   ]
  },
  {
   "cell_type": "code",
   "execution_count": 45,
   "id": "fc2dc26d",
   "metadata": {},
   "outputs": [
    {
     "name": "stdout",
     "output_type": "stream",
     "text": [
      "['banana', 'grape', 'orange', 'apple', 'pineapple', 'watermelon', 'date']\n"
     ]
    }
   ],
   "source": [
    "#insert element to last\n",
    "#append function\n",
    "fruits=['banana','grape','orange','apple','pineapple','watermelon']\n",
    "fruits.append('date')\n",
    "print(fruits)"
   ]
  },
  {
   "cell_type": "code",
   "execution_count": 46,
   "id": "6c591188",
   "metadata": {},
   "outputs": [
    {
     "name": "stdout",
     "output_type": "stream",
     "text": [
      "['banana', 'grape', 'orange', 'apple', 'pineapple']\n"
     ]
    }
   ],
   "source": [
    "#pop element from last\n",
    "#pop function\n",
    "fruits=['banana','grape','orange','apple','pineapple','watermelon']\n",
    "fruits.pop()\n",
    "print(fruits)"
   ]
  },
  {
   "cell_type": "code",
   "execution_count": 47,
   "id": "dce6c538",
   "metadata": {},
   "outputs": [
    {
     "name": "stdout",
     "output_type": "stream",
     "text": [
      "['banana', 'grape', 'apple', 'pineapple', 'watermelon']\n"
     ]
    }
   ],
   "source": [
    "#pop element from index\n",
    "fruits=['banana','grape','orange','apple','pineapple','watermelon']\n",
    "fruits.pop(2)\n",
    "print(fruits)"
   ]
  },
  {
   "cell_type": "code",
   "execution_count": 48,
   "id": "172c1403",
   "metadata": {},
   "outputs": [
    {
     "name": "stdout",
     "output_type": "stream",
     "text": [
      "['banana', 'grape', 'apple', 'pineapple', 'watermelon']\n"
     ]
    }
   ],
   "source": [
    "#delete element from index\n",
    "fruits=['banana','grape','orange','apple','pineapple','watermelon']\n",
    "del fruits[2]\n",
    "print(fruits)"
   ]
  },
  {
   "cell_type": "code",
   "execution_count": 49,
   "id": "4096ff12",
   "metadata": {},
   "outputs": [
    {
     "data": {
      "text/plain": [
       "['apple', 'banana', 'grape', 'orange', 'pineapple', 'watermelon']"
      ]
     },
     "execution_count": 49,
     "metadata": {},
     "output_type": "execute_result"
    }
   ],
   "source": [
    "#sort in alphabetical order\n",
    "fruits=['banana','grape','orange','apple','pineapple','watermelon']\n",
    "fruits.sort()\n",
    "fruits"
   ]
  },
  {
   "cell_type": "code",
   "execution_count": 50,
   "id": "ec9bab93",
   "metadata": {},
   "outputs": [
    {
     "data": {
      "text/plain": [
       "['watermelon', 'pineapple', 'apple', 'orange', 'grape', 'banana']"
      ]
     },
     "execution_count": 50,
     "metadata": {},
     "output_type": "execute_result"
    }
   ],
   "source": [
    "#reverse elements\n",
    "fruits=['banana','grape','orange','apple','pineapple','watermelon']\n",
    "fruits.reverse()\n",
    "fruits"
   ]
  },
  {
   "cell_type": "markdown",
   "id": "029b1028",
   "metadata": {},
   "source": [
    "# Dictonary\n",
    "\n",
    "Inside a dictionary there can be list ,integer, and even a dictionary"
   ]
  },
  {
   "cell_type": "code",
   "execution_count": 51,
   "id": "5e91b061",
   "metadata": {},
   "outputs": [
    {
     "data": {
      "text/plain": [
       "20"
      ]
     },
     "execution_count": 51,
     "metadata": {},
     "output_type": "execute_result"
    }
   ],
   "source": [
    "fruits={'banana':10,'grape':40,'orange':30,'apple':20,'pineapple':50,'watermelon':60}\n",
    "fruits['apple']\n"
   ]
  },
  {
   "cell_type": "code",
   "execution_count": 52,
   "id": "300aa59a",
   "metadata": {},
   "outputs": [
    {
     "data": {
      "text/plain": [
       "{'key': 14}"
      ]
     },
     "execution_count": 52,
     "metadata": {},
     "output_type": "execute_result"
    }
   ],
   "source": [
    "my_dic={'my_int':123,'my_list':[1,2,3,4],'new_dic':{'key':14}}\n",
    "my_dic['new_dic']"
   ]
  },
  {
   "cell_type": "code",
   "execution_count": 53,
   "id": "716567aa",
   "metadata": {},
   "outputs": [
    {
     "name": "stdout",
     "output_type": "stream",
     "text": [
      "num\n",
      "1\n",
      "Hello World\n"
     ]
    }
   ],
   "source": [
    "my_dic={\"num\":1,2:\"num\",3:\"Hello World\"}\n",
    "print(my_dic[2])\n",
    "print(my_dic[\"num\"])\n",
    "print(my_dic[3])"
   ]
  },
  {
   "cell_type": "code",
   "execution_count": 54,
   "id": "d9c8cb54",
   "metadata": {},
   "outputs": [
    {
     "data": {
      "text/plain": [
       "'PINEAPPLE'"
      ]
     },
     "execution_count": 54,
     "metadata": {},
     "output_type": "execute_result"
    }
   ],
   "source": [
    "#upper() using a dictionary\n",
    "fruits={'fruitsName': ['banana','grape','orange','apple','pineapple','watermelon']}\n",
    "fruits['fruitsName'][4].upper()"
   ]
  },
  {
   "cell_type": "code",
   "execution_count": 55,
   "id": "3b33ebb5",
   "metadata": {},
   "outputs": [
    {
     "data": {
      "text/plain": [
       "{'banana': 10,\n",
       " 'grape': 40,\n",
       " 'orange': 30,\n",
       " 'apple': 20,\n",
       " 'pineapple': 50,\n",
       " 'watermelon': 60,\n",
       " 'date': '80'}"
      ]
     },
     "execution_count": 55,
     "metadata": {},
     "output_type": "execute_result"
    }
   ],
   "source": [
    "#add new dictionary\n",
    "fruits={'banana':10,'grape':40,'orange':30,'apple':20,'pineapple':50,'watermelon':60}\n",
    "fruits['date']='80'\n",
    "fruits"
   ]
  },
  {
   "cell_type": "code",
   "execution_count": 56,
   "id": "9ac7aa5f",
   "metadata": {},
   "outputs": [
    {
     "data": {
      "text/plain": [
       "{'banana': 10,\n",
       " 'grape': 40,\n",
       " 'orange': 30,\n",
       " 'apple': 20,\n",
       " 'pineapple': 50,\n",
       " 'watermelon': 60,\n",
       " 'grpae': '45'}"
      ]
     },
     "execution_count": 56,
     "metadata": {},
     "output_type": "execute_result"
    }
   ],
   "source": [
    "#change value of a key in a dictionary\n",
    "fruits={'banana':10,'grape':40,'orange':30,'apple':20,'pineapple':50,'watermelon':60}\n",
    "fruits['grpae']='45'\n",
    "fruits"
   ]
  },
  {
   "cell_type": "code",
   "execution_count": 57,
   "id": "3ece02ee",
   "metadata": {},
   "outputs": [
    {
     "data": {
      "text/plain": [
       "dict_keys(['banana', 'grape', 'orange', 'apple', 'pineapple', 'watermelon'])"
      ]
     },
     "execution_count": 57,
     "metadata": {},
     "output_type": "execute_result"
    }
   ],
   "source": [
    "#show keys,values and items\n",
    "fruits={'banana':10,'grape':40,'orange':30,'apple':20,'pineapple':50,'watermelon':60}\n",
    "fruits.keys()\n",
    "\n"
   ]
  },
  {
   "cell_type": "code",
   "execution_count": 58,
   "id": "56e54eee",
   "metadata": {},
   "outputs": [
    {
     "data": {
      "text/plain": [
       "dict_values([10, 40, 30, 20, 50, 60])"
      ]
     },
     "execution_count": 58,
     "metadata": {},
     "output_type": "execute_result"
    }
   ],
   "source": [
    "fruits={'banana':10,'grape':40,'orange':30,'apple':20,'pineapple':50,'watermelon':60}\n",
    "fruits.values()"
   ]
  },
  {
   "cell_type": "code",
   "execution_count": 59,
   "id": "76810fc6",
   "metadata": {},
   "outputs": [
    {
     "data": {
      "text/plain": [
       "dict_items([('banana', 10), ('grape', 40), ('orange', 30), ('apple', 20), ('pineapple', 50), ('watermelon', 60)])"
      ]
     },
     "execution_count": 59,
     "metadata": {},
     "output_type": "execute_result"
    }
   ],
   "source": [
    "fruits={'banana':10,'grape':40,'orange':30,'apple':20,'pineapple':50,'watermelon':60}\n",
    "fruits.items()\n"
   ]
  },
  {
   "cell_type": "code",
   "execution_count": 60,
   "id": "a3da5565",
   "metadata": {},
   "outputs": [
    {
     "name": "stdout",
     "output_type": "stream",
     "text": [
      "{'first name': 'Nahid Hassan', 'last name': 'Niloy'}\n",
      "Niloy\n"
     ]
    }
   ],
   "source": [
    "#create dictionary at runtime\n",
    "my_dic={}\n",
    "my_dic[\"first name\"]= \"Nahid Hassan\"\n",
    "my_dic[\"last name\"]= \"Niloy\"\n",
    "print(my_dic)\n",
    "print(my_dic[\"last name\"])"
   ]
  },
  {
   "cell_type": "markdown",
   "id": "b50ae45a",
   "metadata": {},
   "source": [
    "# Tuples\n",
    "\n",
    "Tuples are very simmilar to list.Once an elemenet is assigned inside a touple, it can not be reassigned.For example,fruits[5]='banana' will cause syntax error.Touple is useulf when we don't want our program to change any values."
   ]
  },
  {
   "cell_type": "code",
   "execution_count": 61,
   "id": "fe95f8b1",
   "metadata": {},
   "outputs": [
    {
     "data": {
      "text/plain": [
       "tuple"
      ]
     },
     "execution_count": 61,
     "metadata": {},
     "output_type": "execute_result"
    }
   ],
   "source": [
    "fruits=('banana','grape','orange','apple','pineapple','watermelon')\n",
    "len(fruits)\n",
    "type(fruits)"
   ]
  },
  {
   "cell_type": "code",
   "execution_count": 62,
   "id": "c44da993",
   "metadata": {},
   "outputs": [
    {
     "data": {
      "text/plain": [
       "'apple'"
      ]
     },
     "execution_count": 62,
     "metadata": {},
     "output_type": "execute_result"
    }
   ],
   "source": [
    "fruits=('banana','grape','orange','apple','pineapple','watermelon')\n",
    "fruits[-3]\n"
   ]
  },
  {
   "cell_type": "code",
   "execution_count": 63,
   "id": "749f14b4",
   "metadata": {},
   "outputs": [
    {
     "data": {
      "text/plain": [
       "3"
      ]
     },
     "execution_count": 63,
     "metadata": {},
     "output_type": "execute_result"
    }
   ],
   "source": [
    "#count\n",
    "fruits=('banana','grape','orange','apple','apple','apple','pineapple','watermelon')\n",
    "fruits.count('apple')"
   ]
  },
  {
   "cell_type": "code",
   "execution_count": 64,
   "id": "b263f28f",
   "metadata": {},
   "outputs": [
    {
     "data": {
      "text/plain": [
       "3"
      ]
     },
     "execution_count": 64,
     "metadata": {},
     "output_type": "execute_result"
    }
   ],
   "source": [
    "# index\n",
    "fruits=('banana','grape','orange','apple','apple','apple','pineapple','watermelon')\n",
    "fruits.count('apple')\n",
    "#will return the index which was mentioned first time"
   ]
  },
  {
   "cell_type": "markdown",
   "id": "f5fca6d0",
   "metadata": {},
   "source": [
    "# if else"
   ]
  },
  {
   "cell_type": "code",
   "execution_count": 81,
   "id": "95f6c0d7",
   "metadata": {},
   "outputs": [
    {
     "name": "stdout",
     "output_type": "stream",
     "text": [
      "good noon\n",
      "Greetings Done\n"
     ]
    }
   ],
   "source": [
    "time=\"pm\"\n",
    "\n",
    "if time == \"am\":\n",
    "    print(\"good morning\")\n",
    "elif time ==\"pm\":\n",
    "    print(\"good noon\")\n",
    "else:                      #else indicates this is the last condition\n",
    "    print(\"good afternoon\")#careful about identation\n",
    "print(\"Greetings Done\")"
   ]
  },
  {
   "cell_type": "markdown",
   "id": "49a97544-d64a-4b5c-b162-268786368cdf",
   "metadata": {},
   "source": [
    "### nested if else"
   ]
  },
  {
   "cell_type": "code",
   "execution_count": 90,
   "id": "483cc2ce-899a-4c30-803a-57b60ba15817",
   "metadata": {},
   "outputs": [
    {
     "name": "stdout",
     "output_type": "stream",
     "text": [
      "Above 10\n",
      "Below 20\n"
     ]
    }
   ],
   "source": [
    "num = 12\n",
    "if num>=10:\n",
    "    print(\"Above 10\")\n",
    "    if num <= 20:\n",
    "        print(\"Below 20\")\n",
    "    else:\n",
    "        print(\"Above 20\")\n",
    "else:\n",
    "    print(\"invalid\")"
   ]
  },
  {
   "cell_type": "markdown",
   "id": "9b703200",
   "metadata": {},
   "source": [
    "# Boolean\n",
    "\n",
    "In python boolean values(True and False) first alphabet should be uppercase"
   ]
  },
  {
   "cell_type": "code",
   "execution_count": 82,
   "id": "93c206d3",
   "metadata": {},
   "outputs": [
    {
     "data": {
      "text/plain": [
       "False"
      ]
     },
     "execution_count": 82,
     "metadata": {},
     "output_type": "execute_result"
    }
   ],
   "source": [
    "54>58"
   ]
  },
  {
   "cell_type": "code",
   "execution_count": 83,
   "id": "ada3023c",
   "metadata": {},
   "outputs": [
    {
     "data": {
      "text/plain": [
       "bool"
      ]
     },
     "execution_count": 83,
     "metadata": {},
     "output_type": "execute_result"
    }
   ],
   "source": [
    "type(False)"
   ]
  },
  {
   "cell_type": "markdown",
   "id": "fb099963",
   "metadata": {},
   "source": [
    "# Sets\n",
    "\n",
    "Sets are unordered collections of unique elements.Meaning there can be only one representative of the same object\n",
    "\n"
   ]
  },
  {
   "cell_type": "raw",
   "id": "a32e08a9",
   "metadata": {},
   "source": [
    "fruits=set()\n",
    "fruits.add('date')\n",
    "fruits\n"
   ]
  },
  {
   "cell_type": "code",
   "execution_count": null,
   "id": "babc7fe6",
   "metadata": {},
   "outputs": [],
   "source": [
    "fruits=set()\n",
    "fruits.add('date')\n",
    "fruits.add('apple')\n",
    "fruits.add('orange')\n",
    "fruits.add('apple')\n",
    "fruits\n",
    "#no duplicate values only unique elements"
   ]
  },
  {
   "cell_type": "code",
   "execution_count": null,
   "id": "f17899f0",
   "metadata": {},
   "outputs": [],
   "source": [
    "fruits=('banana','grape','orange','apple','apple','apple','pineapple','watermelon')\n",
    "set(fruits)\n",
    "#no duplicate values only unique elements"
   ]
  },
  {
   "cell_type": "raw",
   "id": "8d313fff",
   "metadata": {},
   "source": [
    "Comparison Operators"
   ]
  },
  {
   "cell_type": "code",
   "execution_count": null,
   "id": "b1820a31",
   "metadata": {},
   "outputs": [],
   "source": [
    "2 == 1\n"
   ]
  },
  {
   "cell_type": "code",
   "execution_count": null,
   "id": "3ea0905a",
   "metadata": {},
   "outputs": [],
   "source": [
    "'Hello' == 'Hello'"
   ]
  },
  {
   "cell_type": "code",
   "execution_count": null,
   "id": "6a294394",
   "metadata": {},
   "outputs": [],
   "source": [
    "'Hello'== 'hello'\n",
    "#because of uppercase and lowercase problem"
   ]
  },
  {
   "cell_type": "code",
   "execution_count": null,
   "id": "bea66956",
   "metadata": {},
   "outputs": [],
   "source": [
    "4!=5\n"
   ]
  },
  {
   "cell_type": "code",
   "execution_count": null,
   "id": "a954522d",
   "metadata": {},
   "outputs": [],
   "source": [
    "not 5 == 5"
   ]
  },
  {
   "cell_type": "code",
   "execution_count": null,
   "id": "561e0b7b",
   "metadata": {},
   "outputs": [],
   "source": [
    "4<=9"
   ]
  },
  {
   "cell_type": "code",
   "execution_count": null,
   "id": "485fd2ec",
   "metadata": {},
   "outputs": [],
   "source": [
    "'h'=='h' and 2==2"
   ]
  },
  {
   "cell_type": "code",
   "execution_count": null,
   "id": "d30124a1",
   "metadata": {},
   "outputs": [],
   "source": [
    "'h'=='h' or 2==2"
   ]
  },
  {
   "cell_type": "code",
   "execution_count": null,
   "id": "65011954",
   "metadata": {},
   "outputs": [],
   "source": [
    "'h'=='h' and 2==4"
   ]
  },
  {
   "cell_type": "code",
   "execution_count": null,
   "id": "6a9351a9",
   "metadata": {},
   "outputs": [],
   "source": [
    "'h'=='h' or 2==4"
   ]
  },
  {
   "cell_type": "raw",
   "id": "5855d428",
   "metadata": {},
   "source": [
    "If-else-elif"
   ]
  },
  {
   "cell_type": "code",
   "execution_count": null,
   "id": "297d870a",
   "metadata": {},
   "outputs": [],
   "source": [
    "alph='C'\n",
    "if alph=='A':\n",
    " print('vowel')\n",
    "elif alph == 'B':\n",
    " print('consonent')\n",
    "else:\n",
    " print('invalid')"
   ]
  },
  {
   "cell_type": "markdown",
   "id": "c08464e6",
   "metadata": {},
   "source": [
    "# For Loop"
   ]
  },
  {
   "cell_type": "code",
   "execution_count": null,
   "id": "6d9cff15",
   "metadata": {},
   "outputs": [],
   "source": [
    "#list\n",
    "fruits=['banana','grape','orange','apple','pineapple','watermelon']\n",
    "for i in fruits:\n",
    "    print(i)"
   ]
  },
  {
   "cell_type": "code",
   "execution_count": null,
   "id": "bc066297",
   "metadata": {},
   "outputs": [],
   "source": [
    "#nested list\n",
    "fruits=[['banana',10],['grape',40],['orange',30],['apple',20]]\n",
    "for i,j in fruits:\n",
    "    print(i,\"will cost\",j,\"$\")"
   ]
  },
  {
   "cell_type": "code",
   "execution_count": null,
   "id": "83274619",
   "metadata": {},
   "outputs": [],
   "source": [
    "#dictionary\n",
    "fruits={'banana':10,'grape':40,'orange':30,'apple':20,'pineapple':50,'watermelon':60}\n",
    "for i in fruits.items():\n",
    "    print(i)"
   ]
  },
  {
   "cell_type": "code",
   "execution_count": null,
   "id": "a398bfe4",
   "metadata": {},
   "outputs": [],
   "source": [
    "#print items which are numbers and gretaer than 20\n",
    "fruits=['banana',10,'grape',40,'orange',30,'apple',20,'pineapple',50,'watermelon',60]\n",
    "for i in fruits:\n",
    "\n",
    "    if str(i).isnumeric() and i>20:\n",
    "     print(i)\n",
    "\n",
    "#str(i) is used for typecasting and isnumeric() is a function"
   ]
  },
  {
   "cell_type": "code",
   "execution_count": null,
   "id": "fa417208",
   "metadata": {},
   "outputs": [],
   "source": [
    "#print apple 10 items\n",
    "fruits=['apple\\n']\n",
    "for i in fruits:\n",
    "    print(i*10)"
   ]
  },
  {
   "cell_type": "code",
   "execution_count": null,
   "id": "716ef725",
   "metadata": {},
   "outputs": [],
   "source": [
    "#print odd numbers between (1-10) using for loop\n",
    "for i in range(1,11):\n",
    "\n",
    "    if i%2==1:\n",
    "        print(\"Odd Numbers:\",i)\n",
    "    elif i%2==0:\n",
    "        print(\"Even Numbers:\",i)"
   ]
  },
  {
   "cell_type": "code",
   "execution_count": null,
   "id": "ae9cdb4d",
   "metadata": {},
   "outputs": [],
   "source": [
    "#print the sum of numbers(1-10)\n",
    "sum=0\n",
    "for i in range(1,10):\n",
    "    sum=sum+i\n",
    "    print(sum)"
   ]
  },
  {
   "cell_type": "code",
   "execution_count": null,
   "id": "2582db0b",
   "metadata": {},
   "outputs": [],
   "source": [
    "#print the total sum of numbers(1-10)\n",
    "sum=0\n",
    "for i in range(1,10):\n",
    "    sum=sum+i\n",
    "print(sum)"
   ]
  },
  {
   "cell_type": "code",
   "execution_count": null,
   "id": "5fd29788",
   "metadata": {},
   "outputs": [],
   "source": [
    "#for loop in string\n",
    "for i in 'Hello World':\n",
    "    print(i)"
   ]
  },
  {
   "cell_type": "code",
   "execution_count": null,
   "id": "8d0862ce",
   "metadata": {},
   "outputs": [],
   "source": [
    "for _ in 'Hello World':\n",
    "    print('Hi')"
   ]
  },
  {
   "cell_type": "code",
   "execution_count": null,
   "id": "7538b784",
   "metadata": {},
   "outputs": [],
   "source": [
    "#tuples\n",
    "fruits=('banana','grape','orange','apple','pineapple','watermelon')\n",
    "for i in fruits:\n",
    "    print(i)"
   ]
  },
  {
   "cell_type": "code",
   "execution_count": null,
   "id": "39744ae1",
   "metadata": {},
   "outputs": [],
   "source": [
    "#list inside a tuples for loops\n",
    "fruits=[('banana',10),('grape',20)]\n",
    "for i,j in fruits:\n",
    "    print(i)"
   ]
  },
  {
   "cell_type": "code",
   "execution_count": null,
   "id": "b82ad965",
   "metadata": {},
   "outputs": [],
   "source": [
    "#list inside a tuples for loops\n",
    "fruits=[('banana',10),('grape',20)]\n",
    "for i,j in fruits:\n",
    "    print(j)"
   ]
  },
  {
   "cell_type": "code",
   "execution_count": null,
   "id": "3ff2652d",
   "metadata": {},
   "outputs": [],
   "source": [
    "#dictionary in for loops\n",
    "fruits={'banana':10,'grape':40,'orange':30,'apple':20,'pineapple':50,'watermelon':60}\n",
    "for key,value in fruits.items():\n",
    "    print(value)\n"
   ]
  },
  {
   "cell_type": "code",
   "execution_count": null,
   "id": "e4cdae25",
   "metadata": {},
   "outputs": [],
   "source": [
    "#dictionary in for loops\n",
    "fruits={'banana':10,'grape':40,'orange':30,'apple':20,'pineapple':50,'watermelon':60}\n",
    "for key,value in fruits.items():\n",
    "    print(key)\n"
   ]
  },
  {
   "cell_type": "code",
   "execution_count": null,
   "id": "53d0ca30",
   "metadata": {},
   "outputs": [],
   "source": [
    "#sum of First 10 Natural Numbers\n",
    "sum=0\n",
    "for i in range(1,10):\n",
    "    sum=sum+i\n",
    "print(sum)"
   ]
  },
  {
   "cell_type": "code",
   "execution_count": null,
   "id": "546fcc9f",
   "metadata": {},
   "outputs": [],
   "source": [
    "#square of First 5 Natural Numbers\n",
    "#sum=0\n",
    "for i in range(1,5):\n",
    "    #sum=sum+i\n",
    "    print(i*i)"
   ]
  },
  {
   "cell_type": "code",
   "execution_count": null,
   "id": "fbd49118",
   "metadata": {},
   "outputs": [],
   "source": [
    "#take numbers as list\n",
    "\n",
    "# creating an empty list\n",
    "lst = []\n",
    "\n",
    "# number of elements as input\n",
    "n = int(input(\"Enter number of elements : \"))\n",
    "\n",
    "# iterating till the range\n",
    "for i in range(0, n):\n",
    "    ele = int(input())\n",
    "\n",
    "    lst.append(ele) # adding the element\n",
    "\n",
    "print(lst)\n"
   ]
  },
  {
   "cell_type": "code",
   "execution_count": null,
   "id": "04619ee2",
   "metadata": {},
   "outputs": [],
   "source": [
    "#range and for loop\n",
    "for i in range(1,10,2):\n",
    "    print(i)\n",
    "print(\"*********\")\n",
    "    \n",
    "for j in range (10): \n",
    "    print(j)\n",
    "#loop will consider 10 as the maximum limit    "
   ]
  },
  {
   "cell_type": "markdown",
   "id": "ae63ec60",
   "metadata": {},
   "source": [
    "# While Loop"
   ]
  },
  {
   "cell_type": "code",
   "execution_count": null,
   "id": "26807ee9",
   "metadata": {},
   "outputs": [],
   "source": [
    "i=0\n",
    "while i<11:\n",
    "    print(i)\n",
    "    i=i+1\n",
    "    "
   ]
  },
  {
   "cell_type": "code",
   "execution_count": null,
   "id": "3410e32f",
   "metadata": {},
   "outputs": [],
   "source": [
    "#even and odd numbers using while loop\n",
    "i=1\n",
    "\n",
    "while(i<=10):\n",
    "    if(i%2==0):\n",
    "        print(\"Even\",i)\n",
    "\n",
    "    else:\n",
    "        print(\"Odd\",i)\n",
    "\n",
    "    i=i+1\n",
    "    "
   ]
  },
  {
   "cell_type": "code",
   "execution_count": null,
   "id": "4b1ee857",
   "metadata": {},
   "outputs": [],
   "source": [
    "#understanding break and continue with the help of while loop\n",
    "i = 10\n",
    "while i > 1:\n",
    "    if i == 9:\n",
    "        i=i-1\n",
    "        continue\n",
    "    if i == 4:\n",
    "        break\n",
    "    print(i)\n",
    "    i=i-1\n",
    "\n",
    "#continue will skip the number 9 and get out of the loop\n",
    "#break will come out of the loop and also will abort further execution \n",
    "\n",
    "    "
   ]
  },
  {
   "cell_type": "markdown",
   "id": "37b8aaf8",
   "metadata": {},
   "source": [
    "# Pass\n",
    "Do  nothing at all"
   ]
  },
  {
   "cell_type": "code",
   "execution_count": null,
   "id": "2d5c17ad",
   "metadata": {},
   "outputs": [],
   "source": [
    "x=[1,2,3]\n",
    "for item in x:\n",
    "    #we want our program to stop here and do not execute inside this for loop\n",
    "    pass\n",
    "print(\"end of script\")\n",
    "    "
   ]
  },
  {
   "cell_type": "markdown",
   "id": "9abed16b",
   "metadata": {},
   "source": [
    "# Continue\n",
    "Goes to the top of closest enclosing loop"
   ]
  },
  {
   "cell_type": "code",
   "execution_count": null,
   "id": "f8eedee4",
   "metadata": {},
   "outputs": [],
   "source": [
    "for i in 'banana':\n",
    "    if i =='a':\n",
    "        continue\n",
    "    print(i)"
   ]
  },
  {
   "cell_type": "markdown",
   "id": "aaead90b",
   "metadata": {},
   "source": [
    "# Break\n",
    "Breaks out of the current closest enclosing loop"
   ]
  },
  {
   "cell_type": "code",
   "execution_count": null,
   "id": "ae6e9fd0",
   "metadata": {},
   "outputs": [],
   "source": [
    "for i in 'banana':\n",
    "    if i =='n':\n",
    "        break\n",
    "    print(i)"
   ]
  },
  {
   "cell_type": "code",
   "execution_count": null,
   "id": "825ca262",
   "metadata": {},
   "outputs": [],
   "source": [
    "for i in range(1,11):\n",
    "    if i==5:\n",
    "        break\n",
    "    print(i)"
   ]
  },
  {
   "cell_type": "code",
   "execution_count": null,
   "id": "1cb36e62",
   "metadata": {},
   "outputs": [],
   "source": [
    "i=0\n",
    "\n",
    "while i<11:\n",
    "    if i==5:\n",
    "        break\n",
    "    print(i)\n",
    "    i+=1"
   ]
  },
  {
   "cell_type": "markdown",
   "id": "c3fcdddb",
   "metadata": {},
   "source": [
    "# Range"
   ]
  },
  {
   "cell_type": "code",
   "execution_count": null,
   "id": "f8d7d4d1",
   "metadata": {},
   "outputs": [],
   "source": [
    "#print (0-50) with 5 distacnce\n",
    "for i in range(0,51,5):\n",
    "    print(i)\n",
    "    "
   ]
  },
  {
   "cell_type": "markdown",
   "id": "f36ff4eb",
   "metadata": {},
   "source": [
    "# Generator\n",
    "generator is a special type of function that will generate information instead of saving it all to memory"
   ]
  },
  {
   "cell_type": "code",
   "execution_count": null,
   "id": "d07b1c9b",
   "metadata": {},
   "outputs": [],
   "source": [
    "list(range(0,11,2))"
   ]
  },
  {
   "cell_type": "markdown",
   "id": "7e7cd5a2",
   "metadata": {},
   "source": [
    "# enumerate()\n",
    "\n",
    "Often, when dealing with iterators, we also get a need to keep a count of iterations. Python eases the programmers’ task by providing a built-in function enumerate() for this task. \n",
    "Enumerate() method adds a counter to an iterable and returns it in a form of enumerating object. This enumerated object can then be used directly for loops or converted into a list of tuples using the list() method.\n",
    "enumerate(iterable, start=0)\n",
    "\n",
    "Parameters:\n",
    "Iterable: any object that supports iteration\n",
    "Start: the index value from which the counter is to be started, by default it is 0"
   ]
  },
  {
   "cell_type": "code",
   "execution_count": null,
   "id": "30b753ac",
   "metadata": {},
   "outputs": [],
   "source": [
    "fruits='pineapple'\n",
    "for i in enumerate(fruits):\n",
    "    print(i)"
   ]
  },
  {
   "cell_type": "code",
   "execution_count": null,
   "id": "8ee4965c",
   "metadata": {},
   "outputs": [],
   "source": [
    "fruits='pineapple'\n",
    "#tuple unpacking(item,value)\n",
    "for i,j in enumerate(fruits):\n",
    "    print(i)\n",
    "    print(j)\n",
    "\n",
    "    print(\"\\t\")"
   ]
  },
  {
   "cell_type": "markdown",
   "id": "61e0ad8b",
   "metadata": {},
   "source": [
    "# zip()\n",
    "The zip() function takes iterables (can be zero or more), aggregates them in a tuple, and returns it.Will go as far as the shortest list if the lists are not conatining same number of elements"
   ]
  },
  {
   "cell_type": "code",
   "execution_count": null,
   "id": "3f0e73da",
   "metadata": {},
   "outputs": [],
   "source": [
    "fruits=['banana','grape','orange','apple','pineapple','watermelon']\n",
    "price=['10','20','30','40','50','60']\n",
    "\n",
    "for i in zip(fruits,price):\n",
    "    print(i)"
   ]
  },
  {
   "cell_type": "code",
   "execution_count": null,
   "id": "6bbbd8ef",
   "metadata": {},
   "outputs": [],
   "source": [
    "fruits=['banana','grape','orange','apple','pineapple','watermelon']\n",
    "price=['10','20','30','40','50','60']\n",
    "name='niloy'\n",
    "\n",
    "for i in zip(fruits,price,name):\n",
    "    print(i)"
   ]
  },
  {
   "cell_type": "code",
   "execution_count": null,
   "id": "e7fc2f6e",
   "metadata": {},
   "outputs": [],
   "source": [
    "fruits=['banana','grape','orange','apple','pineapple','watermelon']\n",
    "price=['10','20','30','40','50','60']\n",
    "name='niloy'\n",
    "\n",
    "for i,j,k in zip(fruits,price,name):\n",
    "    print(k)"
   ]
  },
  {
   "cell_type": "code",
   "execution_count": null,
   "id": "fa67fd91",
   "metadata": {},
   "outputs": [],
   "source": [
    "list(zip(fruits,name))"
   ]
  },
  {
   "cell_type": "markdown",
   "id": "92702384",
   "metadata": {},
   "source": [
    "# in\n",
    "usefel to check is item is present in a list,tuple,dictionary "
   ]
  },
  {
   "cell_type": "code",
   "execution_count": null,
   "id": "840b77c0",
   "metadata": {},
   "outputs": [],
   "source": [
    "fruits=['banana','grape','orange','apple','pineapple','watermelon']\n",
    "'grace' in fruits"
   ]
  },
  {
   "cell_type": "code",
   "execution_count": null,
   "id": "3986b8e3",
   "metadata": {},
   "outputs": [],
   "source": [
    "fruits=['banana','grape','orange','apple','pineapple','watermelon']\n",
    "'grape' in fruits"
   ]
  },
  {
   "cell_type": "code",
   "execution_count": null,
   "id": "db336f4f",
   "metadata": {},
   "outputs": [],
   "source": [
    "fruits={'banana':10,'grape':40,'orange':30,'apple':20,'pineapple':50,'watermelon':60}\n",
    "'grape' in fruits"
   ]
  },
  {
   "cell_type": "code",
   "execution_count": null,
   "id": "6e617d6a",
   "metadata": {},
   "outputs": [],
   "source": [
    "fruits={'banana':10,'grape':40,'orange':30,'apple':20,'pineapple':50,'watermelon':60}\n",
    "'30' in fruits"
   ]
  },
  {
   "cell_type": "code",
   "execution_count": null,
   "id": "ba5f9d49",
   "metadata": {},
   "outputs": [],
   "source": [
    "fruits={'banana':10,'grape':40,'orange':30,'apple':20,'pineapple':50,'watermelon':60}\n",
    "30 in fruits.values()"
   ]
  },
  {
   "cell_type": "markdown",
   "id": "d2cd9085",
   "metadata": {},
   "source": [
    "# min,max"
   ]
  },
  {
   "cell_type": "code",
   "execution_count": null,
   "id": "06b38229",
   "metadata": {},
   "outputs": [],
   "source": [
    "price=['10','20','30','40','50','60']\n",
    "min(price)"
   ]
  },
  {
   "cell_type": "code",
   "execution_count": null,
   "id": "d668cb8c",
   "metadata": {},
   "outputs": [],
   "source": [
    "price=['10','20','30','40','50','60']\n",
    "max(price)"
   ]
  },
  {
   "cell_type": "markdown",
   "id": "7743de6b",
   "metadata": {},
   "source": [
    "# shuffle()\n",
    "randomly shffle items from a list"
   ]
  },
  {
   "cell_type": "code",
   "execution_count": null,
   "id": "30faf62f",
   "metadata": {},
   "outputs": [],
   "source": [
    "from random import shuffle\n",
    "price=['10','20','30','40','50','60']\n",
    "shuffle(price)\n",
    "print(price)"
   ]
  },
  {
   "cell_type": "markdown",
   "id": "61d6b313",
   "metadata": {},
   "source": [
    "# randint()\n",
    "gives  us a random int"
   ]
  },
  {
   "cell_type": "code",
   "execution_count": null,
   "id": "74689e26",
   "metadata": {},
   "outputs": [],
   "source": [
    "from random import randint\n",
    "randint(0,100)\n",
    "\n"
   ]
  },
  {
   "cell_type": "markdown",
   "id": "7172b022",
   "metadata": {},
   "source": [
    "# Take user input\n",
    "Input accepts anything has passed into it as string"
   ]
  },
  {
   "cell_type": "code",
   "execution_count": null,
   "id": "173e667e",
   "metadata": {},
   "outputs": [],
   "source": [
    "input(\"Enter a number \")"
   ]
  },
  {
   "cell_type": "code",
   "execution_count": null,
   "id": "74029fbd",
   "metadata": {},
   "outputs": [],
   "source": [
    "result=input(\"What is your name \")\n",
    "print(\"Name :\",result)"
   ]
  },
  {
   "cell_type": "code",
   "execution_count": null,
   "id": "3f8c7b05",
   "metadata": {},
   "outputs": [],
   "source": [
    "result=input(\"What is your cgpa \")\n",
    "print(\"CGPA :\",result)"
   ]
  },
  {
   "cell_type": "markdown",
   "id": "88a2fc2c",
   "metadata": {},
   "source": [
    "# help()\n",
    "documentation of object"
   ]
  },
  {
   "cell_type": "code",
   "execution_count": null,
   "id": "48ad2ec7",
   "metadata": {},
   "outputs": [],
   "source": [
    "price=['10','20','30','40','50','60']\n",
    "help(price.insert)"
   ]
  },
  {
   "cell_type": "markdown",
   "id": "3172e609",
   "metadata": {},
   "source": [
    "# Function"
   ]
  },
  {
   "cell_type": "raw",
   "id": "387a7771",
   "metadata": {},
   "source": [
    "snakecasing all lowercase with underscores between words\n",
    "example : name_of_function()\n",
    "()this is called paranthesis later we will pass arguments/parameters using this\n"
   ]
  },
  {
   "cell_type": "code",
   "execution_count": null,
   "id": "b6c3c420",
   "metadata": {},
   "outputs": [],
   "source": [
    "def fruits():\n",
    "    print('apple')\n",
    "    print('orange')\n",
    "    print('banana')"
   ]
  },
  {
   "cell_type": "code",
   "execution_count": null,
   "id": "06d8b9ea",
   "metadata": {},
   "outputs": [],
   "source": [
    "fruits()"
   ]
  },
  {
   "cell_type": "code",
   "execution_count": null,
   "id": "36cc7b0d",
   "metadata": {},
   "outputs": [],
   "source": [
    "def fruits(name):\n",
    "    print(f'My favourite fruit is {name}')\n",
    "    "
   ]
  },
  {
   "cell_type": "code",
   "execution_count": null,
   "id": "300f0327",
   "metadata": {},
   "outputs": [],
   "source": [
    "    fruits('banana')"
   ]
  },
  {
   "cell_type": "code",
   "execution_count": null,
   "id": "8a759221",
   "metadata": {},
   "outputs": [],
   "source": [
    "def sum(num1,num2):\n",
    "    return num1+num2\n",
    "#return instead of just printing out function allows us to say them as variable"
   ]
  },
  {
   "cell_type": "code",
   "execution_count": null,
   "id": "7a4f77fc",
   "metadata": {},
   "outputs": [],
   "source": [
    "sum(10,20)"
   ]
  },
  {
   "cell_type": "code",
   "execution_count": null,
   "id": "e91be393",
   "metadata": {},
   "outputs": [],
   "source": [
    "def even_check(number):\n",
    "    result= number%2==0\n",
    "    return result"
   ]
  },
  {
   "cell_type": "code",
   "execution_count": null,
   "id": "3e869346",
   "metadata": {},
   "outputs": [],
   "source": [
    "even_check(20)"
   ]
  },
  {
   "cell_type": "code",
   "execution_count": null,
   "id": "3d1925cb",
   "metadata": {},
   "outputs": [],
   "source": [
    "even_check(21)"
   ]
  },
  {
   "cell_type": "code",
   "execution_count": null,
   "id": "48f3f000",
   "metadata": {},
   "outputs": [],
   "source": [
    "def even_check(number):\n",
    "    return number%2==0"
   ]
  },
  {
   "cell_type": "code",
   "execution_count": null,
   "id": "b170cc67",
   "metadata": {},
   "outputs": [],
   "source": [
    "even_check(11)"
   ]
  },
  {
   "cell_type": "code",
   "execution_count": null,
   "id": "f6b1cc77",
   "metadata": {},
   "outputs": [],
   "source": [
    "#return even or odd\n",
    "num=int(input(\"Enter a number: \"))\n",
    "\n",
    "def check_even_odd(num):\n",
    "        if num%2==0:\n",
    "            print(f'{num} is an even number')\n",
    "        else:\n",
    "            print(f'{num} is an odd number')\n",
    "            \n",
    "check_even_odd(num)"
   ]
  },
  {
   "cell_type": "code",
   "execution_count": null,
   "id": "7b644eda",
   "metadata": {},
   "outputs": [],
   "source": [
    "#return vowel or consonent\n",
    "alp=(input(\"Enter an alphabet in small letter: \"))\n",
    "\n",
    "def check_vowel(alp):\n",
    "        if alp=='a'or alp=='e'or alp=='i'or alp=='o'or alp=='u':\n",
    "            print(f'Alphabet {alp} is a vowel')\n",
    "        else:\n",
    "            print(f'Alphabet {alp} is a consonant')\n",
    "            \n",
    "check_vowel(alp)"
   ]
  },
  {
   "cell_type": "code",
   "execution_count": null,
   "id": "446fbb1e",
   "metadata": {},
   "outputs": [],
   "source": [
    "#print out the most expensive fruit using function and tuple unpacking\n",
    "fruits=[('banana',10),('grape',20),('orange',30),('apple',40),('pineapple',50)]\n",
    "fruits"
   ]
  },
  {
   "cell_type": "code",
   "execution_count": null,
   "id": "99d37d4d",
   "metadata": {},
   "outputs": [],
   "source": [
    "def most_expensive_fruits(fruits):\n",
    "    fruit_price=0\n",
    "    fruit_name=''\n",
    "    for i,j in fruits:\n",
    "        if j>fruit_price:\n",
    "            fruit_price=j\n",
    "            fruit_name=i\n",
    "        else:\n",
    "            pass\n",
    "    return(fruit_name,fruit_price)"
   ]
  },
  {
   "cell_type": "code",
   "execution_count": null,
   "id": "b84c4e62",
   "metadata": {},
   "outputs": [],
   "source": [
    "most_expensive_fruits(fruits)"
   ]
  },
  {
   "cell_type": "code",
   "execution_count": null,
   "id": "56feade9",
   "metadata": {},
   "outputs": [],
   "source": [
    "#TOSS\n",
    "from random import randint\n",
    "\n",
    "result=randint(1,2)\n",
    "result\n",
    "team1=input(\"Enter the name of home team:  \")\n",
    "team2=input(\"Enter the name of away team:  \")\n",
    "pick=input(\"Choose between head and tail: \")\n",
    "if result==1 and pick=='head'or pick=='tail':\n",
    "    print(f'{team1} won the toss')\n",
    "else:\n",
    "    print(f'{team2} won the toss')"
   ]
  },
  {
   "cell_type": "code",
   "execution_count": null,
   "id": "e89c3682",
   "metadata": {},
   "outputs": [],
   "source": [
    "#Guess who got the card\n",
    "#shuffle cards \n",
    "cards=['heart','dice','spades','clubs']\n",
    "from random import shuffle\n",
    "#shuffle does not work without a function\n",
    "def shuffle_cards(cards):\n",
    "    shuffle(cards)\n",
    "    return cards"
   ]
  },
  {
   "cell_type": "code",
   "execution_count": null,
   "id": "043477f2",
   "metadata": {},
   "outputs": [],
   "source": [
    "#guess which player has the card\n",
    "cards=['heart','dice','spades','clubs']\n",
    "pcards=input(\"pick a card: \")\n",
    "if pcards==\"heart\"or pcards==\"spades\" or pcards==\"clubs\" or pcards==\"dice\":\n",
    "    print(f'picked {pcards} successfully')\n",
    "else:\n",
    "    print(\"invalid\")\n",
    "        "
   ]
  },
  {
   "cell_type": "code",
   "execution_count": null,
   "id": "cc0a2682",
   "metadata": {},
   "outputs": [],
   "source": []
  },
  {
   "cell_type": "code",
   "execution_count": null,
   "id": "356f8686",
   "metadata": {},
   "outputs": [],
   "source": []
  },
  {
   "cell_type": "code",
   "execution_count": null,
   "id": "ce461fa6",
   "metadata": {},
   "outputs": [],
   "source": [
    "#guess player number\n",
    "num=['1','2','3','4']\n",
    "num=input(\"Chose Player Number: \")\n",
    "if num=='1'or num=='2'or num=='3'or num=='4':\n",
    "    print(f'Lets check if player {num} has the {pcards} or not')\n",
    "else:\n",
    "    print(\"invalid\")\n",
    "    "
   ]
  },
  {
   "cell_type": "code",
   "execution_count": null,
   "id": "552bf8bb",
   "metadata": {},
   "outputs": [],
   "source": [
    "shuffle_result=shuffle_cards(cards)\n",
    "shuffle_result"
   ]
  },
  {
   "cell_type": "code",
   "execution_count": null,
   "id": "bb0d4a23",
   "metadata": {},
   "outputs": [],
   "source": [
    "\n",
    "print(\"player 1 got\",shuffle_result[0])"
   ]
  },
  {
   "cell_type": "code",
   "execution_count": null,
   "id": "9d5b7ece",
   "metadata": {},
   "outputs": [],
   "source": [
    "print(\"player 2 got\",shuffle_result[1])"
   ]
  },
  {
   "cell_type": "code",
   "execution_count": null,
   "id": "5b28f44e",
   "metadata": {},
   "outputs": [],
   "source": [
    "print(\"player 3 got\",shuffle_result[2])"
   ]
  },
  {
   "cell_type": "code",
   "execution_count": null,
   "id": "512a1bd5",
   "metadata": {},
   "outputs": [],
   "source": [
    "print(\"player 4 got\",shuffle_result[3])"
   ]
  },
  {
   "cell_type": "code",
   "execution_count": null,
   "id": "16127679",
   "metadata": {},
   "outputs": [],
   "source": [
    "show_result=shuffle_result.index('spades')\n",
    "show_result=show_result+1\n",
    "show_result\n",
    "print(f' Player {show_result} got the card')\n"
   ]
  },
  {
   "cell_type": "code",
   "execution_count": null,
   "id": "527ffa6e",
   "metadata": {},
   "outputs": [],
   "source": [
    "guessed_player=int(num)\n",
    "guessed_player\n",
    "print(f'Guessed player number was {guessed_player}')"
   ]
  },
  {
   "cell_type": "code",
   "execution_count": null,
   "id": "7247b0cb",
   "metadata": {},
   "outputs": [],
   "source": [
    "if show_result==guessed_player:\n",
    "    print(f'Correct Guess, Player {num} has {pcards}')\n",
    "    \n",
    "else:\n",
    "    print(\"Wrong Guess\")\n",
    "    "
   ]
  },
  {
   "cell_type": "code",
   "execution_count": null,
   "id": "cfdabc4b",
   "metadata": {},
   "outputs": [],
   "source": [
    "def Greet(name):\n",
    "    print(\"Good Morning, \"+name)\n",
    "Greet(\"Nahid\")\n",
    "Greet(\"Hassan\")\n",
    "Greet(\"Niloy\")"
   ]
  },
  {
   "cell_type": "markdown",
   "id": "ade4ab88",
   "metadata": {},
   "source": [
    "# Function Argument"
   ]
  },
  {
   "cell_type": "code",
   "execution_count": null,
   "id": "39a2a635",
   "metadata": {},
   "outputs": [],
   "source": [
    "#5% of sum for two numbers\n",
    "def add_sum(a,b):\n",
    "    return sum((a,b))*0.05\n"
   ]
  },
  {
   "cell_type": "code",
   "execution_count": null,
   "id": "8085d9f2",
   "metadata": {},
   "outputs": [],
   "source": [
    "add_sum(10,20)"
   ]
  },
  {
   "cell_type": "code",
   "execution_count": null,
   "id": "65f0b62e",
   "metadata": {},
   "outputs": [],
   "source": [
    "#5% of sum for more than two numbers\n",
    "#it is limited to five numbers\n",
    "def add_sum(a,b,c=0):\n",
    "    return sum((a,b,c))*0.05\n"
   ]
  },
  {
   "cell_type": "code",
   "execution_count": null,
   "id": "92748b74",
   "metadata": {},
   "outputs": [],
   "source": [
    "add_sum(10,20,30)"
   ]
  },
  {
   "cell_type": "code",
   "execution_count": null,
   "id": "1785f57b",
   "metadata": {},
   "outputs": [],
   "source": [
    "# *args allows us to work with infinte numbers\n",
    "#it works as same as the tuples\n",
    "def add_sum(*args):\n",
    "    print(args)\n",
    "    return sum(args)*0.05"
   ]
  },
  {
   "cell_type": "code",
   "execution_count": null,
   "id": "68d29d2c",
   "metadata": {},
   "outputs": [],
   "source": [
    "add_sum(10,20,30,40,50,60,70)"
   ]
  },
  {
   "cell_type": "code",
   "execution_count": null,
   "id": "dbbcf7c0",
   "metadata": {},
   "outputs": [],
   "source": [
    "# **kwargs is almost as same as *args but instead of tuple it returns a dictionary\n",
    "def myfunc(**kwargs):\n",
    "    print(kwargs)\n",
    "    if 'fruit' in kwargs:\n",
    "        print('My favourite fruit and vegetable is {} '.format(kwargs['fruit']))\n",
    "    else:\n",
    "        pass\n"
   ]
  },
  {
   "cell_type": "code",
   "execution_count": null,
   "id": "18b5d991",
   "metadata": {},
   "outputs": [],
   "source": [
    "myfunc(fruit='apple')"
   ]
  },
  {
   "cell_type": "code",
   "execution_count": null,
   "id": "b7f4235f",
   "metadata": {},
   "outputs": [],
   "source": [
    "#using args and kwrags at the same time\n",
    "def myfunc(*args,**kwargs):\n",
    "    print(args)\n",
    "    print(kwargs)\n",
    "    print('Jersey number {} of Manchester United is owned by {} '.format(args[0],kwargs['name']))"
   ]
  },
  {
   "cell_type": "code",
   "execution_count": null,
   "id": "de4d2268",
   "metadata": {},
   "outputs": [],
   "source": [
    "myfunc(7,name='Cristiano Ronaldo')"
   ]
  },
  {
   "cell_type": "markdown",
   "id": "54b6a35d",
   "metadata": {},
   "source": [
    "# map()\n",
    "The map() function executes a specified function for each item in an iterable. The item is sent to the function as a parameter.\n",
    "Syntax :\n",
    "\n",
    "map(fun, iter)\n",
    "Parameters :\n",
    "\n",
    "fun : It is a function to which map passes each element of given iterable.\n",
    "iter : It is a iterable which is to be mapped.\n",
    "\n",
    "NOTE : You can pass one or more iterable to the map() function.\n",
    "\n",
    "Returns :\n",
    "\n",
    "Returns a list of the results after applying the given function  \n",
    "to each item of a given iterable (list, tuple etc.) \n",
    " \n",
    "NOTE : The returned value from map() (map object) then can be passed to functions like list() (to create a list), set() (to create a set) .\n",
    " "
   ]
  },
  {
   "cell_type": "code",
   "execution_count": null,
   "id": "816a7c18",
   "metadata": {},
   "outputs": [],
   "source": [
    "#Squares of number using map\n",
    "\n",
    "def square(num):\n",
    "    return num**2\n"
   ]
  },
  {
   "cell_type": "code",
   "execution_count": null,
   "id": "112a09ed",
   "metadata": {},
   "outputs": [],
   "source": [
    "numlist=[12,14,5,32,4,16]\n"
   ]
  },
  {
   "cell_type": "code",
   "execution_count": null,
   "id": "d2d3d49f",
   "metadata": {},
   "outputs": [],
   "source": [
    "for i in map(square,numlist):\n",
    "    print(i)"
   ]
  },
  {
   "cell_type": "code",
   "execution_count": null,
   "id": "9e7a0797",
   "metadata": {},
   "outputs": [],
   "source": [
    "#print vowelnames using map()\n",
    "\n",
    "def vowelname(name):\n",
    "    if name[0]=='A'or name[0]=='E' or name[0]=='I' or name[0]=='O'or name[0]=='U':\n",
    "        return name\n",
    "    else:\n",
    "        return name[0]"
   ]
  },
  {
   "cell_type": "code",
   "execution_count": null,
   "id": "a582c194",
   "metadata": {},
   "outputs": [],
   "source": [
    "namelist=['Arif','Jobayer','Raju','Orthy','Iqbal']"
   ]
  },
  {
   "cell_type": "code",
   "execution_count": null,
   "id": "fea44de1",
   "metadata": {},
   "outputs": [],
   "source": [
    "list(map(vowelname,namelist))"
   ]
  },
  {
   "cell_type": "markdown",
   "id": "2765aa3f",
   "metadata": {},
   "source": [
    "# filter()\n",
    "\n",
    "The filter() method filters the given sequence with the help of a function that tests each element in the sequence to be true or not.\n",
    "\n",
    "syntax:\n",
    "filter(function, sequence)\n",
    "\n",
    "Parameters:\n",
    "function: function that tests if each element of a \n",
    "sequence true or not.\n",
    "\n",
    "sequence: sequence which needs to be filtered, it can \n",
    "be sets, lists, tuples, or containers of any iterators.\n",
    "\n",
    "Returns:\n",
    "returns an iterator that is already filtered"
   ]
  },
  {
   "cell_type": "code",
   "execution_count": null,
   "id": "66b70ff0",
   "metadata": {},
   "outputs": [],
   "source": [
    "def fun(variable):\n",
    "    letters = ['a', 'e', 'i', 'o', 'u']\n",
    "    if (variable not in letters):\n",
    "        return True\n",
    "    else:\n",
    "        return False\n",
    "  \n",
    "  \n",
    "# sequence\n",
    "sequence = ['g', 'e', 'e', 'j', 'k', 's', 'p', 'r']\n",
    "  \n",
    "# using filter function\n",
    "filtered =list(filter(fun, sequence))\n",
    "filtered"
   ]
  },
  {
   "cell_type": "markdown",
   "id": "781b6bd7",
   "metadata": {},
   "source": [
    "# lamda()\n",
    "Lambda functions can have any number of arguments but only one expression. The expression is evaluated and returned. Lambda functions can be used wherever function objects are required.\n",
    "\n"
   ]
  },
  {
   "cell_type": "code",
   "execution_count": null,
   "id": "4aa86bc2",
   "metadata": {},
   "outputs": [],
   "source": [
    "item=[(\"Apple\",10),(\"Banana\",22),(\"Orange\",15),(\"Pineapple\",7)]\n",
    "\n",
    "list(filter(lambda item: item[1] <= 20,item))\n"
   ]
  },
  {
   "cell_type": "markdown",
   "id": "3bd1ef3c",
   "metadata": {},
   "source": [
    "# class\n",
    "\n",
    "for classes we use CamelCasing\n",
    "\n",
    "_init_ method is called whenever we are creating instance of a class\n",
    "\n",
    "\n",
    "self connencts _init_ with the instance of a class"
   ]
  },
  {
   "cell_type": "code",
   "execution_count": null,
   "id": "794abd12",
   "metadata": {},
   "outputs": [],
   "source": [
    "class Dog:\n",
    "    def _init_(self,breed):\n",
    "        self.breed = breed"
   ]
  },
  {
   "cell_type": "code",
   "execution_count": null,
   "id": "29f20d53",
   "metadata": {},
   "outputs": [],
   "source": [
    "dog1=Dog()\n",
    "dog2=Dog()\n",
    "dog1.breed='lad'\n",
    "dog2.breed='huskie'\n",
    "print(dog1.breed)\n",
    "print(dog2.breed)"
   ]
  },
  {
   "cell_type": "code",
   "execution_count": null,
   "id": "9b0b6627",
   "metadata": {},
   "outputs": [],
   "source": [
    "class Fruit:\n",
    "    def __init__(self,name,season,price):\n",
    "        self.name = name\n",
    "        self.season=season\n",
    "        self.price=price"
   ]
  },
  {
   "cell_type": "code",
   "execution_count": null,
   "id": "5b4e1a14",
   "metadata": {},
   "outputs": [],
   "source": [
    "fruit1=Fruit()\n",
    "fruit1.name='Banana'\n",
    "fruit1.season='Winter'\n",
    "fruit1.price='10'\n",
    "print(\"Name: \"+fruit1.name)\n",
    "print(\"Season: \"+fruit1.season)\n",
    "print(\"Price: \"+fruit1.price)\n"
   ]
  },
  {
   "cell_type": "code",
   "execution_count": null,
   "id": "8432a033",
   "metadata": {},
   "outputs": [],
   "source": [
    "#get\n",
    "class Person:\n",
    "    def __init__(self,person_name):\n",
    "        self.name = person_name\n",
    "\n",
    "    def get_name(self):\n",
    "        return self.name\n",
    "person1=Person(\"Niloy\")\n",
    "person2=Person(\"Antu\")\n",
    "print(person1.get_name())\n",
    "print(person2.get_name())\n"
   ]
  },
  {
   "cell_type": "code",
   "execution_count": null,
   "id": "32bb6369",
   "metadata": {},
   "outputs": [],
   "source": [
    "#print person details\n",
    "class Person:\n",
    "    def __init__(self,name,age,dob):\n",
    "        self.name=name\n",
    "        self.age=age\n",
    "        self.dob=dob\n",
    "        \n",
    "    def get_personDetails(self):\n",
    "        return f\" Name:{self.name}\\n Age:{self.age}\\n Date of Birth:{self.dob}\"\n",
    "    \n",
    "person1=Person(\"Niloy\",\"26\",\"20-9-1996\")\n",
    "print(person1.get_personDetails())\n"
   ]
  },
  {
   "cell_type": "code",
   "execution_count": null,
   "id": "ddf5f903",
   "metadata": {},
   "outputs": [],
   "source": [
    "#print person details changing full name\n",
    "class Person:\n",
    "    def __init__(self,name,age,dob):\n",
    "        self.name=name\n",
    "        self.age=age\n",
    "        self.dob=dob\n",
    "        \n",
    "    def get_name(self):\n",
    "        return self.name\n",
    "    \n",
    "    def set_name(self,fullName):\n",
    "        self.name=fullName\n",
    "        \n",
    "    def get_personDetails(self):\n",
    "        return f\" Name:{self.name}\\n Age:{self.age}\\n Date of Birth:{self.dob}\"\n",
    "    \n",
    "#person1=Person(\"Niloy\",\"26\",\"20-9-1996\")\n",
    "#print(person1.get_personDetails())\n",
    "\n",
    "person1.set_name(\"Nahid Hassan Niloy\")\n",
    "print(person1.get_personDetails())"
   ]
  },
  {
   "cell_type": "code",
   "execution_count": null,
   "id": "88fce239",
   "metadata": {},
   "outputs": [],
   "source": [
    "#class object attribute : is same for all instance\n",
    "#user defined attibute: (self,name,age,dob)\n",
    "#print person details\n",
    "class Person:\n",
    "    university= 'AIUB'\n",
    "    def __init__(self,name,age,dob):\n",
    "        self.name=name\n",
    "        self.age=age\n",
    "        self.dob=dob\n",
    "        \n",
    "    def get_personDetails(self):\n",
    "        return f\" Name:{self.name}\\n Age:{self.age}\\n Date of Birth:{self.dob}\"\n",
    "    \n",
    "person1=Person(\"Niloy\",\"26\",\"20-9-1996\")\n",
    "print(person1.get_personDetails())\n",
    "person1.university\n"
   ]
  },
  {
   "cell_type": "code",
   "execution_count": null,
   "id": "aee01b0f",
   "metadata": {},
   "outputs": [],
   "source": [
    "#bark the dog setting an action to a new method\n",
    "class Dog:\n",
    "    def __init__(self,breed):\n",
    "        self.breed = breed\n",
    "    def bark(self):\n",
    "        print(\"WOOFWWOOOOFWOOOOFWOOOOOF\")\n",
    "    \n",
    "dog1=Dog(breed='lad')\n",
    "print(dog1.breed)\n",
    "dog1.bark()"
   ]
  },
  {
   "cell_type": "code",
   "execution_count": null,
   "id": "1f26b5c0",
   "metadata": {},
   "outputs": [],
   "source": [
    "#bark the dog setting an action to a new method and reason of barking\n",
    "class Dog:\n",
    "    def __init__(self,breed):\n",
    "        self.breed = breed\n",
    "    def bark(self,reason):\n",
    "        print(\"WOOFWWOOOOFWOOOOFWOOOOOF, I want {}\".format(reason))\n",
    "    \n",
    "dog1=Dog(breed='lad')\n",
    "print(dog1.breed)\n",
    "dog1.bark(\"food\")"
   ]
  },
  {
   "cell_type": "code",
   "execution_count": null,
   "id": "37d5819c",
   "metadata": {},
   "outputs": [],
   "source": [
    "#print area of a circle\n",
    "pi=3.14\n",
    "def area_of_circle(pi,r):\n",
    "    return pi*r**2\n",
    "\n",
    "               "
   ]
  },
  {
   "cell_type": "code",
   "execution_count": null,
   "id": "2558e960",
   "metadata": {},
   "outputs": [],
   "source": [
    "area_of_circle(pi,14)"
   ]
  },
  {
   "cell_type": "code",
   "execution_count": null,
   "id": "82e99b08",
   "metadata": {},
   "outputs": [],
   "source": [
    "#print area of a circle\n",
    "class Circle():\n",
    "    pi=3.14\n",
    "\n",
    "    def __init__(self,radius=14):\n",
    "        self.radius=radius\n",
    "    def get_area(self):\n",
    "        return self.radius*self.pi*2"
   ]
  },
  {
   "cell_type": "code",
   "execution_count": null,
   "id": "81912a04",
   "metadata": {},
   "outputs": [],
   "source": [
    "circle1=Circle()\n",
    "circle1.get_area()"
   ]
  },
  {
   "cell_type": "code",
   "execution_count": null,
   "id": "d643f1b4",
   "metadata": {},
   "outputs": [],
   "source": [
    "#print area of a circle\n",
    "class Circle():\n",
    "    pi=3.14\n",
    "\n",
    "    def __init__(self,radius=14):\n",
    "        self.radius=radius\n",
    "        self.area=radius*radius*Circle.pi\n",
    "        #self.area=radius*radius*self.pi\n",
    "    def get_area(self):\n",
    "        return self.radius*Circle.pi*2"
   ]
  },
  {
   "cell_type": "code",
   "execution_count": null,
   "id": "ee2d1b97",
   "metadata": {},
   "outputs": [],
   "source": [
    "circle1=Circle()\n",
    "circle1.get_area()"
   ]
  },
  {
   "cell_type": "markdown",
   "id": "c014a7b5",
   "metadata": {},
   "source": [
    "# Inheritence"
   ]
  },
  {
   "cell_type": "code",
   "execution_count": null,
   "id": "6fbb9736",
   "metadata": {},
   "outputs": [],
   "source": [
    "#single level inheritence\n",
    "\n",
    "class University():\n",
    "    def library(self):\n",
    "        print(\"Have access to libraray\")\n",
    "class Student(University):\n",
    "    def exam(self):\n",
    "        print(\"Have access to exam hall\")\n",
    "\n",
    "#university1=University()\n",
    "#university1.library()\n",
    "student1=Student()\n",
    "student1.exam()\n",
    "student1.library()"
   ]
  },
  {
   "cell_type": "code",
   "execution_count": null,
   "id": "fc2e860f",
   "metadata": {},
   "outputs": [],
   "source": [
    "#multilevel level inheritence\n",
    "\n",
    "class University():\n",
    "    def library(self):\n",
    "        print(\"Have access to libraray\")\n",
    "class Student(University):\n",
    "    def exam(self):\n",
    "        print(\"Have access to exam hall\")\n",
    "class Teacher(Student):\n",
    "    def locker(self):\n",
    "        print(\"Have access to locker room\")\n",
    "    \n",
    "\n",
    "#university1=University()\n",
    "#university1.library()\n",
    "#student1=Student()\n",
    "#student1.exam()\n",
    "#student1.library()\n",
    "teacher1=Teacher()\n",
    "teacher1.exam()\n",
    "teacher1.library()\n",
    "teacher1.locker()"
   ]
  },
  {
   "cell_type": "code",
   "execution_count": null,
   "id": "258caaae",
   "metadata": {},
   "outputs": [],
   "source": [
    "#multiple inheritence\n",
    "#multilevel level inheritence\n",
    "\n",
    "class University():\n",
    "    def library(self):\n",
    "        print(\"Have access to libraray\")\n",
    "class Student():\n",
    "    def exam(self):\n",
    "        print(\"Have access to exam hall\")\n",
    "class Teacher(Student,University):\n",
    "    def locker(self):\n",
    "        print(\"Have access to locker room\")\n",
    "    \n",
    "\n",
    "#university1=University()\n",
    "#university1.library()\n",
    "#student1=Student()\n",
    "student1.exam()\n",
    "#student1.library()\n",
    "teacher1=Teacher()\n",
    "teacher1.exam()\n",
    "teacher1.library()\n",
    "teacher1.locker()"
   ]
  },
  {
   "cell_type": "markdown",
   "id": "93358811",
   "metadata": {},
   "source": [
    "# Polymorphism"
   ]
  },
  {
   "cell_type": "code",
   "execution_count": null,
   "id": "e4c6b6bd",
   "metadata": {},
   "outputs": [],
   "source": [
    "class Dog:\n",
    "    def __init__(self,name):\n",
    "        self.name=name\n",
    "    def speak(self):\n",
    "        return (f'{self.name} says wooofwooof')\n",
    "class Cat:\n",
    "    def __init__(self,name):\n",
    "        self.name=name\n",
    "    def speak(self):\n",
    "        return (f'{self.name} says meowmeoow')\n",
    "    "
   ]
  },
  {
   "cell_type": "code",
   "execution_count": null,
   "id": "ee473dbc",
   "metadata": {},
   "outputs": [],
   "source": [
    "dog1=Dog(\"niloy\")\n",
    "cat1=Cat(\"felu\")"
   ]
  },
  {
   "cell_type": "code",
   "execution_count": null,
   "id": "8d100bf9",
   "metadata": {},
   "outputs": [],
   "source": [
    "dog1.speak()\n"
   ]
  },
  {
   "cell_type": "code",
   "execution_count": null,
   "id": "44cba40d",
   "metadata": {},
   "outputs": [],
   "source": [
    "cat1.speak()"
   ]
  },
  {
   "cell_type": "code",
   "execution_count": null,
   "id": "f0349154",
   "metadata": {},
   "outputs": [],
   "source": [
    "for pet in [dog1,cat1]:\n",
    "    print (pet.speak())\n",
    "\n"
   ]
  },
  {
   "cell_type": "markdown",
   "id": "96ed5344",
   "metadata": {},
   "source": [
    "# sleep()\n",
    "\n",
    "sleep() method is used to stop execution for a certain amount of time"
   ]
  },
  {
   "cell_type": "code",
   "execution_count": null,
   "id": "3cd61807",
   "metadata": {},
   "outputs": [],
   "source": [
    "import time\n",
    "for i in range(11):\n",
    "    print(i)\n",
    "    if(i==5):\n",
    "        time.sleep(5)"
   ]
  }
 ],
 "metadata": {
  "kernelspec": {
   "display_name": "Python 3 (ipykernel)",
   "language": "python",
   "name": "python3"
  },
  "language_info": {
   "codemirror_mode": {
    "name": "ipython",
    "version": 3
   },
   "file_extension": ".py",
   "mimetype": "text/x-python",
   "name": "python",
   "nbconvert_exporter": "python",
   "pygments_lexer": "ipython3",
   "version": "3.13.1"
  }
 },
 "nbformat": 4,
 "nbformat_minor": 5
}
